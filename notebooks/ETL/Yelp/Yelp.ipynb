{
 "cells": [
  {
   "cell_type": "markdown",
   "metadata": {},
   "source": [
    "lo mismo aca, tratar de juntar toda la info en un solo etl general de yelp. decidir en grupo como empezar que poner etc"
   ]
  }
 ],
 "metadata": {
  "language_info": {
   "name": "python"
  }
 },
 "nbformat": 4,
 "nbformat_minor": 2
}
