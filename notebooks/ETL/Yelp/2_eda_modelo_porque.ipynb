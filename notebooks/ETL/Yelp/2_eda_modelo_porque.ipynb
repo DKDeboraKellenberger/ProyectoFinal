{
 "cells": [
  {
   "cell_type": "code",
   "execution_count": null,
   "metadata": {
    "colab": {
     "base_uri": "https://localhost:8080/"
    },
    "executionInfo": {
     "elapsed": 19256,
     "status": "ok",
     "timestamp": 1731706529097,
     "user": {
      "displayName": "Aliskair Rodríguez",
      "userId": "18238624046305613189"
     },
     "user_tz": 240
    },
    "id": "oKHQ4Sz_GXR6",
    "outputId": "8768c216-0e8c-497d-d778-736431e24d50"
   },
   "outputs": [
    {
     "name": "stdout",
     "output_type": "stream",
     "text": [
      "Mounted at /content/drive\n",
      "/content/drive/MyDrive/Bootcamp_Henry/pro_final\n"
     ]
    }
   ],
   "source": [
    "# from google.colab import drive\n",
    "# import os\n",
    "# drive.mount('/content/drive')\n",
    "# os.chdir(\"drive/MyDrive/Bootcamp_Henry/pro_final\")\n",
    "# print(os.getcwd())"
   ]
  },
  {
   "cell_type": "markdown",
   "metadata": {
    "id": "tHStqJFf-Tol"
   },
   "source": [
    "# **Objetivo del Cuaderno Jupyter**\n",
    "- Observar la Distribución de los Negoicos, tanto por Estados como por Categorías a fin de tomar decisión de que datos tomar en cuenta para el Modelo.\n",
    "- Tomar en cuenta que la LIMPIEZA de los datos se realizó en el cuaderno 1_etl_y_filtrado_yelp.ipynb"
   ]
  },
  {
   "cell_type": "markdown",
   "metadata": {},
   "source": [
    "Importaando Librerías"
   ]
  },
  {
   "cell_type": "code",
   "execution_count": 1,
   "metadata": {
    "executionInfo": {
     "elapsed": 1977,
     "status": "ok",
     "timestamp": 1731706534446,
     "user": {
      "displayName": "Aliskair Rodríguez",
      "userId": "18238624046305613189"
     },
     "user_tz": 240
    },
    "id": "Xq1h5OuEGmmE"
   },
   "outputs": [],
   "source": [
    "import pandas as pd\n",
    "import plotly.express as px"
   ]
  },
  {
   "cell_type": "markdown",
   "metadata": {},
   "source": [
    "Cargando los Dataframes"
   ]
  },
  {
   "cell_type": "code",
   "execution_count": null,
   "metadata": {
    "executionInfo": {
     "elapsed": 3764,
     "status": "ok",
     "timestamp": 1731708661332,
     "user": {
      "displayName": "Aliskair Rodríguez",
      "userId": "18238624046305613189"
     },
     "user_tz": 240
    },
    "id": "PqBhutBeGqCV"
   },
   "outputs": [],
   "source": [
    "user = pd.read_parquet('datasets/yelp/filtrados/y_user.parquet')\n",
    "business = pd.read_parquet('datasets/yelp/filtrados/y_business.parquet')\n",
    "reviews = pd.read_parquet('datasets/yelp/filtrados/y_reviews.parquet')\n",
    "categorias = pd.read_parquet('datasets/categorias/y_categories_business.parquet')"
   ]
  },
  {
   "cell_type": "markdown",
   "metadata": {},
   "source": [
    "Revisando cuando estados disponen de Data"
   ]
  },
  {
   "cell_type": "code",
   "execution_count": null,
   "metadata": {
    "colab": {
     "base_uri": "https://localhost:8080/"
    },
    "executionInfo": {
     "elapsed": 212,
     "status": "ok",
     "timestamp": 1731706617666,
     "user": {
      "displayName": "Aliskair Rodríguez",
      "userId": "18238624046305613189"
     },
     "user_tz": 240
    },
    "id": "RFeiCvUQG6LL",
    "outputId": "6fd30bb2-11ad-4773-f979-3a4d6845d7a3"
   },
   "outputs": [
    {
     "data": {
      "text/plain": [
       "['PA',\n",
       " 'TN',\n",
       " 'MO',\n",
       " 'FL',\n",
       " 'IN',\n",
       " 'NV',\n",
       " 'IL',\n",
       " 'AZ',\n",
       " 'LA',\n",
       " 'CA',\n",
       " 'DE',\n",
       " 'ID',\n",
       " 'NC',\n",
       " 'CO',\n",
       " 'MT',\n",
       " 'MD',\n",
       " 'UT',\n",
       " 'MI',\n",
       " 'TX']"
      ]
     },
     "execution_count": 7,
     "metadata": {},
     "output_type": "execute_result"
    }
   ],
   "source": [
    "lista_estados = business['state'].unique().tolist()\n",
    "lista_estados"
   ]
  },
  {
   "cell_type": "code",
   "execution_count": 6,
   "metadata": {
    "colab": {
     "base_uri": "https://localhost:8080/"
    },
    "executionInfo": {
     "elapsed": 534,
     "status": "ok",
     "timestamp": 1731706747809,
     "user": {
      "displayName": "Aliskair Rodríguez",
      "userId": "18238624046305613189"
     },
     "user_tz": 240
    },
    "id": "q-tbFx-ww0GM",
    "outputId": "a7cd4800-1e04-4793-aae0-0b5bc7b2fd90"
   },
   "outputs": [
    {
     "name": "stdout",
     "output_type": "stream",
     "text": [
      "Cantidad de Negocios en PA --> 16020\n",
      "Cantidad de Negocios en TN --> 5535\n",
      "Cantidad de Negocios en MO --> 5330\n",
      "Cantidad de Negocios en FL --> 11468\n",
      "Cantidad de Negocios en IN --> 5323\n",
      "Cantidad de Negocios en NV --> 2454\n",
      "Cantidad de Negocios en IL --> 1209\n",
      "Cantidad de Negocios en AZ --> 3572\n",
      "Cantidad de Negocios en LA --> 4949\n",
      "Cantidad de Negocios en CA --> 1734\n",
      "Cantidad de Negocios en DE --> 1163\n",
      "Cantidad de Negocios en ID --> 1777\n",
      "Cantidad de Negocios en NC --> 3\n",
      "Cantidad de Negocios en CO --> 1\n",
      "Cantidad de Negocios en MT --> 1\n",
      "Cantidad de Negocios en MD --> 1\n",
      "Cantidad de Negocios en UT --> 1\n",
      "Cantidad de Negocios en MI --> 1\n",
      "Cantidad de Negocios en TX --> 1\n"
     ]
    }
   ],
   "source": [
    "for estado in lista_estados:\n",
    "  print(f'Cantidad de Negocios en {estado} --> {business[business[\"state\"] == estado].shape[0]}')"
   ]
  },
  {
   "cell_type": "markdown",
   "metadata": {
    "id": "toOkBb15xChW"
   },
   "source": [
    "El objetivo como Equipo que tenemos con respecto al Modelo de Recomendación es quedarnos con TODA la DATA de todos los Estado y que el modelo trabaje en todos ellos.  Ahora No tiene Sentido quedarnos con estados que sólo tienen 1 ó 3 Negocios solamente para Recomendar... Nos quedaremos con TODOS los estados EXCEPTO los 7 estados que en la Impresión anterior se aprecia NO TIENEN SUFICIENTES NEGOCIOS"
   ]
  },
  {
   "cell_type": "code",
   "execution_count": null,
   "metadata": {
    "id": "SKEyRI_9xrco"
   },
   "outputs": [],
   "source": [
    "estados_a_eliminar = ['NC', 'CO', 'MT', 'MD', 'UT', 'MI', 'TX']\n",
    "for estado in estados_a_eliminar:\n",
    "  lista_estados.remove(estado)\n",
    "\n",
    "# Eliminando los estados que tienen 3 o 1 Negocio solamente\n",
    "mask = business['state'].isin(lista_estados)\n",
    "business = business[mask]"
   ]
  },
  {
   "cell_type": "markdown",
   "metadata": {
    "id": "qcADarAryNlX"
   },
   "source": [
    "Como Quedarian los Negocios, Usuarios y Reseñas distribuidas a lo largo de estos 12 Estados"
   ]
  },
  {
   "cell_type": "code",
   "execution_count": 16,
   "metadata": {
    "colab": {
     "base_uri": "https://localhost:8080/"
    },
    "executionInfo": {
     "elapsed": 3195,
     "status": "ok",
     "timestamp": 1731082431731,
     "user": {
      "displayName": "Aliskair Rodríguez",
      "userId": "18238624046305613189"
     },
     "user_tz": 240
    },
    "id": "EbDZmd8LG7fx",
    "outputId": "cfc3bd41-19c8-446e-9367-4da9de107af4"
   },
   "outputs": [
    {
     "name": "stdout",
     "output_type": "stream",
     "text": [
      "En el estado Pennsylvania hay 16020 Negocios\n",
      "Hay 79165 reviews  en el estado PA\n",
      "Hay 40434 usuarios en el estado PA\n",
      "**********************************************************************\n",
      "En el estado Tennessee hay 5535 Negocios\n",
      "Hay 51833 reviews  en el estado TN\n",
      "Hay 28631 usuarios en el estado TN\n",
      "**********************************************************************\n",
      "En el estado Missouri hay 5330 Negocios\n",
      "Hay 32998 reviews  en el estado MO\n",
      "Hay 16942 usuarios en el estado MO\n",
      "**********************************************************************\n",
      "En el estado Florida hay 11468 Negocios\n",
      "Hay 103629 reviews  en el estado FL\n",
      "Hay 51352 usuarios en el estado FL\n",
      "**********************************************************************\n",
      "En el estado Indiana hay 5323 Negocios\n",
      "Hay 40198 reviews  en el estado IN\n",
      "Hay 16540 usuarios en el estado IN\n",
      "**********************************************************************\n",
      "En el estado Nevada hay 2454 Negocios\n",
      "Hay 30853 reviews  en el estado NV\n",
      "Hay 15718 usuarios en el estado NV\n",
      "**********************************************************************\n",
      "En el estado Illinois hay 1209 Negocios\n",
      "Hay 3742 reviews  en el estado IL\n",
      "Hay 2430 usuarios en el estado IL\n",
      "**********************************************************************\n",
      "En el estado Arizona hay 3572 Negocios\n",
      "Hay 29290 reviews  en el estado AZ\n",
      "Hay 15128 usuarios en el estado AZ\n",
      "**********************************************************************\n",
      "En el estado Louisiana hay 4949 Negocios\n",
      "Hay 46247 reviews  en el estado LA\n",
      "Hay 22916 usuarios en el estado LA\n",
      "**********************************************************************\n",
      "En el estado California hay 1734 Negocios\n",
      "Hay 23111 reviews  en el estado CA\n",
      "Hay 14518 usuarios en el estado CA\n",
      "**********************************************************************\n",
      "En el estado Delaware hay 1163 Negocios\n",
      "Hay 4814 reviews  en el estado DE\n",
      "Hay 3185 usuarios en el estado DE\n",
      "**********************************************************************\n",
      "En el estado Idaho hay 1777 Negocios\n",
      "Hay 13592 reviews  en el estado ID\n",
      "Hay 7629 usuarios en el estado ID\n",
      "**********************************************************************\n"
     ]
    }
   ],
   "source": [
    "states = {\n",
    "    \"AZ\": \"Arizona\",\n",
    "    \"CA\": \"California\",\n",
    "    \"CO\": \"Colorado\",\n",
    "    \"DE\": \"Delaware\",\n",
    "    \"FL\": \"Florida\",\n",
    "    \"GA\": \"Georgia\",\n",
    "    \"ID\": \"Idaho\",\n",
    "    \"IL\": \"Illinois\",\n",
    "    \"IN\": \"Indiana\",\n",
    "    \"LA\": \"Louisiana\",\n",
    "    \"MD\": \"Maryland\",\n",
    "    \"MI\": \"Michigan\",\n",
    "    \"MO\": \"Missouri\",\n",
    "    \"NV\": \"Nevada\",\n",
    "    \"PA\": \"Pennsylvania\",\n",
    "    \"TN\": \"Tennessee\",\n",
    "    \"NC\": \"North Carolina\",\n",
    "    \"MT\": \"Montana\",\n",
    "    \"UT\": \"Utah\",\n",
    "    \"TX\": \"Texas\",\n",
    " }\n",
    "data = []\n",
    "for estado in lista_estados:\n",
    "  diccionario = {}\n",
    "  diccionario['Estado'] = states[estado]\n",
    "  mask = business['state'] == estado\n",
    "  print(f'En el estado {states[estado]} hay {business.loc[mask].shape[0]} Negocios')\n",
    "  lista_business = business.loc[mask]['business_id'].unique().tolist()\n",
    "  diccionario['Negocios'] = len(lista_business)\n",
    "\n",
    "  mask = reviews['business_id'].isin(lista_business)\n",
    "  print(f'Hay {reviews.loc[mask].shape[0]} reviews  en el estado {estado}')\n",
    "  lista_usuarios = reviews.loc[mask]['user_id'].unique().tolist()\n",
    "  diccionario['Reseñas'] = reviews.loc[mask].shape[0]\n",
    "\n",
    "  mask = user['user_id'].isin(lista_usuarios)\n",
    "  print(f'Hay {user.loc[mask].shape[0]} usuarios en el estado {estado}')\n",
    "  diccionario['Usuarios'] = user.loc[mask].shape[0]\n",
    "  data.append(diccionario)\n",
    "  print(\"*\"*70)"
   ]
  },
  {
   "cell_type": "code",
   "execution_count": 17,
   "metadata": {
    "colab": {
     "base_uri": "https://localhost:8080/",
     "height": 542
    },
    "executionInfo": {
     "elapsed": 2853,
     "status": "ok",
     "timestamp": 1731082439501,
     "user": {
      "displayName": "Aliskair Rodríguez",
      "userId": "18238624046305613189"
     },
     "user_tz": 240
    },
    "id": "oHK6rqQpIhzQ",
    "outputId": "19a4a0ed-2953-4f46-a769-1c98c8a1b350"
   },
   "outputs": [
    {
     "data": {
      "application/vnd.plotly.v1+json": {
       "config": {
        "plotlyServerURL": "https://plot.ly"
       },
       "data": [
        {
         "alignmentgroup": "True",
         "hovertemplate": "Categoria=Negocios<br>Estado=%{x}<br>Cantidad=%{y}<extra></extra>",
         "legendgroup": "Negocios",
         "marker": {
          "color": "#636efa",
          "pattern": {
           "shape": ""
          }
         },
         "name": "Negocios",
         "offsetgroup": "Negocios",
         "orientation": "v",
         "showlegend": true,
         "textposition": "auto",
         "type": "bar",
         "x": [
          "Pennsylvania",
          "Tennessee",
          "Missouri",
          "Florida",
          "Indiana",
          "Nevada",
          "Illinois",
          "Arizona",
          "Louisiana",
          "California",
          "Delaware",
          "Idaho"
         ],
         "xaxis": "x",
         "y": [
          16020,
          5535,
          5330,
          11468,
          5323,
          2454,
          1209,
          3572,
          4949,
          1734,
          1163,
          1777
         ],
         "yaxis": "y"
        },
        {
         "alignmentgroup": "True",
         "hovertemplate": "Categoria=Usuarios<br>Estado=%{x}<br>Cantidad=%{y}<extra></extra>",
         "legendgroup": "Usuarios",
         "marker": {
          "color": "#EF553B",
          "pattern": {
           "shape": ""
          }
         },
         "name": "Usuarios",
         "offsetgroup": "Usuarios",
         "orientation": "v",
         "showlegend": true,
         "textposition": "auto",
         "type": "bar",
         "x": [
          "Pennsylvania",
          "Tennessee",
          "Missouri",
          "Florida",
          "Indiana",
          "Nevada",
          "Illinois",
          "Arizona",
          "Louisiana",
          "California",
          "Delaware",
          "Idaho"
         ],
         "xaxis": "x",
         "y": [
          40434,
          28631,
          16942,
          51352,
          16540,
          15718,
          2430,
          15128,
          22916,
          14518,
          3185,
          7629
         ],
         "yaxis": "y"
        },
        {
         "alignmentgroup": "True",
         "hovertemplate": "Categoria=Reseñas<br>Estado=%{x}<br>Cantidad=%{y}<extra></extra>",
         "legendgroup": "Reseñas",
         "marker": {
          "color": "#00cc96",
          "pattern": {
           "shape": ""
          }
         },
         "name": "Reseñas",
         "offsetgroup": "Reseñas",
         "orientation": "v",
         "showlegend": true,
         "textposition": "auto",
         "type": "bar",
         "x": [
          "Pennsylvania",
          "Tennessee",
          "Missouri",
          "Florida",
          "Indiana",
          "Nevada",
          "Illinois",
          "Arizona",
          "Louisiana",
          "California",
          "Delaware",
          "Idaho"
         ],
         "xaxis": "x",
         "y": [
          79165,
          51833,
          32998,
          103629,
          40198,
          30853,
          3742,
          29290,
          46247,
          23111,
          4814,
          13592
         ],
         "yaxis": "y"
        }
       ],
       "layout": {
        "barmode": "group",
        "legend": {
         "title": {
          "text": "Categoria"
         },
         "tracegroupgap": 0
        },
        "template": {
         "data": {
          "bar": [
           {
            "error_x": {
             "color": "#2a3f5f"
            },
            "error_y": {
             "color": "#2a3f5f"
            },
            "marker": {
             "line": {
              "color": "#E5ECF6",
              "width": 0.5
             },
             "pattern": {
              "fillmode": "overlay",
              "size": 10,
              "solidity": 0.2
             }
            },
            "type": "bar"
           }
          ],
          "barpolar": [
           {
            "marker": {
             "line": {
              "color": "#E5ECF6",
              "width": 0.5
             },
             "pattern": {
              "fillmode": "overlay",
              "size": 10,
              "solidity": 0.2
             }
            },
            "type": "barpolar"
           }
          ],
          "carpet": [
           {
            "aaxis": {
             "endlinecolor": "#2a3f5f",
             "gridcolor": "white",
             "linecolor": "white",
             "minorgridcolor": "white",
             "startlinecolor": "#2a3f5f"
            },
            "baxis": {
             "endlinecolor": "#2a3f5f",
             "gridcolor": "white",
             "linecolor": "white",
             "minorgridcolor": "white",
             "startlinecolor": "#2a3f5f"
            },
            "type": "carpet"
           }
          ],
          "choropleth": [
           {
            "colorbar": {
             "outlinewidth": 0,
             "ticks": ""
            },
            "type": "choropleth"
           }
          ],
          "contour": [
           {
            "colorbar": {
             "outlinewidth": 0,
             "ticks": ""
            },
            "colorscale": [
             [
              0,
              "#0d0887"
             ],
             [
              0.1111111111111111,
              "#46039f"
             ],
             [
              0.2222222222222222,
              "#7201a8"
             ],
             [
              0.3333333333333333,
              "#9c179e"
             ],
             [
              0.4444444444444444,
              "#bd3786"
             ],
             [
              0.5555555555555556,
              "#d8576b"
             ],
             [
              0.6666666666666666,
              "#ed7953"
             ],
             [
              0.7777777777777778,
              "#fb9f3a"
             ],
             [
              0.8888888888888888,
              "#fdca26"
             ],
             [
              1,
              "#f0f921"
             ]
            ],
            "type": "contour"
           }
          ],
          "contourcarpet": [
           {
            "colorbar": {
             "outlinewidth": 0,
             "ticks": ""
            },
            "type": "contourcarpet"
           }
          ],
          "heatmap": [
           {
            "colorbar": {
             "outlinewidth": 0,
             "ticks": ""
            },
            "colorscale": [
             [
              0,
              "#0d0887"
             ],
             [
              0.1111111111111111,
              "#46039f"
             ],
             [
              0.2222222222222222,
              "#7201a8"
             ],
             [
              0.3333333333333333,
              "#9c179e"
             ],
             [
              0.4444444444444444,
              "#bd3786"
             ],
             [
              0.5555555555555556,
              "#d8576b"
             ],
             [
              0.6666666666666666,
              "#ed7953"
             ],
             [
              0.7777777777777778,
              "#fb9f3a"
             ],
             [
              0.8888888888888888,
              "#fdca26"
             ],
             [
              1,
              "#f0f921"
             ]
            ],
            "type": "heatmap"
           }
          ],
          "heatmapgl": [
           {
            "colorbar": {
             "outlinewidth": 0,
             "ticks": ""
            },
            "colorscale": [
             [
              0,
              "#0d0887"
             ],
             [
              0.1111111111111111,
              "#46039f"
             ],
             [
              0.2222222222222222,
              "#7201a8"
             ],
             [
              0.3333333333333333,
              "#9c179e"
             ],
             [
              0.4444444444444444,
              "#bd3786"
             ],
             [
              0.5555555555555556,
              "#d8576b"
             ],
             [
              0.6666666666666666,
              "#ed7953"
             ],
             [
              0.7777777777777778,
              "#fb9f3a"
             ],
             [
              0.8888888888888888,
              "#fdca26"
             ],
             [
              1,
              "#f0f921"
             ]
            ],
            "type": "heatmapgl"
           }
          ],
          "histogram": [
           {
            "marker": {
             "pattern": {
              "fillmode": "overlay",
              "size": 10,
              "solidity": 0.2
             }
            },
            "type": "histogram"
           }
          ],
          "histogram2d": [
           {
            "colorbar": {
             "outlinewidth": 0,
             "ticks": ""
            },
            "colorscale": [
             [
              0,
              "#0d0887"
             ],
             [
              0.1111111111111111,
              "#46039f"
             ],
             [
              0.2222222222222222,
              "#7201a8"
             ],
             [
              0.3333333333333333,
              "#9c179e"
             ],
             [
              0.4444444444444444,
              "#bd3786"
             ],
             [
              0.5555555555555556,
              "#d8576b"
             ],
             [
              0.6666666666666666,
              "#ed7953"
             ],
             [
              0.7777777777777778,
              "#fb9f3a"
             ],
             [
              0.8888888888888888,
              "#fdca26"
             ],
             [
              1,
              "#f0f921"
             ]
            ],
            "type": "histogram2d"
           }
          ],
          "histogram2dcontour": [
           {
            "colorbar": {
             "outlinewidth": 0,
             "ticks": ""
            },
            "colorscale": [
             [
              0,
              "#0d0887"
             ],
             [
              0.1111111111111111,
              "#46039f"
             ],
             [
              0.2222222222222222,
              "#7201a8"
             ],
             [
              0.3333333333333333,
              "#9c179e"
             ],
             [
              0.4444444444444444,
              "#bd3786"
             ],
             [
              0.5555555555555556,
              "#d8576b"
             ],
             [
              0.6666666666666666,
              "#ed7953"
             ],
             [
              0.7777777777777778,
              "#fb9f3a"
             ],
             [
              0.8888888888888888,
              "#fdca26"
             ],
             [
              1,
              "#f0f921"
             ]
            ],
            "type": "histogram2dcontour"
           }
          ],
          "mesh3d": [
           {
            "colorbar": {
             "outlinewidth": 0,
             "ticks": ""
            },
            "type": "mesh3d"
           }
          ],
          "parcoords": [
           {
            "line": {
             "colorbar": {
              "outlinewidth": 0,
              "ticks": ""
             }
            },
            "type": "parcoords"
           }
          ],
          "pie": [
           {
            "automargin": true,
            "type": "pie"
           }
          ],
          "scatter": [
           {
            "fillpattern": {
             "fillmode": "overlay",
             "size": 10,
             "solidity": 0.2
            },
            "type": "scatter"
           }
          ],
          "scatter3d": [
           {
            "line": {
             "colorbar": {
              "outlinewidth": 0,
              "ticks": ""
             }
            },
            "marker": {
             "colorbar": {
              "outlinewidth": 0,
              "ticks": ""
             }
            },
            "type": "scatter3d"
           }
          ],
          "scattercarpet": [
           {
            "marker": {
             "colorbar": {
              "outlinewidth": 0,
              "ticks": ""
             }
            },
            "type": "scattercarpet"
           }
          ],
          "scattergeo": [
           {
            "marker": {
             "colorbar": {
              "outlinewidth": 0,
              "ticks": ""
             }
            },
            "type": "scattergeo"
           }
          ],
          "scattergl": [
           {
            "marker": {
             "colorbar": {
              "outlinewidth": 0,
              "ticks": ""
             }
            },
            "type": "scattergl"
           }
          ],
          "scattermapbox": [
           {
            "marker": {
             "colorbar": {
              "outlinewidth": 0,
              "ticks": ""
             }
            },
            "type": "scattermapbox"
           }
          ],
          "scatterpolar": [
           {
            "marker": {
             "colorbar": {
              "outlinewidth": 0,
              "ticks": ""
             }
            },
            "type": "scatterpolar"
           }
          ],
          "scatterpolargl": [
           {
            "marker": {
             "colorbar": {
              "outlinewidth": 0,
              "ticks": ""
             }
            },
            "type": "scatterpolargl"
           }
          ],
          "scatterternary": [
           {
            "marker": {
             "colorbar": {
              "outlinewidth": 0,
              "ticks": ""
             }
            },
            "type": "scatterternary"
           }
          ],
          "surface": [
           {
            "colorbar": {
             "outlinewidth": 0,
             "ticks": ""
            },
            "colorscale": [
             [
              0,
              "#0d0887"
             ],
             [
              0.1111111111111111,
              "#46039f"
             ],
             [
              0.2222222222222222,
              "#7201a8"
             ],
             [
              0.3333333333333333,
              "#9c179e"
             ],
             [
              0.4444444444444444,
              "#bd3786"
             ],
             [
              0.5555555555555556,
              "#d8576b"
             ],
             [
              0.6666666666666666,
              "#ed7953"
             ],
             [
              0.7777777777777778,
              "#fb9f3a"
             ],
             [
              0.8888888888888888,
              "#fdca26"
             ],
             [
              1,
              "#f0f921"
             ]
            ],
            "type": "surface"
           }
          ],
          "table": [
           {
            "cells": {
             "fill": {
              "color": "#EBF0F8"
             },
             "line": {
              "color": "white"
             }
            },
            "header": {
             "fill": {
              "color": "#C8D4E3"
             },
             "line": {
              "color": "white"
             }
            },
            "type": "table"
           }
          ]
         },
         "layout": {
          "annotationdefaults": {
           "arrowcolor": "#2a3f5f",
           "arrowhead": 0,
           "arrowwidth": 1
          },
          "autotypenumbers": "strict",
          "coloraxis": {
           "colorbar": {
            "outlinewidth": 0,
            "ticks": ""
           }
          },
          "colorscale": {
           "diverging": [
            [
             0,
             "#8e0152"
            ],
            [
             0.1,
             "#c51b7d"
            ],
            [
             0.2,
             "#de77ae"
            ],
            [
             0.3,
             "#f1b6da"
            ],
            [
             0.4,
             "#fde0ef"
            ],
            [
             0.5,
             "#f7f7f7"
            ],
            [
             0.6,
             "#e6f5d0"
            ],
            [
             0.7,
             "#b8e186"
            ],
            [
             0.8,
             "#7fbc41"
            ],
            [
             0.9,
             "#4d9221"
            ],
            [
             1,
             "#276419"
            ]
           ],
           "sequential": [
            [
             0,
             "#0d0887"
            ],
            [
             0.1111111111111111,
             "#46039f"
            ],
            [
             0.2222222222222222,
             "#7201a8"
            ],
            [
             0.3333333333333333,
             "#9c179e"
            ],
            [
             0.4444444444444444,
             "#bd3786"
            ],
            [
             0.5555555555555556,
             "#d8576b"
            ],
            [
             0.6666666666666666,
             "#ed7953"
            ],
            [
             0.7777777777777778,
             "#fb9f3a"
            ],
            [
             0.8888888888888888,
             "#fdca26"
            ],
            [
             1,
             "#f0f921"
            ]
           ],
           "sequentialminus": [
            [
             0,
             "#0d0887"
            ],
            [
             0.1111111111111111,
             "#46039f"
            ],
            [
             0.2222222222222222,
             "#7201a8"
            ],
            [
             0.3333333333333333,
             "#9c179e"
            ],
            [
             0.4444444444444444,
             "#bd3786"
            ],
            [
             0.5555555555555556,
             "#d8576b"
            ],
            [
             0.6666666666666666,
             "#ed7953"
            ],
            [
             0.7777777777777778,
             "#fb9f3a"
            ],
            [
             0.8888888888888888,
             "#fdca26"
            ],
            [
             1,
             "#f0f921"
            ]
           ]
          },
          "colorway": [
           "#636efa",
           "#EF553B",
           "#00cc96",
           "#ab63fa",
           "#FFA15A",
           "#19d3f3",
           "#FF6692",
           "#B6E880",
           "#FF97FF",
           "#FECB52"
          ],
          "font": {
           "color": "#2a3f5f"
          },
          "geo": {
           "bgcolor": "white",
           "lakecolor": "white",
           "landcolor": "#E5ECF6",
           "showlakes": true,
           "showland": true,
           "subunitcolor": "white"
          },
          "hoverlabel": {
           "align": "left"
          },
          "hovermode": "closest",
          "mapbox": {
           "style": "light"
          },
          "paper_bgcolor": "white",
          "plot_bgcolor": "#E5ECF6",
          "polar": {
           "angularaxis": {
            "gridcolor": "white",
            "linecolor": "white",
            "ticks": ""
           },
           "bgcolor": "#E5ECF6",
           "radialaxis": {
            "gridcolor": "white",
            "linecolor": "white",
            "ticks": ""
           }
          },
          "scene": {
           "xaxis": {
            "backgroundcolor": "#E5ECF6",
            "gridcolor": "white",
            "gridwidth": 2,
            "linecolor": "white",
            "showbackground": true,
            "ticks": "",
            "zerolinecolor": "white"
           },
           "yaxis": {
            "backgroundcolor": "#E5ECF6",
            "gridcolor": "white",
            "gridwidth": 2,
            "linecolor": "white",
            "showbackground": true,
            "ticks": "",
            "zerolinecolor": "white"
           },
           "zaxis": {
            "backgroundcolor": "#E5ECF6",
            "gridcolor": "white",
            "gridwidth": 2,
            "linecolor": "white",
            "showbackground": true,
            "ticks": "",
            "zerolinecolor": "white"
           }
          },
          "shapedefaults": {
           "line": {
            "color": "#2a3f5f"
           }
          },
          "ternary": {
           "aaxis": {
            "gridcolor": "white",
            "linecolor": "white",
            "ticks": ""
           },
           "baxis": {
            "gridcolor": "white",
            "linecolor": "white",
            "ticks": ""
           },
           "bgcolor": "#E5ECF6",
           "caxis": {
            "gridcolor": "white",
            "linecolor": "white",
            "ticks": ""
           }
          },
          "title": {
           "x": 0.05
          },
          "xaxis": {
           "automargin": true,
           "gridcolor": "white",
           "linecolor": "white",
           "ticks": "",
           "title": {
            "standoff": 15
           },
           "zerolinecolor": "white",
           "zerolinewidth": 2
          },
          "yaxis": {
           "automargin": true,
           "gridcolor": "white",
           "linecolor": "white",
           "ticks": "",
           "title": {
            "standoff": 15
           },
           "zerolinecolor": "white",
           "zerolinewidth": 2
          }
         }
        },
        "title": {
         "text": "Número de Negocios, Usuarios y Reseñas por Estado, en Plataforma YELP a partir del 2021"
        },
        "width": 1200,
        "xaxis": {
         "anchor": "y",
         "domain": [
          0,
          1
         ],
         "title": {
          "text": "Estado"
         }
        },
        "yaxis": {
         "anchor": "x",
         "domain": [
          0,
          1
         ],
         "title": {
          "text": "Cantidad"
         }
        }
       }
      }
     },
     "metadata": {},
     "output_type": "display_data"
    }
   ],
   "source": [
    "df_grafico = pd.DataFrame(data)\n",
    "\n",
    "df_grafico = df_grafico.melt(id_vars='Estado', value_vars=['Negocios', 'Usuarios', 'Reseñas'],\n",
    "                          var_name='Categoria', value_name='Cantidad')\n",
    "\n",
    "fig = px.bar(df_grafico, x='Estado', y='Cantidad', color='Categoria', barmode='group',\n",
    "             title='Número de Negocios, Usuarios y Reseñas por Estado, en Plataforma YELP a partir del 2021', width=1200)\n",
    "\n",
    "fig.show()"
   ]
  },
  {
   "cell_type": "markdown",
   "metadata": {
    "id": "cKH3LyZI4bdf"
   },
   "source": [
    "## Toca Observar como están distribuidos los números en las Categorías seleccionadas dentro del ramo de restaurantes"
   ]
  },
  {
   "cell_type": "code",
   "execution_count": null,
   "metadata": {
    "colab": {
     "base_uri": "https://localhost:8080/"
    },
    "executionInfo": {
     "elapsed": 205,
     "status": "ok",
     "timestamp": 1731708671757,
     "user": {
      "displayName": "Aliskair Rodríguez",
      "userId": "18238624046305613189"
     },
     "user_tz": 240
    },
    "id": "t1LaXn5p2Ji6",
    "outputId": "f7452491-00cf-4685-fcbe-f31568c06cd9"
   },
   "outputs": [
    {
     "data": {
      "text/plain": [
       "['RESTAURANTES GENERAL',\n",
       " 'CAFETERIAS - COMIDAS LIGERAS',\n",
       " 'BARES - CERVECERIAS - TAPAS',\n",
       " 'COMIDA RAPIDA',\n",
       " 'COCINA INTERNACIONAL',\n",
       " 'JAPONESA - ASIATICA',\n",
       " 'GRILL - ASADOS - CARNES',\n",
       " 'MEDITERRANEA',\n",
       " 'PIZZERIAS',\n",
       " 'DIETA - VEGANA - ENSALADAS',\n",
       " 'MEXICANA',\n",
       " 'ROSQUILLAS',\n",
       " 'HELADERIAS',\n",
       " 'BAR DE AMBIENTE']"
      ]
     },
     "execution_count": 11,
     "metadata": {},
     "output_type": "execute_result"
    }
   ],
   "source": [
    "lista_categorias = categorias['category_general'].unique().tolist()\n",
    "\n",
    "lista_categorias"
   ]
  },
  {
   "cell_type": "code",
   "execution_count": 12,
   "metadata": {
    "executionInfo": {
     "elapsed": 413,
     "status": "ok",
     "timestamp": 1731709646429,
     "user": {
      "displayName": "Aliskair Rodríguez",
      "userId": "18238624046305613189"
     },
     "user_tz": 240
    },
    "id": "u-hGtIID4Y9d"
   },
   "outputs": [],
   "source": [
    "data = []\n",
    "for categoria in lista_categorias:\n",
    "  diccionario = {}\n",
    "  diccionario['Categoría'] = categoria\n",
    "  diccionario['Numero de Negocios'] = categorias[categorias['category_general'] == categoria]['business_id'].nunique()\n",
    "  data.append(diccionario)"
   ]
  },
  {
   "cell_type": "code",
   "execution_count": 15,
   "metadata": {
    "colab": {
     "base_uri": "https://localhost:8080/",
     "height": 542
    },
    "executionInfo": {
     "elapsed": 168,
     "status": "ok",
     "timestamp": 1731710169489,
     "user": {
      "displayName": "Aliskair Rodríguez",
      "userId": "18238624046305613189"
     },
     "user_tz": 240
    },
    "id": "t03QAK-X5Sl2",
    "outputId": "dbeabdcb-4425-4abf-8f6b-7fdd28925582"
   },
   "outputs": [
    {
     "data": {
      "application/vnd.plotly.v1+json": {
       "config": {
        "plotlyServerURL": "https://plot.ly"
       },
       "data": [
        {
         "alignmentgroup": "True",
         "hovertemplate": "Categoría=%{x}<br>Numero de Negocios=%{y}<extra></extra>",
         "legendgroup": "",
         "marker": {
          "color": "#636efa",
          "pattern": {
           "shape": ""
          }
         },
         "name": "",
         "offsetgroup": "",
         "orientation": "v",
         "showlegend": false,
         "textposition": "auto",
         "type": "bar",
         "x": [
          "RESTAURANTES GENERAL",
          "CAFETERIAS - COMIDAS LIGERAS",
          "BARES - CERVECERIAS - TAPAS",
          "COMIDA RAPIDA",
          "COCINA INTERNACIONAL",
          "JAPONESA - ASIATICA",
          "GRILL - ASADOS - CARNES",
          "MEDITERRANEA",
          "PIZZERIAS",
          "DIETA - VEGANA - ENSALADAS",
          "MEXICANA",
          "ROSQUILLAS",
          "HELADERIAS",
          "BAR DE AMBIENTE"
         ],
         "xaxis": "x",
         "y": [
          64986,
          28157,
          15451,
          9898,
          15371,
          2930,
          3053,
          3797,
          7093,
          4831,
          4768,
          1097,
          197,
          135
         ],
         "yaxis": "y"
        }
       ],
       "layout": {
        "barmode": "relative",
        "legend": {
         "tracegroupgap": 0
        },
        "template": {
         "data": {
          "bar": [
           {
            "error_x": {
             "color": "#2a3f5f"
            },
            "error_y": {
             "color": "#2a3f5f"
            },
            "marker": {
             "line": {
              "color": "#E5ECF6",
              "width": 0.5
             },
             "pattern": {
              "fillmode": "overlay",
              "size": 10,
              "solidity": 0.2
             }
            },
            "type": "bar"
           }
          ],
          "barpolar": [
           {
            "marker": {
             "line": {
              "color": "#E5ECF6",
              "width": 0.5
             },
             "pattern": {
              "fillmode": "overlay",
              "size": 10,
              "solidity": 0.2
             }
            },
            "type": "barpolar"
           }
          ],
          "carpet": [
           {
            "aaxis": {
             "endlinecolor": "#2a3f5f",
             "gridcolor": "white",
             "linecolor": "white",
             "minorgridcolor": "white",
             "startlinecolor": "#2a3f5f"
            },
            "baxis": {
             "endlinecolor": "#2a3f5f",
             "gridcolor": "white",
             "linecolor": "white",
             "minorgridcolor": "white",
             "startlinecolor": "#2a3f5f"
            },
            "type": "carpet"
           }
          ],
          "choropleth": [
           {
            "colorbar": {
             "outlinewidth": 0,
             "ticks": ""
            },
            "type": "choropleth"
           }
          ],
          "contour": [
           {
            "colorbar": {
             "outlinewidth": 0,
             "ticks": ""
            },
            "colorscale": [
             [
              0,
              "#0d0887"
             ],
             [
              0.1111111111111111,
              "#46039f"
             ],
             [
              0.2222222222222222,
              "#7201a8"
             ],
             [
              0.3333333333333333,
              "#9c179e"
             ],
             [
              0.4444444444444444,
              "#bd3786"
             ],
             [
              0.5555555555555556,
              "#d8576b"
             ],
             [
              0.6666666666666666,
              "#ed7953"
             ],
             [
              0.7777777777777778,
              "#fb9f3a"
             ],
             [
              0.8888888888888888,
              "#fdca26"
             ],
             [
              1,
              "#f0f921"
             ]
            ],
            "type": "contour"
           }
          ],
          "contourcarpet": [
           {
            "colorbar": {
             "outlinewidth": 0,
             "ticks": ""
            },
            "type": "contourcarpet"
           }
          ],
          "heatmap": [
           {
            "colorbar": {
             "outlinewidth": 0,
             "ticks": ""
            },
            "colorscale": [
             [
              0,
              "#0d0887"
             ],
             [
              0.1111111111111111,
              "#46039f"
             ],
             [
              0.2222222222222222,
              "#7201a8"
             ],
             [
              0.3333333333333333,
              "#9c179e"
             ],
             [
              0.4444444444444444,
              "#bd3786"
             ],
             [
              0.5555555555555556,
              "#d8576b"
             ],
             [
              0.6666666666666666,
              "#ed7953"
             ],
             [
              0.7777777777777778,
              "#fb9f3a"
             ],
             [
              0.8888888888888888,
              "#fdca26"
             ],
             [
              1,
              "#f0f921"
             ]
            ],
            "type": "heatmap"
           }
          ],
          "heatmapgl": [
           {
            "colorbar": {
             "outlinewidth": 0,
             "ticks": ""
            },
            "colorscale": [
             [
              0,
              "#0d0887"
             ],
             [
              0.1111111111111111,
              "#46039f"
             ],
             [
              0.2222222222222222,
              "#7201a8"
             ],
             [
              0.3333333333333333,
              "#9c179e"
             ],
             [
              0.4444444444444444,
              "#bd3786"
             ],
             [
              0.5555555555555556,
              "#d8576b"
             ],
             [
              0.6666666666666666,
              "#ed7953"
             ],
             [
              0.7777777777777778,
              "#fb9f3a"
             ],
             [
              0.8888888888888888,
              "#fdca26"
             ],
             [
              1,
              "#f0f921"
             ]
            ],
            "type": "heatmapgl"
           }
          ],
          "histogram": [
           {
            "marker": {
             "pattern": {
              "fillmode": "overlay",
              "size": 10,
              "solidity": 0.2
             }
            },
            "type": "histogram"
           }
          ],
          "histogram2d": [
           {
            "colorbar": {
             "outlinewidth": 0,
             "ticks": ""
            },
            "colorscale": [
             [
              0,
              "#0d0887"
             ],
             [
              0.1111111111111111,
              "#46039f"
             ],
             [
              0.2222222222222222,
              "#7201a8"
             ],
             [
              0.3333333333333333,
              "#9c179e"
             ],
             [
              0.4444444444444444,
              "#bd3786"
             ],
             [
              0.5555555555555556,
              "#d8576b"
             ],
             [
              0.6666666666666666,
              "#ed7953"
             ],
             [
              0.7777777777777778,
              "#fb9f3a"
             ],
             [
              0.8888888888888888,
              "#fdca26"
             ],
             [
              1,
              "#f0f921"
             ]
            ],
            "type": "histogram2d"
           }
          ],
          "histogram2dcontour": [
           {
            "colorbar": {
             "outlinewidth": 0,
             "ticks": ""
            },
            "colorscale": [
             [
              0,
              "#0d0887"
             ],
             [
              0.1111111111111111,
              "#46039f"
             ],
             [
              0.2222222222222222,
              "#7201a8"
             ],
             [
              0.3333333333333333,
              "#9c179e"
             ],
             [
              0.4444444444444444,
              "#bd3786"
             ],
             [
              0.5555555555555556,
              "#d8576b"
             ],
             [
              0.6666666666666666,
              "#ed7953"
             ],
             [
              0.7777777777777778,
              "#fb9f3a"
             ],
             [
              0.8888888888888888,
              "#fdca26"
             ],
             [
              1,
              "#f0f921"
             ]
            ],
            "type": "histogram2dcontour"
           }
          ],
          "mesh3d": [
           {
            "colorbar": {
             "outlinewidth": 0,
             "ticks": ""
            },
            "type": "mesh3d"
           }
          ],
          "parcoords": [
           {
            "line": {
             "colorbar": {
              "outlinewidth": 0,
              "ticks": ""
             }
            },
            "type": "parcoords"
           }
          ],
          "pie": [
           {
            "automargin": true,
            "type": "pie"
           }
          ],
          "scatter": [
           {
            "fillpattern": {
             "fillmode": "overlay",
             "size": 10,
             "solidity": 0.2
            },
            "type": "scatter"
           }
          ],
          "scatter3d": [
           {
            "line": {
             "colorbar": {
              "outlinewidth": 0,
              "ticks": ""
             }
            },
            "marker": {
             "colorbar": {
              "outlinewidth": 0,
              "ticks": ""
             }
            },
            "type": "scatter3d"
           }
          ],
          "scattercarpet": [
           {
            "marker": {
             "colorbar": {
              "outlinewidth": 0,
              "ticks": ""
             }
            },
            "type": "scattercarpet"
           }
          ],
          "scattergeo": [
           {
            "marker": {
             "colorbar": {
              "outlinewidth": 0,
              "ticks": ""
             }
            },
            "type": "scattergeo"
           }
          ],
          "scattergl": [
           {
            "marker": {
             "colorbar": {
              "outlinewidth": 0,
              "ticks": ""
             }
            },
            "type": "scattergl"
           }
          ],
          "scattermapbox": [
           {
            "marker": {
             "colorbar": {
              "outlinewidth": 0,
              "ticks": ""
             }
            },
            "type": "scattermapbox"
           }
          ],
          "scatterpolar": [
           {
            "marker": {
             "colorbar": {
              "outlinewidth": 0,
              "ticks": ""
             }
            },
            "type": "scatterpolar"
           }
          ],
          "scatterpolargl": [
           {
            "marker": {
             "colorbar": {
              "outlinewidth": 0,
              "ticks": ""
             }
            },
            "type": "scatterpolargl"
           }
          ],
          "scatterternary": [
           {
            "marker": {
             "colorbar": {
              "outlinewidth": 0,
              "ticks": ""
             }
            },
            "type": "scatterternary"
           }
          ],
          "surface": [
           {
            "colorbar": {
             "outlinewidth": 0,
             "ticks": ""
            },
            "colorscale": [
             [
              0,
              "#0d0887"
             ],
             [
              0.1111111111111111,
              "#46039f"
             ],
             [
              0.2222222222222222,
              "#7201a8"
             ],
             [
              0.3333333333333333,
              "#9c179e"
             ],
             [
              0.4444444444444444,
              "#bd3786"
             ],
             [
              0.5555555555555556,
              "#d8576b"
             ],
             [
              0.6666666666666666,
              "#ed7953"
             ],
             [
              0.7777777777777778,
              "#fb9f3a"
             ],
             [
              0.8888888888888888,
              "#fdca26"
             ],
             [
              1,
              "#f0f921"
             ]
            ],
            "type": "surface"
           }
          ],
          "table": [
           {
            "cells": {
             "fill": {
              "color": "#EBF0F8"
             },
             "line": {
              "color": "white"
             }
            },
            "header": {
             "fill": {
              "color": "#C8D4E3"
             },
             "line": {
              "color": "white"
             }
            },
            "type": "table"
           }
          ]
         },
         "layout": {
          "annotationdefaults": {
           "arrowcolor": "#2a3f5f",
           "arrowhead": 0,
           "arrowwidth": 1
          },
          "autotypenumbers": "strict",
          "coloraxis": {
           "colorbar": {
            "outlinewidth": 0,
            "ticks": ""
           }
          },
          "colorscale": {
           "diverging": [
            [
             0,
             "#8e0152"
            ],
            [
             0.1,
             "#c51b7d"
            ],
            [
             0.2,
             "#de77ae"
            ],
            [
             0.3,
             "#f1b6da"
            ],
            [
             0.4,
             "#fde0ef"
            ],
            [
             0.5,
             "#f7f7f7"
            ],
            [
             0.6,
             "#e6f5d0"
            ],
            [
             0.7,
             "#b8e186"
            ],
            [
             0.8,
             "#7fbc41"
            ],
            [
             0.9,
             "#4d9221"
            ],
            [
             1,
             "#276419"
            ]
           ],
           "sequential": [
            [
             0,
             "#0d0887"
            ],
            [
             0.1111111111111111,
             "#46039f"
            ],
            [
             0.2222222222222222,
             "#7201a8"
            ],
            [
             0.3333333333333333,
             "#9c179e"
            ],
            [
             0.4444444444444444,
             "#bd3786"
            ],
            [
             0.5555555555555556,
             "#d8576b"
            ],
            [
             0.6666666666666666,
             "#ed7953"
            ],
            [
             0.7777777777777778,
             "#fb9f3a"
            ],
            [
             0.8888888888888888,
             "#fdca26"
            ],
            [
             1,
             "#f0f921"
            ]
           ],
           "sequentialminus": [
            [
             0,
             "#0d0887"
            ],
            [
             0.1111111111111111,
             "#46039f"
            ],
            [
             0.2222222222222222,
             "#7201a8"
            ],
            [
             0.3333333333333333,
             "#9c179e"
            ],
            [
             0.4444444444444444,
             "#bd3786"
            ],
            [
             0.5555555555555556,
             "#d8576b"
            ],
            [
             0.6666666666666666,
             "#ed7953"
            ],
            [
             0.7777777777777778,
             "#fb9f3a"
            ],
            [
             0.8888888888888888,
             "#fdca26"
            ],
            [
             1,
             "#f0f921"
            ]
           ]
          },
          "colorway": [
           "#636efa",
           "#EF553B",
           "#00cc96",
           "#ab63fa",
           "#FFA15A",
           "#19d3f3",
           "#FF6692",
           "#B6E880",
           "#FF97FF",
           "#FECB52"
          ],
          "font": {
           "color": "#2a3f5f"
          },
          "geo": {
           "bgcolor": "white",
           "lakecolor": "white",
           "landcolor": "#E5ECF6",
           "showlakes": true,
           "showland": true,
           "subunitcolor": "white"
          },
          "hoverlabel": {
           "align": "left"
          },
          "hovermode": "closest",
          "mapbox": {
           "style": "light"
          },
          "paper_bgcolor": "white",
          "plot_bgcolor": "#E5ECF6",
          "polar": {
           "angularaxis": {
            "gridcolor": "white",
            "linecolor": "white",
            "ticks": ""
           },
           "bgcolor": "#E5ECF6",
           "radialaxis": {
            "gridcolor": "white",
            "linecolor": "white",
            "ticks": ""
           }
          },
          "scene": {
           "xaxis": {
            "backgroundcolor": "#E5ECF6",
            "gridcolor": "white",
            "gridwidth": 2,
            "linecolor": "white",
            "showbackground": true,
            "ticks": "",
            "zerolinecolor": "white"
           },
           "yaxis": {
            "backgroundcolor": "#E5ECF6",
            "gridcolor": "white",
            "gridwidth": 2,
            "linecolor": "white",
            "showbackground": true,
            "ticks": "",
            "zerolinecolor": "white"
           },
           "zaxis": {
            "backgroundcolor": "#E5ECF6",
            "gridcolor": "white",
            "gridwidth": 2,
            "linecolor": "white",
            "showbackground": true,
            "ticks": "",
            "zerolinecolor": "white"
           }
          },
          "shapedefaults": {
           "line": {
            "color": "#2a3f5f"
           }
          },
          "ternary": {
           "aaxis": {
            "gridcolor": "white",
            "linecolor": "white",
            "ticks": ""
           },
           "baxis": {
            "gridcolor": "white",
            "linecolor": "white",
            "ticks": ""
           },
           "bgcolor": "#E5ECF6",
           "caxis": {
            "gridcolor": "white",
            "linecolor": "white",
            "ticks": ""
           }
          },
          "title": {
           "x": 0.05
          },
          "xaxis": {
           "automargin": true,
           "gridcolor": "white",
           "linecolor": "white",
           "ticks": "",
           "title": {
            "standoff": 15
           },
           "zerolinecolor": "white",
           "zerolinewidth": 2
          },
          "yaxis": {
           "automargin": true,
           "gridcolor": "white",
           "linecolor": "white",
           "ticks": "",
           "title": {
            "standoff": 15
           },
           "zerolinecolor": "white",
           "zerolinewidth": 2
          }
         }
        },
        "title": {
         "text": "Número de Negocios por Categoría, en Plataforma "
        },
        "width": 1200,
        "xaxis": {
         "anchor": "y",
         "domain": [
          0,
          1
         ],
         "title": {
          "text": "Categoría"
         }
        },
        "yaxis": {
         "anchor": "x",
         "domain": [
          0,
          1
         ],
         "title": {
          "text": "Numero de Negocios"
         }
        }
       }
      }
     },
     "metadata": {},
     "output_type": "display_data"
    }
   ],
   "source": [
    "df_grafico = pd.DataFrame(data)\n",
    "\n",
    "fig = px.bar(df_grafico, x='Categoría', y='Numero de Negocios',\n",
    "             title='Número de Negocios por Categoría, en Plataforma ', width=1200)\n",
    "\n",
    "fig.show()"
   ]
  },
  {
   "cell_type": "markdown",
   "metadata": {
    "id": "Ald7_opg8JTO"
   },
   "source": [
    "Los Negocios pueden pertenecer a mas de 1 categoria... Por eso se observa que casi Todos los Negocios pertenecen a la Categoria Restaurantes General. Por otro lado se observa que las categorías `Bar de Ambiente`, `Heladerias` y `Rosquillas` tienen muy pocos negocios... Enfocaremos nuestro modelo de Recomendación a todas las Categorías excepto estas tres"
   ]
  }
 ],
 "metadata": {
  "colab": {
   "authorship_tag": "ABX9TyNONWz8qYR7WPKOtZUJPdsx",
   "provenance": []
  },
  "kernelspec": {
   "display_name": "Python 3",
   "language": "python",
   "name": "python3"
  },
  "language_info": {
   "codemirror_mode": {
    "name": "ipython",
    "version": 3
   },
   "file_extension": ".py",
   "mimetype": "text/x-python",
   "name": "python",
   "nbconvert_exporter": "python",
   "pygments_lexer": "ipython3",
   "version": "3.10.11"
  }
 },
 "nbformat": 4,
 "nbformat_minor": 0
}
