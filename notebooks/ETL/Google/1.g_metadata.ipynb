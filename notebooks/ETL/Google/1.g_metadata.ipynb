{
 "cells": [
  {
   "cell_type": "markdown",
   "metadata": {},
   "source": [
    "### Documentar un inicio del etl. de donde sacamos los datos?, es big data o data que se puede procesar? donde estan los archivos que aparecen en las rutas? ."
   ]
  },
  {
   "cell_type": "code",
   "execution_count": 1,
   "metadata": {},
   "outputs": [],
   "source": [
    "# Librerias Necesarias \n",
    "import pandas as pd\n",
    "import os"
   ]
  },
  {
   "cell_type": "markdown",
   "metadata": {},
   "source": [
    "Los 11 archivos Jsons estaticos de Google, los juntamos en un solo archivo."
   ]
  },
  {
   "cell_type": "code",
   "execution_count": null,
   "metadata": {},
   "outputs": [],
   "source": [
    "list_sitios_path = [\n",
    "    'datasets/google/sitios/1.json',\n",
    "    'datasets/google/sitios/2.json',\n",
    "    'datasets/google/sitios/3.json',\n",
    "    'datasets/google/sitios/4.json',\n",
    "    'datasets/google/sitios/5.json',\n",
    "    'datasets/google/sitios/6.json',\n",
    "    'datasets/google/sitios/7.json',\n",
    "    'datasets/google/sitios/8.json',\n",
    "    'datasets/google/sitios/9.json',\n",
    "    'datasets/google/sitios/10.json',\n",
    "    'datasets/google/sitios/11.json'\n",
    "]\n",
    "\n",
    "for i in range(11):\n",
    "    df = pd.read_json(list_sitios_path[i], lines=True)\n",
    "    if i == 0:\n",
    "        sitios = df.copy()\n",
    "        del df\n",
    "    else:\n",
    "        g_sitios = pd.concat([sitios, df], axis=0, ignore_index=True)\n",
    "        del df\n",
    "\n",
    "# Eliminamos filas que repitan la clave primaria y unica        \n",
    "g_sitios = g_sitios.drop_duplicates(subset=['gmap_id'])"
   ]
  },
  {
   "cell_type": "markdown",
   "metadata": {},
   "source": [
    "Para optimizacion de espacio y procesamiento, estos Jsons los transformamos a formato Parquet"
   ]
  },
  {
   "cell_type": "code",
   "execution_count": null,
   "metadata": {},
   "outputs": [],
   "source": [
    "g_sitios.to_parquet('datasets/google/sitios/sitios_google_columnas_originales.parquet')"
   ]
  },
  {
   "cell_type": "markdown",
   "metadata": {},
   "source": [
    "proximamente seguimos en grupo, deje un ejemplo de inicio para mejorar la documentacion y estructurar un etl de cada tabla. asignando un numero de orden a cada etl "
   ]
  }
 ],
 "metadata": {
  "kernelspec": {
   "display_name": "AAentorno",
   "language": "python",
   "name": "python3"
  },
  "language_info": {
   "codemirror_mode": {
    "name": "ipython",
    "version": 3
   },
   "file_extension": ".py",
   "mimetype": "text/x-python",
   "name": "python",
   "nbconvert_exporter": "python",
   "pygments_lexer": "ipython3",
   "version": "3.11.0"
  }
 },
 "nbformat": 4,
 "nbformat_minor": 2
}
