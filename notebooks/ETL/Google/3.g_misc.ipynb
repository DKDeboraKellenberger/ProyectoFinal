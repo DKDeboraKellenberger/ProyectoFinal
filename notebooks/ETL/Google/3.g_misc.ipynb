{
 "cells": [
  {
   "cell_type": "markdown",
   "metadata": {},
   "source": [
    "### Este Notebook estara enfocado en el desanidado y normalizacion de los datos de la columna `MISC`. Al terminar continuar con el Notebook 4."
   ]
  },
  {
   "cell_type": "code",
   "execution_count": 1,
   "metadata": {},
   "outputs": [],
   "source": [
    "import pandas as pd"
   ]
  },
  {
   "cell_type": "code",
   "execution_count": null,
   "metadata": {},
   "outputs": [],
   "source": [
    "# Leemos la tabla g_sitios que tenemos hasta el momento.\n",
    "g_sitios = pd.read_parquet(r'C:\\Users\\mauri\\OneDrive\\Escritorio\\proyectogrupal\\data\\google_sitios.parquet', engine='pyarrow')"
   ]
  },
  {
   "cell_type": "code",
   "execution_count": null,
   "metadata": {},
   "outputs": [],
   "source": [
    "# Creamos una nueva tabla misc\n",
    "misc_sitios = g_sitios[['gmap_id', 'MISC']]\n",
    "\n",
    "# Donde MISC sea NULO no hay Información Se pueden Borrar ya que esta tabla es SOLO MISCELANEOS.\n",
    "misc_sitios = misc_sitios.dropna(subset=['MISC'])"
   ]
  },
  {
   "cell_type": "code",
   "execution_count": null,
   "metadata": {},
   "outputs": [],
   "source": [
    "# Se Define una Función que convierte los Diccionarios en Listas para poder Aplicar `explode` despues.  Sólo se toman aquellos pares del diccionario donde value is not None\n",
    "def dict_to_list(diccionario:dict) -> list:\n",
    "    \"\"\" Devuelve el Diccionario de la columna `MISC` y lo retorna\n",
    "                    como una lista de String \"key:Value\" Siempre y cuando el \n",
    "                    value de la pareja no sea Nulo.\n",
    "\n",
    "    Args:\n",
    "        diccionario (dict): diccionario recibido\n",
    "\n",
    "    Returns:\n",
    "        list: Lista a devolver\n",
    "    \"\"\"\n",
    "    return [f\"{key}: {value}\" for key, value in diccionario.items() if value is not None]"
   ]
  },
  {
   "cell_type": "code",
   "execution_count": null,
   "metadata": {},
   "outputs": [],
   "source": [
    "# Aplicamos la funcion definida arriba.\n",
    "misc_sitios['lista_misc'] = misc_sitios['MISC'].apply(dict_to_list)\n",
    "\n",
    "# Muestra parcial de la tabla:\n",
    "misc_sitios.head()"
   ]
  },
  {
   "cell_type": "markdown",
   "metadata": {},
   "source": [
    "Se borra la columna MISC, se aplica explode al dataframe con respecto a la columna `lista_misc` y luego renombrar la columna para tener lista la tabla"
   ]
  },
  {
   "cell_type": "code",
   "execution_count": null,
   "metadata": {},
   "outputs": [],
   "source": [
    "misc_sitios = misc_sitios.drop(columns=['MISC'])\n",
    "\n",
    "misc_sitios = misc_sitios.explode('lista_misc')\n",
    "\n",
    "misc_sitios.rename(columns={'lista_misc': 'misc'}, inplace=True)\n",
    "misc_sitios.head()"
   ]
  },
  {
   "cell_type": "code",
   "execution_count": null,
   "metadata": {},
   "outputs": [],
   "source": [
    "# Guaradamos la tabla desanidada que se conecta a travez de gmap_id con la tabla principal.\n",
    "misc_sitios.to_parquet('datasets/google/sitios/google_misc_sitios.parquet')"
   ]
  }
 ],
 "metadata": {
  "kernelspec": {
   "display_name": "AAentorno",
   "language": "python",
   "name": "python3"
  },
  "language_info": {
   "codemirror_mode": {
    "name": "ipython",
    "version": 3
   },
   "file_extension": ".py",
   "mimetype": "text/x-python",
   "name": "python",
   "nbconvert_exporter": "python",
   "pygments_lexer": "ipython3",
   "version": "3.11.0"
  }
 },
 "nbformat": 4,
 "nbformat_minor": 2
}
