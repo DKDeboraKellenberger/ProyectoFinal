{
 "cells": [
  {
   "cell_type": "markdown",
   "metadata": {},
   "source": [
    "### Documentar un inicio del etl. de donde sacamos los datos?, es big data o data que se puede procesar? donde estan los archivos que aparecen en las rutas? ."
   ]
  },
  {
   "cell_type": "code",
   "execution_count": 1,
   "metadata": {},
   "outputs": [],
   "source": [
    "# Librerias Necesarias \n",
    "import pandas as pd"
   ]
  },
  {
   "cell_type": "markdown",
   "metadata": {},
   "source": [
    "Los 11 archivos Jsons estaticos de Google, los juntamos en un solo archivo."
   ]
  },
  {
   "cell_type": "code",
   "execution_count": null,
   "metadata": {},
   "outputs": [],
   "source": [
    "list_sitios_path = [\n",
    "    'datasets/google/sitios/1.json',\n",
    "    'datasets/google/sitios/2.json',\n",
    "    'datasets/google/sitios/3.json',\n",
    "    'datasets/google/sitios/4.json',\n",
    "    'datasets/google/sitios/5.json',\n",
    "    'datasets/google/sitios/6.json',\n",
    "    'datasets/google/sitios/7.json',\n",
    "    'datasets/google/sitios/8.json',\n",
    "    'datasets/google/sitios/9.json',\n",
    "    'datasets/google/sitios/10.json',\n",
    "    'datasets/google/sitios/11.json'\n",
    "]\n",
    "\n",
    "for i in range(11):\n",
    "    df = pd.read_json(list_sitios_path[i], lines=True)\n",
    "    if i == 0:\n",
    "        sitios = df.copy()\n",
    "        del df\n",
    "    else:\n",
    "        sitios = pd.concat([sitios, df], axis=0, ignore_index=True)\n",
    "        del df\n",
    "\n",
    "# Eliminamos filas que repitan la clave primaria y unica        \n",
    "sitios = sitios.drop_duplicates(subset=['gmap_id'])"
   ]
  },
  {
   "cell_type": "markdown",
   "metadata": {},
   "source": [
    "Para optimizacion de espacio y procesamiento, estos Jsons los transformamos a formato Parquet"
   ]
  },
  {
   "cell_type": "code",
   "execution_count": null,
   "metadata": {},
   "outputs": [],
   "source": [
    "sitios.to_parquet('datasets/google/sitios/sitios_google_columnas_originales.parquet')"
   ]
  },
  {
   "cell_type": "markdown",
   "metadata": {},
   "source": [
    "proximamente seguimos en grupo, deje un ejemplo de inicio para mejorar la documentacion y estructurar un etl general. 1 solo archivo que trate solo de google... mientras tanto hagan pruebas en otros archivos con sus nombres..."
   ]
  },
  {
   "cell_type": "code",
   "execution_count": 3,
   "metadata": {},
   "outputs": [
    {
     "name": "stdout",
     "output_type": "stream",
     "text": [
      "<class 'pandas.core.frame.DataFrame'>\n",
      "Index: 2998428 entries, 0 to 3025010\n",
      "Data columns (total 18 columns):\n",
      " #   Column          Dtype  \n",
      "---  ------          -----  \n",
      " 0   name            object \n",
      " 1   address         object \n",
      " 2   gmap_id         object \n",
      " 3   description     object \n",
      " 4   latitude        float64\n",
      " 5   longitude       float64\n",
      " 6   avg_rating      float64\n",
      " 7   num_of_reviews  int64  \n",
      " 8   price           object \n",
      " 9   state           object \n",
      " 10  url             object \n",
      " 11  monday          object \n",
      " 12  tuesday         object \n",
      " 13  wednesday       object \n",
      " 14  thursday        object \n",
      " 15  friday          object \n",
      " 16  saturday        object \n",
      " 17  sunday          object \n",
      "dtypes: float64(3), int64(1), object(14)\n",
      "memory usage: 434.6+ MB\n"
     ]
    }
   ],
   "source": []
  },
  {
   "cell_type": "code",
   "execution_count": null,
   "metadata": {},
   "outputs": [],
   "source": [
    "df_filtrado = df[['columna1', 'columna2']]"
   ]
  }
 ],
 "metadata": {
  "kernelspec": {
   "display_name": "AAentorno",
   "language": "python",
   "name": "python3"
  },
  "language_info": {
   "codemirror_mode": {
    "name": "ipython",
    "version": 3
   },
   "file_extension": ".py",
   "mimetype": "text/x-python",
   "name": "python",
   "nbconvert_exporter": "python",
   "pygments_lexer": "ipython3",
   "version": "3.11.0"
  }
 },
 "nbformat": 4,
 "nbformat_minor": 2
}
