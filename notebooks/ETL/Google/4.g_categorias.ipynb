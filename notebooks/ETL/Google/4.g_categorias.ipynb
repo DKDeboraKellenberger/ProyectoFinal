{
 "cells": [
  {
   "cell_type": "markdown",
   "metadata": {},
   "source": [
    "### Este Notebook estara enfocado en el desanidado y normalizacion de los datos de la columna `category`. Al terminar continuar con el Notebook 5."
   ]
  },
  {
   "cell_type": "code",
   "execution_count": 1,
   "metadata": {},
   "outputs": [],
   "source": [
    "import pandas as pd"
   ]
  },
  {
   "cell_type": "code",
   "execution_count": null,
   "metadata": {},
   "outputs": [],
   "source": [
    "# Leemos la tabla g_sitios que tenemos hasta el momento.\n",
    "g_sitios = pd.read_parquet(r'C:\\Users\\mauri\\OneDrive\\Escritorio\\proyectogrupal\\data\\google_sitios.parquet', engine='pyarrow')"
   ]
  },
  {
   "cell_type": "code",
   "execution_count": null,
   "metadata": {},
   "outputs": [],
   "source": [
    "# Creamos una nueva tabla de categorias y desempaquetamos su información.\n",
    "categories_sitios = g_sitios[['gmap_id', 'category']].explode('category')\n",
    "\n",
    "# Borramos las columnas `MISC`, `relative_results` y `category`\n",
    "g_sitios = g_sitios.drop(columns=['MISC', 'relative_results', 'category'])"
   ]
  },
  {
   "cell_type": "code",
   "execution_count": null,
   "metadata": {},
   "outputs": [],
   "source": [
    "# Guardar el progreso actual de la tabla `g_sitios`\n",
    "g_sitios.to_parquet('datasets/google/sitios/google_sitios.parquet')"
   ]
  },
  {
   "cell_type": "code",
   "execution_count": null,
   "metadata": {},
   "outputs": [],
   "source": [
    "# Guaradamos la tabla desanidada que se conecta a travez de gmap_id con la tabla principal.\n",
    "categories_sitios.to_parquet('datasets/google/sitios/categories_sitios_google_todavia_nombres.parquet')"
   ]
  }
 ],
 "metadata": {
  "kernelspec": {
   "display_name": "AAentorno",
   "language": "python",
   "name": "python3"
  },
  "language_info": {
   "codemirror_mode": {
    "name": "ipython",
    "version": 3
   },
   "file_extension": ".py",
   "mimetype": "text/x-python",
   "name": "python",
   "nbconvert_exporter": "python",
   "pygments_lexer": "ipython3",
   "version": "3.11.0"
  }
 },
 "nbformat": 4,
 "nbformat_minor": 2
}
