{
 "cells": [
  {
   "cell_type": "markdown",
   "metadata": {},
   "source": [
    "Intento de desanidado de categorias y agrupacion"
   ]
  },
  {
   "cell_type": "code",
   "execution_count": null,
   "metadata": {},
   "outputs": [],
   "source": [
    "import pandas as pd\n",
    "import os"
   ]
  },
  {
   "cell_type": "code",
   "execution_count": null,
   "metadata": {},
   "outputs": [],
   "source": [
    "cat = pd.read_excel(r'C:\\Users\\mauri\\OneDrive\\Escritorio\\proyectogrupal\\data\\categorias 6.xlsx', sheet_name=None)\n",
    "paginador = list(cat.keys())\n",
    "paginador"
   ]
  },
  {
   "cell_type": "code",
   "execution_count": null,
   "metadata": {},
   "outputs": [],
   "source": [
    "todas = cat[paginador[2]]\n",
    "todas['lo mismo'] = None\n",
    "todas['total'] = todas['total'].str.strip().str.lower()"
   ]
  },
  {
   "cell_type": "code",
   "execution_count": null,
   "metadata": {},
   "outputs": [],
   "source": [
    "categorias = todas['total'].tolist()\n",
    "print('todas las categorias', len(categorias))\n",
    "categorias"
   ]
  },
  {
   "cell_type": "code",
   "execution_count": null,
   "metadata": {},
   "outputs": [],
   "source": [
    "todas.loc[todas['total'].str.contains('food', na=False), 'lo mismo'] = 'Comida'\n",
    "todas.loc[todas['total'].str.contains('grill', na=False), 'lo mismo'] = 'Comida'\n",
    "todas.loc[todas['total'].str.contains('hotel', na=False), 'lo mismo'] = 'Hotel'\n",
    "todas.loc[todas['total'].str.contains('resort', na=False), 'lo mismo'] = 'Hotel'\n",
    "todas.loc[todas['total'].str.contains('resto', na=False), 'lo mismo'] = 'Comida'\n",
    "todas.loc[todas['total'].str.contains('restaurant', na=False), 'lo mismo'] = 'Comida'\n",
    "todas.loc[todas['total'].str.contains('pub', na=False), 'lo mismo'] = 'Ocio'\n",
    "todas.loc[todas['total'].str.contains('museum', na=False), 'lo mismo'] = 'Ocio'\n",
    "todas.loc[todas['total'].str.contains('bar', na=False), 'lo mismo'] = 'Comida'\n",
    "todas.loc[todas['total'].str.contains('travel', na=False), 'lo mismo'] = 'Excursiones'\n",
    "todas.loc[todas['total'].str.contains('night', na=False), 'lo mismo'] = 'Ocio'\n",
    "todas.loc[todas['total'].str.contains('vegan', na=False), 'lo mismo'] = 'Comida'\n",
    "todas.loc[todas['total'].str.contains('breakfast', na=False), 'lo mismo'] = 'Comida'\n",
    "todas.loc[todas['total'].str.contains('stadium', na=False), 'lo mismo'] = 'Ocio'\n",
    "todas.loc[todas['total'].str.contains('travel', na=False), 'lo mismo'] = 'Excursiones'\n",
    "todas.loc[todas['total'].str.contains('ski', na=False), 'lo mismo'] = 'Excursiones'\n",
    "todas.loc[todas['total'].str.contains('golf', na=False), 'lo mismo'] = 'Excursiones'\n",
    "todas.loc[todas['total'].str.contains('beach', na=False), 'lo mismo'] = 'Excursiones'\n",
    "todas.loc[todas['total'].str.contains('shop', na=False), 'lo mismo'] = 'Compras'"
   ]
  },
  {
   "cell_type": "code",
   "execution_count": null,
   "metadata": {},
   "outputs": [],
   "source": [
    "todas.info()"
   ]
  },
  {
   "cell_type": "code",
   "execution_count": null,
   "metadata": {},
   "outputs": [],
   "source": [
    "filtro = todas[todas['total'].str.contains('shop', na=False)]\n",
    "filtro"
   ]
  }
 ],
 "metadata": {
  "kernelspec": {
   "display_name": "AAentorno",
   "language": "python",
   "name": "python3"
  },
  "language_info": {
   "name": "python",
   "version": "3.11.0"
  }
 },
 "nbformat": 4,
 "nbformat_minor": 2
}
