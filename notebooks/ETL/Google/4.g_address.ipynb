{
 "cells": [
  {
   "cell_type": "markdown",
   "metadata": {},
   "source": [
    "La columna `address` de la tabla principal `g_sitios` conntiene info importante sobre como tratar los jsons de estados. ya que contiene informacion de direccion y ciudades.\n",
    "\n",
    "si se normaliza esta columna en una tabla aparte que contenga: la ciudad la direccion y codigo postal, mas la clave unica gmap_id, podemos agrupar por estados con sus ciudades.\n",
    "\n",
    "con un eda sobre las categorias de los negocios podemos decidir que estados usar y cuales no, basandonos en datos y no en suposiciones."
   ]
  },
  {
   "cell_type": "markdown",
   "metadata": {},
   "source": [
    "informacion: \n",
    "\n",
    "aqui solo hare codigo, no voy a documentar, si tienen dudas se lo explico en una reunion que hagamos."
   ]
  },
  {
   "cell_type": "code",
   "execution_count": 18,
   "metadata": {},
   "outputs": [
    {
     "name": "stdout",
     "output_type": "stream",
     "text": [
      "<class 'pandas.core.frame.DataFrame'>\n",
      "Index: 2998428 entries, 0 to 3025010\n",
      "Data columns (total 18 columns):\n",
      " #   Column          Dtype  \n",
      "---  ------          -----  \n",
      " 0   name            object \n",
      " 1   address         object \n",
      " 2   gmap_id         object \n",
      " 3   description     object \n",
      " 4   latitude        float64\n",
      " 5   longitude       float64\n",
      " 6   avg_rating      float64\n",
      " 7   num_of_reviews  int64  \n",
      " 8   price           object \n",
      " 9   state           object \n",
      " 10  url             object \n",
      " 11  monday          object \n",
      " 12  tuesday         object \n",
      " 13  wednesday       object \n",
      " 14  thursday        object \n",
      " 15  friday          object \n",
      " 16  saturday        object \n",
      " 17  sunday          object \n",
      "dtypes: float64(3), int64(1), object(14)\n",
      "memory usage: 434.6+ MB\n"
     ]
    }
   ],
   "source": [
    "import pandas as pd\n",
    "import os\n",
    "\n",
    "g_sitios = pd.read_parquet(r'C:\\Users\\mauri\\OneDrive\\Escritorio\\proyectogrupal\\data\\google_sitios.parquet', engine='pyarrow')\n",
    "g_sitios.info()"
   ]
  },
  {
   "cell_type": "code",
   "execution_count": 19,
   "metadata": {},
   "outputs": [
    {
     "data": {
      "text/html": [
       "<div>\n",
       "<style scoped>\n",
       "    .dataframe tbody tr th:only-of-type {\n",
       "        vertical-align: middle;\n",
       "    }\n",
       "\n",
       "    .dataframe tbody tr th {\n",
       "        vertical-align: top;\n",
       "    }\n",
       "\n",
       "    .dataframe thead th {\n",
       "        text-align: right;\n",
       "    }\n",
       "</style>\n",
       "<table border=\"1\" class=\"dataframe\">\n",
       "  <thead>\n",
       "    <tr style=\"text-align: right;\">\n",
       "      <th></th>\n",
       "      <th>gmap_id</th>\n",
       "      <th>address</th>\n",
       "      <th>name</th>\n",
       "    </tr>\n",
       "  </thead>\n",
       "  <tbody>\n",
       "    <tr>\n",
       "      <th>0</th>\n",
       "      <td>0x88f16e41928ff687:0x883dad4fd048e8f8</td>\n",
       "      <td>Porter Pharmacy, 129 N Second St, Cochran, GA ...</td>\n",
       "      <td>Porter Pharmacy</td>\n",
       "    </tr>\n",
       "    <tr>\n",
       "      <th>1</th>\n",
       "      <td>0x80c2c98c0e3c16fd:0x29ec8a728764fdf9</td>\n",
       "      <td>City Textile, 3001 E Pico Blvd, Los Angeles, C...</td>\n",
       "      <td>City Textile</td>\n",
       "    </tr>\n",
       "    <tr>\n",
       "      <th>2</th>\n",
       "      <td>0x80c2c778e3b73d33:0xbdc58662a4a97d49</td>\n",
       "      <td>San Soo Dang, 761 S Vermont Ave, Los Angeles, ...</td>\n",
       "      <td>San Soo Dang</td>\n",
       "    </tr>\n",
       "    <tr>\n",
       "      <th>3</th>\n",
       "      <td>0x80c2c89923b27a41:0x32041559418d447</td>\n",
       "      <td>Nova Fabrics, 2200 E 11th St, Los Angeles, CA ...</td>\n",
       "      <td>Nova Fabrics</td>\n",
       "    </tr>\n",
       "    <tr>\n",
       "      <th>4</th>\n",
       "      <td>0x80c2c632f933b073:0xc31785961fe826a6</td>\n",
       "      <td>Nobel Textile Co, 719 E 9th St, Los Angeles, C...</td>\n",
       "      <td>Nobel Textile Co</td>\n",
       "    </tr>\n",
       "  </tbody>\n",
       "</table>\n",
       "</div>"
      ],
      "text/plain": [
       "                                 gmap_id  \\\n",
       "0  0x88f16e41928ff687:0x883dad4fd048e8f8   \n",
       "1  0x80c2c98c0e3c16fd:0x29ec8a728764fdf9   \n",
       "2  0x80c2c778e3b73d33:0xbdc58662a4a97d49   \n",
       "3   0x80c2c89923b27a41:0x32041559418d447   \n",
       "4  0x80c2c632f933b073:0xc31785961fe826a6   \n",
       "\n",
       "                                             address              name  \n",
       "0  Porter Pharmacy, 129 N Second St, Cochran, GA ...   Porter Pharmacy  \n",
       "1  City Textile, 3001 E Pico Blvd, Los Angeles, C...      City Textile  \n",
       "2  San Soo Dang, 761 S Vermont Ave, Los Angeles, ...      San Soo Dang  \n",
       "3  Nova Fabrics, 2200 E 11th St, Los Angeles, CA ...      Nova Fabrics  \n",
       "4  Nobel Textile Co, 719 E 9th St, Los Angeles, C...  Nobel Textile Co  "
      ]
     },
     "execution_count": 19,
     "metadata": {},
     "output_type": "execute_result"
    }
   ],
   "source": [
    "address = g_sitios[['gmap_id','address', 'name']]\n",
    "address.head()"
   ]
  },
  {
   "cell_type": "code",
   "execution_count": 20,
   "metadata": {},
   "outputs": [],
   "source": [
    "# Separar la columna 'address' en nuevas columnas\n",
    "address_split = address['address'].str.split(',', n=3, expand=True)\n",
    "\n",
    "# Cambiar el nombre de las columnas\n",
    "address_split.columns = ['nombre', 'direccion', 'ciudad', 'cod.postal']"
   ]
  },
  {
   "cell_type": "code",
   "execution_count": 21,
   "metadata": {},
   "outputs": [
    {
     "data": {
      "text/html": [
       "<div>\n",
       "<style scoped>\n",
       "    .dataframe tbody tr th:only-of-type {\n",
       "        vertical-align: middle;\n",
       "    }\n",
       "\n",
       "    .dataframe tbody tr th {\n",
       "        vertical-align: top;\n",
       "    }\n",
       "\n",
       "    .dataframe thead th {\n",
       "        text-align: right;\n",
       "    }\n",
       "</style>\n",
       "<table border=\"1\" class=\"dataframe\">\n",
       "  <thead>\n",
       "    <tr style=\"text-align: right;\">\n",
       "      <th></th>\n",
       "      <th>gmap_id</th>\n",
       "      <th>nombre</th>\n",
       "      <th>direccion</th>\n",
       "      <th>ciudad</th>\n",
       "      <th>cod.postal</th>\n",
       "    </tr>\n",
       "  </thead>\n",
       "  <tbody>\n",
       "    <tr>\n",
       "      <th>0</th>\n",
       "      <td>0x88f16e41928ff687:0x883dad4fd048e8f8</td>\n",
       "      <td>Porter Pharmacy</td>\n",
       "      <td>129 N Second St</td>\n",
       "      <td>Cochran</td>\n",
       "      <td>GA 31014</td>\n",
       "    </tr>\n",
       "    <tr>\n",
       "      <th>1</th>\n",
       "      <td>0x80c2c98c0e3c16fd:0x29ec8a728764fdf9</td>\n",
       "      <td>City Textile</td>\n",
       "      <td>3001 E Pico Blvd</td>\n",
       "      <td>Los Angeles</td>\n",
       "      <td>CA 90023</td>\n",
       "    </tr>\n",
       "    <tr>\n",
       "      <th>2</th>\n",
       "      <td>0x80c2c778e3b73d33:0xbdc58662a4a97d49</td>\n",
       "      <td>San Soo Dang</td>\n",
       "      <td>761 S Vermont Ave</td>\n",
       "      <td>Los Angeles</td>\n",
       "      <td>CA 90005</td>\n",
       "    </tr>\n",
       "    <tr>\n",
       "      <th>3</th>\n",
       "      <td>0x80c2c89923b27a41:0x32041559418d447</td>\n",
       "      <td>Nova Fabrics</td>\n",
       "      <td>2200 E 11th St</td>\n",
       "      <td>Los Angeles</td>\n",
       "      <td>CA 90021</td>\n",
       "    </tr>\n",
       "    <tr>\n",
       "      <th>4</th>\n",
       "      <td>0x80c2c632f933b073:0xc31785961fe826a6</td>\n",
       "      <td>Nobel Textile Co</td>\n",
       "      <td>719 E 9th St</td>\n",
       "      <td>Los Angeles</td>\n",
       "      <td>CA 90021</td>\n",
       "    </tr>\n",
       "  </tbody>\n",
       "</table>\n",
       "</div>"
      ],
      "text/plain": [
       "                                 gmap_id            nombre  \\\n",
       "0  0x88f16e41928ff687:0x883dad4fd048e8f8   Porter Pharmacy   \n",
       "1  0x80c2c98c0e3c16fd:0x29ec8a728764fdf9      City Textile   \n",
       "2  0x80c2c778e3b73d33:0xbdc58662a4a97d49      San Soo Dang   \n",
       "3   0x80c2c89923b27a41:0x32041559418d447      Nova Fabrics   \n",
       "4  0x80c2c632f933b073:0xc31785961fe826a6  Nobel Textile Co   \n",
       "\n",
       "            direccion        ciudad cod.postal  \n",
       "0     129 N Second St       Cochran   GA 31014  \n",
       "1    3001 E Pico Blvd   Los Angeles   CA 90023  \n",
       "2   761 S Vermont Ave   Los Angeles   CA 90005  \n",
       "3      2200 E 11th St   Los Angeles   CA 90021  \n",
       "4        719 E 9th St   Los Angeles   CA 90021  "
      ]
     },
     "execution_count": 21,
     "metadata": {},
     "output_type": "execute_result"
    }
   ],
   "source": [
    "# Agregar la identificacion unica a las nuevas columnas separadas.\n",
    "address = address[['gmap_id']].join(address_split)\n",
    "address.head()"
   ]
  },
  {
   "cell_type": "code",
   "execution_count": 22,
   "metadata": {},
   "outputs": [],
   "source": [
    "# Agregar una columna nueva llamada estados.\n",
    "address['estado'] = None\n",
    "\n",
    "# Listas de los 51 códigos postales y nombres de estados.\n",
    "codigos_postales = [\n",
    "    'CA', 'NY', 'IA', 'GA', 'FL', 'TX', 'LA', 'OR', 'WV', 'VA', \n",
    "    'AR', 'PA', 'NM', 'NC', 'TN', 'WI', 'NJ', 'IN', 'IL', 'DC', \n",
    "    'MD', 'ME', 'NE', 'WA', 'MI', 'OH', 'OK', 'MO', 'KS', 'UT', \n",
    "    'HI', 'NV', 'AZ', 'AL', 'CO', 'MA', 'ID', 'SC', 'RI', 'KY', \n",
    "    'AK', 'MT', 'MN', 'CT', 'MS', 'SD', 'WY', 'NH', 'DE', 'VT', \n",
    "    'ND'\n",
    "]\n",
    "\n",
    "nombres_estados = [\n",
    "    'California', 'New York', 'Iowa', 'Georgia', 'Florida', 'Texas', \n",
    "    'Louisiana', 'Oregon', 'West Virginia', 'Virginia', 'Arkansas', \n",
    "    'Pennsylvania', 'New Mexico', 'North Carolina', 'Tennessee', 'Wisconsin', \n",
    "    'New Jersey', 'Indiana', 'Illinois', 'District of Columbia', 'Maryland', \n",
    "    'Maine', 'Nebraska', 'Washington', 'Michigan', 'Ohio', 'Oklahoma', \n",
    "    'Missouri', 'Kansas', 'Utah', 'Hawaii', 'Nevada', 'Arizona', \n",
    "    'Alabama', 'Colorado', 'Massachusetts', 'Idaho', 'South Carolina', \n",
    "    'Rhode Island', 'Kentucky', 'Alaska', 'Montana', 'Minnesota', \n",
    "    'Connecticut', 'Mississippi', 'South Dakota', 'Wyoming', \n",
    "    'New Hampshire', 'Delaware', 'Vermont', 'North Dakota'\n",
    "]"
   ]
  },
  {
   "cell_type": "code",
   "execution_count": 23,
   "metadata": {},
   "outputs": [],
   "source": [
    "# cod.postal contiene las letras del estado, podemos filtrar los estados rapidamente.\n",
    "for codigo, estado in zip(codigos_postales, nombres_estados):\n",
    "    address.loc[address['cod.postal'].str.contains(codigo, na=False), 'estado'] = estado"
   ]
  },
  {
   "cell_type": "code",
   "execution_count": 24,
   "metadata": {},
   "outputs": [],
   "source": [
    "# El cod.postal puede ser nulo por falta de informacion ya que se corre la informacion hacia la izquierda.\n",
    "# Para solucionar esto filtramos los cod.postales nulos que se corrieron hacia la izquierda\n",
    "for codigo, estado in zip(codigos_postales, nombres_estados):\n",
    "    address.loc[(address['cod.postal'].isnull()) & (address['ciudad'].str.contains(codigo, na=False)), 'estado'] = estado"
   ]
  },
  {
   "cell_type": "code",
   "execution_count": 25,
   "metadata": {},
   "outputs": [],
   "source": [
    "# Ahora que estan corregidos las mayorias de los cod.postal algunos datos se cargaron al reves, conteniendo el cod en nombre y el nombre en cod.postal.\n",
    "for estado in nombres_estados:\n",
    "    address.loc[(address['estado'].isnull()) & (address['nombre'].str.contains(estado, na=False)), 'estado'] = estado"
   ]
  },
  {
   "cell_type": "code",
   "execution_count": 26,
   "metadata": {},
   "outputs": [],
   "source": [
    "# Eliminar filas donde al menos 5 columnas son nulas\n",
    "columnas = ['gmap_id', 'nombre', 'direccion', 'ciudad', 'cod.postal', 'estado']\n",
    "address = address.dropna(thresh=len(columnas) - 1)"
   ]
  },
  {
   "cell_type": "code",
   "execution_count": 27,
   "metadata": {},
   "outputs": [],
   "source": [
    "# Ultimas condicionales: el cod.postal no es nulo, pero su codigo aun se encuentra en la ciudad.\n",
    "for codigo, estado in zip(codigos_postales, nombres_estados):\n",
    "    address.loc[(address['cod.postal'].notnull()) & (address['ciudad'].str.contains(codigo, na=False)), 'estado'] = estado\n",
    "\n",
    "# El cod.postal no es nulo, pero esta escrito el estado en la ciudad.  \n",
    "for codigo, estado in zip(codigos_postales, nombres_estados):\n",
    "    address.loc[(address['cod.postal'].notnull()) & (address['ciudad'].str.contains(estado, na=False)), 'estado'] = estado\n",
    "    \n",
    "# El cod.postal contiene escrito el estado y no un codigo.  \n",
    "for codigo, estado in zip(codigos_postales, nombres_estados):\n",
    "    address.loc[(address['cod.postal'].notnull()) & (address['cod.postal'].str.contains(estado, na=False)), 'estado'] = estado"
   ]
  },
  {
   "cell_type": "code",
   "execution_count": 28,
   "metadata": {},
   "outputs": [],
   "source": [
    "# Terminada la normalizacion solo quedaron muy pocas filas donde no se puede saber su estado. Se eliminaran.\n",
    "address = address.dropna(subset=['estado'])\n",
    "address = address.drop(columns=['nombre'])\n",
    "\n",
    "# Agregamos un identificador unico a cada estado para que se conecte con la tabla principal sitios.\n",
    "address['id_estado'] = address['estado'].factorize()[0] + 1\n",
    "address['id_estado'] = address['id_estado'].astype('int32')"
   ]
  },
  {
   "cell_type": "code",
   "execution_count": null,
   "metadata": {},
   "outputs": [],
   "source": [
    "# Mezclamos la informacion con la tabla principal.\n",
    "g_sitios = g_sitios.merge(address[['gmap_id', 'id_estado']], on='gmap_id', how='left')\n",
    "g_sitios = g_sitios.drop(columns=['address'])\n",
    "g_sitios = g_sitios.drop(columns=['state']) # Informacion estatica. No sirve\n",
    "g_sitios = g_sitios.rename(columns={'gmap_id': 'id_negocio'})\n",
    "\n",
    "# Borrar filas con id_estado nulos, ya que no van a tener informacion para conectarse con reviews sin un estado.\n",
    "g_sitios = g_sitios.dropna(subset=['id_estado'])\n",
    "g_sitios['id_estado'] = g_sitios['id_estado'].astype('int32') # tipo de dato entero."
   ]
  },
  {
   "cell_type": "code",
   "execution_count": null,
   "metadata": {},
   "outputs": [],
   "source": []
  },
  {
   "cell_type": "code",
   "execution_count": 29,
   "metadata": {},
   "outputs": [
    {
     "data": {
      "text/html": [
       "<div>\n",
       "<style scoped>\n",
       "    .dataframe tbody tr th:only-of-type {\n",
       "        vertical-align: middle;\n",
       "    }\n",
       "\n",
       "    .dataframe tbody tr th {\n",
       "        vertical-align: top;\n",
       "    }\n",
       "\n",
       "    .dataframe thead th {\n",
       "        text-align: right;\n",
       "    }\n",
       "</style>\n",
       "<table border=\"1\" class=\"dataframe\">\n",
       "  <thead>\n",
       "    <tr style=\"text-align: right;\">\n",
       "      <th></th>\n",
       "      <th>gmap_id</th>\n",
       "      <th>direccion</th>\n",
       "      <th>ciudad</th>\n",
       "      <th>cod.postal</th>\n",
       "      <th>estado</th>\n",
       "      <th>id_estado</th>\n",
       "    </tr>\n",
       "  </thead>\n",
       "  <tbody>\n",
       "    <tr>\n",
       "      <th>0</th>\n",
       "      <td>0x88f16e41928ff687:0x883dad4fd048e8f8</td>\n",
       "      <td>129 N Second St</td>\n",
       "      <td>Cochran</td>\n",
       "      <td>GA 31014</td>\n",
       "      <td>Georgia</td>\n",
       "      <td>1</td>\n",
       "    </tr>\n",
       "    <tr>\n",
       "      <th>1</th>\n",
       "      <td>0x80c2c98c0e3c16fd:0x29ec8a728764fdf9</td>\n",
       "      <td>3001 E Pico Blvd</td>\n",
       "      <td>Los Angeles</td>\n",
       "      <td>CA 90023</td>\n",
       "      <td>California</td>\n",
       "      <td>2</td>\n",
       "    </tr>\n",
       "    <tr>\n",
       "      <th>2</th>\n",
       "      <td>0x80c2c778e3b73d33:0xbdc58662a4a97d49</td>\n",
       "      <td>761 S Vermont Ave</td>\n",
       "      <td>Los Angeles</td>\n",
       "      <td>CA 90005</td>\n",
       "      <td>California</td>\n",
       "      <td>2</td>\n",
       "    </tr>\n",
       "    <tr>\n",
       "      <th>3</th>\n",
       "      <td>0x80c2c89923b27a41:0x32041559418d447</td>\n",
       "      <td>2200 E 11th St</td>\n",
       "      <td>Los Angeles</td>\n",
       "      <td>CA 90021</td>\n",
       "      <td>California</td>\n",
       "      <td>2</td>\n",
       "    </tr>\n",
       "    <tr>\n",
       "      <th>4</th>\n",
       "      <td>0x80c2c632f933b073:0xc31785961fe826a6</td>\n",
       "      <td>719 E 9th St</td>\n",
       "      <td>Los Angeles</td>\n",
       "      <td>CA 90021</td>\n",
       "      <td>California</td>\n",
       "      <td>2</td>\n",
       "    </tr>\n",
       "  </tbody>\n",
       "</table>\n",
       "</div>"
      ],
      "text/plain": [
       "                                 gmap_id           direccion        ciudad  \\\n",
       "0  0x88f16e41928ff687:0x883dad4fd048e8f8     129 N Second St       Cochran   \n",
       "1  0x80c2c98c0e3c16fd:0x29ec8a728764fdf9    3001 E Pico Blvd   Los Angeles   \n",
       "2  0x80c2c778e3b73d33:0xbdc58662a4a97d49   761 S Vermont Ave   Los Angeles   \n",
       "3   0x80c2c89923b27a41:0x32041559418d447      2200 E 11th St   Los Angeles   \n",
       "4  0x80c2c632f933b073:0xc31785961fe826a6        719 E 9th St   Los Angeles   \n",
       "\n",
       "  cod.postal      estado  id_estado  \n",
       "0   GA 31014     Georgia          1  \n",
       "1   CA 90023  California          2  \n",
       "2   CA 90005  California          2  \n",
       "3   CA 90021  California          2  \n",
       "4   CA 90021  California          2  "
      ]
     },
     "execution_count": 29,
     "metadata": {},
     "output_type": "execute_result"
    }
   ],
   "source": [
    "# Terminado la informacion. guardamos el dataframe en parquet.\n",
    "os.makedirs('../../../data', exist_ok=True)\n",
    "address.to_parquet('../../../data/google_address.parquet', index=False)\n",
    "\n",
    "# Muestra parcial de la tabla:\n",
    "address.head(5)"
   ]
  },
  {
   "cell_type": "code",
   "execution_count": null,
   "metadata": {},
   "outputs": [],
   "source": [
    "# agregar lat y lon a address\n",
    "# borrar lat y lon de g_sitios."
   ]
  },
  {
   "cell_type": "code",
   "execution_count": 31,
   "metadata": {},
   "outputs": [],
   "source": [
    "# Terminado la informacion. guardamos el dataframe principal actualizado en parquet.\n",
    "#os.makedirs('../../../data', exist_ok=True)\n",
    "#g_sitios.to_parquet('../../../data/google_sitios_act.parquet', index=False)"
   ]
  }
 ],
 "metadata": {
  "kernelspec": {
   "display_name": "AAentorno",
   "language": "python",
   "name": "python3"
  },
  "language_info": {
   "codemirror_mode": {
    "name": "ipython",
    "version": 3
   },
   "file_extension": ".py",
   "mimetype": "text/x-python",
   "name": "python",
   "nbconvert_exporter": "python",
   "pygments_lexer": "ipython3",
   "version": "3.11.0"
  }
 },
 "nbformat": 4,
 "nbformat_minor": 2
}
