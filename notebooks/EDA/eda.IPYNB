{
 "cells": [
  {
   "cell_type": "markdown",
   "metadata": {},
   "source": [
    "## **DISTRIBUCIÓN DE CATEGORÍAS**\n",
    "---\n",
    "\n",
    "##### El objetivo de este análisis es poder visualizar la distribución de las distintas categorías en ambos datasets y poder unificarlas en una tabla maestra, permitiendo realizar análisis conjuntos y construir un esquema relacional que incluya categorías comunes.\n",
    "\n",
    "##### Para poder lograr este objetivo primeramente se realizará una pequeña **normalización en los datos.**\n",
    "\n",
    "- ##### **Dataset Yelp:**\n",
    "\n",
    "    - ``business_id:`` Identificador único de un negocio en Yelp.\n",
    "\n",
    "    - ``lista_categorias:`` Lista de categorías asignadas a cada negocio. Cada business_id puede tener múltiples categorías.\n",
    "\n",
    "- ##### **Dataset Google:**\n",
    "\n",
    "    - ``gmap_id:`` Identificador único de un sitio en Google Maps.\n",
    "\n",
    "    - ``category:`` Categoría asignada a un sitio en Google. Cada sitio tiene una sola categoría por fila, aunque un gmap_id puede repetirse si tiene múltiples categorías.\n",
    "\n",
    "\n",
    "\n"
   ]
  },
  {
   "cell_type": "code",
   "execution_count": 95,
   "metadata": {},
   "outputs": [
    {
     "name": "stderr",
     "output_type": "stream",
     "text": [
      "[nltk_data] Downloading package stopwords to\n",
      "[nltk_data]     C:\\Users\\marce\\AppData\\Roaming\\nltk_data...\n",
      "[nltk_data]   Package stopwords is already up-to-date!\n",
      "[nltk_data] Downloading package punkt to\n",
      "[nltk_data]     C:\\Users\\marce\\AppData\\Roaming\\nltk_data...\n",
      "[nltk_data]   Package punkt is already up-to-date!\n"
     ]
    }
   ],
   "source": [
    "import pandas as pd\n",
    "import matplotlib.pyplot as plt\n",
    "import seaborn as sns\n",
    "import numpy as np\n",
    "\n",
    "import nltk\n",
    "from nltk.corpus import stopwords\n",
    "from nltk.tokenize import word_tokenize\n",
    "from collections import Counter\n",
    "\n",
    "nltk.download(\"stopwords\")\n",
    "nltk.download(\"punkt\")\n",
    "\n",
    "import warnings\n",
    "warnings.filterwarnings(\"ignore\")"
   ]
  },
  {
   "cell_type": "markdown",
   "metadata": {},
   "source": [
    "#### **CARGA DE DATOS - Normalización**"
   ]
  },
  {
   "cell_type": "code",
   "execution_count": 96,
   "metadata": {},
   "outputs": [
    {
     "data": {
      "text/html": [
       "<div>\n",
       "<style scoped>\n",
       "    .dataframe tbody tr th:only-of-type {\n",
       "        vertical-align: middle;\n",
       "    }\n",
       "\n",
       "    .dataframe tbody tr th {\n",
       "        vertical-align: top;\n",
       "    }\n",
       "\n",
       "    .dataframe thead th {\n",
       "        text-align: right;\n",
       "    }\n",
       "</style>\n",
       "<table border=\"1\" class=\"dataframe\">\n",
       "  <thead>\n",
       "    <tr style=\"text-align: right;\">\n",
       "      <th></th>\n",
       "      <th>business_id</th>\n",
       "      <th>lista_categorias</th>\n",
       "    </tr>\n",
       "  </thead>\n",
       "  <tbody>\n",
       "    <tr>\n",
       "      <th>0</th>\n",
       "      <td>Pns2l4eNsfO8kk83dixA6A</td>\n",
       "      <td>Doctors</td>\n",
       "    </tr>\n",
       "    <tr>\n",
       "      <th>0</th>\n",
       "      <td>Pns2l4eNsfO8kk83dixA6A</td>\n",
       "      <td>Traditional Chinese Medicine</td>\n",
       "    </tr>\n",
       "    <tr>\n",
       "      <th>0</th>\n",
       "      <td>Pns2l4eNsfO8kk83dixA6A</td>\n",
       "      <td>Naturopathic/Holistic</td>\n",
       "    </tr>\n",
       "    <tr>\n",
       "      <th>0</th>\n",
       "      <td>Pns2l4eNsfO8kk83dixA6A</td>\n",
       "      <td>Acupuncture</td>\n",
       "    </tr>\n",
       "    <tr>\n",
       "      <th>0</th>\n",
       "      <td>Pns2l4eNsfO8kk83dixA6A</td>\n",
       "      <td>Health &amp; Medical</td>\n",
       "    </tr>\n",
       "    <tr>\n",
       "      <th>...</th>\n",
       "      <td>...</td>\n",
       "      <td>...</td>\n",
       "    </tr>\n",
       "    <tr>\n",
       "      <th>150344</th>\n",
       "      <td>mtGm22y5c2UHNXDFAjaPNw</td>\n",
       "      <td>Bikes</td>\n",
       "    </tr>\n",
       "    <tr>\n",
       "      <th>150345</th>\n",
       "      <td>jV_XOycEzSlTx-65W906pg</td>\n",
       "      <td>Beauty &amp; Spas</td>\n",
       "    </tr>\n",
       "    <tr>\n",
       "      <th>150345</th>\n",
       "      <td>jV_XOycEzSlTx-65W906pg</td>\n",
       "      <td>Permanent Makeup</td>\n",
       "    </tr>\n",
       "    <tr>\n",
       "      <th>150345</th>\n",
       "      <td>jV_XOycEzSlTx-65W906pg</td>\n",
       "      <td>Piercing</td>\n",
       "    </tr>\n",
       "    <tr>\n",
       "      <th>150345</th>\n",
       "      <td>jV_XOycEzSlTx-65W906pg</td>\n",
       "      <td>Tattoo</td>\n",
       "    </tr>\n",
       "  </tbody>\n",
       "</table>\n",
       "<p>668695 rows × 2 columns</p>\n",
       "</div>"
      ],
      "text/plain": [
       "                   business_id               lista_categorias\n",
       "0       Pns2l4eNsfO8kk83dixA6A                        Doctors\n",
       "0       Pns2l4eNsfO8kk83dixA6A   Traditional Chinese Medicine\n",
       "0       Pns2l4eNsfO8kk83dixA6A          Naturopathic/Holistic\n",
       "0       Pns2l4eNsfO8kk83dixA6A                    Acupuncture\n",
       "0       Pns2l4eNsfO8kk83dixA6A               Health & Medical\n",
       "...                        ...                            ...\n",
       "150344  mtGm22y5c2UHNXDFAjaPNw                          Bikes\n",
       "150345  jV_XOycEzSlTx-65W906pg                  Beauty & Spas\n",
       "150345  jV_XOycEzSlTx-65W906pg               Permanent Makeup\n",
       "150345  jV_XOycEzSlTx-65W906pg                       Piercing\n",
       "150345  jV_XOycEzSlTx-65W906pg                         Tattoo\n",
       "\n",
       "[668695 rows x 2 columns]"
      ]
     },
     "execution_count": 96,
     "metadata": {},
     "output_type": "execute_result"
    }
   ],
   "source": [
    "categorias_yelp = pd.read_parquet('C:\\DYNAMO\\PFinal\\Proyecto_final\\Datos\\yelp\\categories_business_yelp_todavia_nombres.parquet')\n",
    "categorias_yelp"
   ]
  },
  {
   "cell_type": "code",
   "execution_count": 3,
   "metadata": {},
   "outputs": [
    {
     "data": {
      "text/html": [
       "<div>\n",
       "<style scoped>\n",
       "    .dataframe tbody tr th:only-of-type {\n",
       "        vertical-align: middle;\n",
       "    }\n",
       "\n",
       "    .dataframe tbody tr th {\n",
       "        vertical-align: top;\n",
       "    }\n",
       "\n",
       "    .dataframe thead th {\n",
       "        text-align: right;\n",
       "    }\n",
       "</style>\n",
       "<table border=\"1\" class=\"dataframe\">\n",
       "  <thead>\n",
       "    <tr style=\"text-align: right;\">\n",
       "      <th></th>\n",
       "      <th>gmap_id</th>\n",
       "      <th>category</th>\n",
       "    </tr>\n",
       "  </thead>\n",
       "  <tbody>\n",
       "    <tr>\n",
       "      <th>0</th>\n",
       "      <td>0x88f16e41928ff687:0x883dad4fd048e8f8</td>\n",
       "      <td>Pharmacy</td>\n",
       "    </tr>\n",
       "    <tr>\n",
       "      <th>1</th>\n",
       "      <td>0x80c2c98c0e3c16fd:0x29ec8a728764fdf9</td>\n",
       "      <td>Textile exporter</td>\n",
       "    </tr>\n",
       "    <tr>\n",
       "      <th>2</th>\n",
       "      <td>0x80c2c778e3b73d33:0xbdc58662a4a97d49</td>\n",
       "      <td>Korean restaurant</td>\n",
       "    </tr>\n",
       "    <tr>\n",
       "      <th>3</th>\n",
       "      <td>0x80c2c89923b27a41:0x32041559418d447</td>\n",
       "      <td>Fabric store</td>\n",
       "    </tr>\n",
       "    <tr>\n",
       "      <th>4</th>\n",
       "      <td>0x80c2c632f933b073:0xc31785961fe826a6</td>\n",
       "      <td>Fabric store</td>\n",
       "    </tr>\n",
       "    <tr>\n",
       "      <th>...</th>\n",
       "      <td>...</td>\n",
       "      <td>...</td>\n",
       "    </tr>\n",
       "    <tr>\n",
       "      <th>3025006</th>\n",
       "      <td>0x89c6c74f43a49b55:0x6be6995921c58b12</td>\n",
       "      <td>Seafood restaurant</td>\n",
       "    </tr>\n",
       "    <tr>\n",
       "      <th>3025007</th>\n",
       "      <td>0x89da1787d3fdc4a5:0xce92ea6e3cd4d1cc</td>\n",
       "      <td>Chevrolet dealer</td>\n",
       "    </tr>\n",
       "    <tr>\n",
       "      <th>3025008</th>\n",
       "      <td>0x89da6b9ce832726f:0xbd0d3630f1e3b42e</td>\n",
       "      <td>Veterinarian</td>\n",
       "    </tr>\n",
       "    <tr>\n",
       "      <th>3025009</th>\n",
       "      <td>0x88d9e872a9e39f3d:0x5de29f50507e5d73</td>\n",
       "      <td>Animal feed store</td>\n",
       "    </tr>\n",
       "    <tr>\n",
       "      <th>3025010</th>\n",
       "      <td>0x54956b3944b1654d:0x7797cead9a485c22</td>\n",
       "      <td>Lodging</td>\n",
       "    </tr>\n",
       "  </tbody>\n",
       "</table>\n",
       "<p>6228507 rows × 2 columns</p>\n",
       "</div>"
      ],
      "text/plain": [
       "                                       gmap_id            category\n",
       "0        0x88f16e41928ff687:0x883dad4fd048e8f8            Pharmacy\n",
       "1        0x80c2c98c0e3c16fd:0x29ec8a728764fdf9    Textile exporter\n",
       "2        0x80c2c778e3b73d33:0xbdc58662a4a97d49   Korean restaurant\n",
       "3         0x80c2c89923b27a41:0x32041559418d447        Fabric store\n",
       "4        0x80c2c632f933b073:0xc31785961fe826a6        Fabric store\n",
       "...                                        ...                 ...\n",
       "3025006  0x89c6c74f43a49b55:0x6be6995921c58b12  Seafood restaurant\n",
       "3025007  0x89da1787d3fdc4a5:0xce92ea6e3cd4d1cc    Chevrolet dealer\n",
       "3025008  0x89da6b9ce832726f:0xbd0d3630f1e3b42e        Veterinarian\n",
       "3025009  0x88d9e872a9e39f3d:0x5de29f50507e5d73   Animal feed store\n",
       "3025010  0x54956b3944b1654d:0x7797cead9a485c22             Lodging\n",
       "\n",
       "[6228507 rows x 2 columns]"
      ]
     },
     "execution_count": 3,
     "metadata": {},
     "output_type": "execute_result"
    }
   ],
   "source": [
    "categorias_google = pd.read_parquet('C:\\DYNAMO\\PFinal\\Proyecto_final\\Datos\\google\\categories_sitios_google_todavia_nombres.parquet')\n",
    "categorias_google"
   ]
  },
  {
   "cell_type": "markdown",
   "metadata": {},
   "source": [
    "#### **ELIMINACIÓN DE NULLS Y DUPLICADOS**"
   ]
  },
  {
   "cell_type": "code",
   "execution_count": 97,
   "metadata": {},
   "outputs": [
    {
     "name": "stdout",
     "output_type": "stream",
     "text": [
      "Duplicados en Yelp: 33\n",
      "\n",
      "Duplicados en Google: 0\n",
      "\n",
      "Valores nulos en Yelp:\n",
      "business_id         0\n",
      "lista_categorias    0\n",
      "dtype: int64 \n",
      "\n",
      "Valores nulos en Google:\n",
      "gmap_id        0\n",
      "category       0\n",
      "category_id    0\n",
      "dtype: int64 \n",
      "\n"
     ]
    }
   ],
   "source": [
    "# Verificar duplicados\n",
    "duplicados_yelp = categorias_yelp.duplicated().sum()\n",
    "duplicados_google = categorias_google.duplicated().sum()\n",
    "\n",
    "# Verificar valores nulos\n",
    "valores_nulos_yelp = categorias_yelp.isnull().sum()\n",
    "valores_nulos_google = categorias_google.isnull().sum()\n",
    "\n",
    "# Resultados\n",
    "print(f'Duplicados en Yelp: {duplicados_yelp}\\n')\n",
    "print(f'Duplicados en Google: {duplicados_google}\\n')\n",
    "\n",
    "print('Valores nulos en Yelp:')\n",
    "print(valores_nulos_yelp, '\\n')\n",
    "\n",
    "print('Valores nulos en Google:')\n",
    "print(valores_nulos_google, '\\n')"
   ]
  },
  {
   "cell_type": "code",
   "execution_count": 98,
   "metadata": {},
   "outputs": [
    {
     "name": "stdout",
     "output_type": "stream",
     "text": [
      "Cantidad de filas con categorías vacías: 103\n"
     ]
    }
   ],
   "source": [
    "# Filtrar las filas con categorías vacías\n",
    "filas_vacias_yelp = categorias_yelp[categorias_yelp['lista_categorias'] == '']\n",
    "\n",
    "# Contar cuántas filas están vacías\n",
    "conteo_vacio = filas_vacias_yelp.shape[0]\n",
    "\n",
    "print(f\"Cantidad de filas con categorías vacías: {conteo_vacio}\")\n"
   ]
  },
  {
   "cell_type": "code",
   "execution_count": 100,
   "metadata": {},
   "outputs": [
    {
     "name": "stdout",
     "output_type": "stream",
     "text": [
      "Cantidad de filas con categorías vacías: 0\n"
     ]
    }
   ],
   "source": [
    "# Filtrar las filas con categorías vacías\n",
    "filas_vacias_google = categorias_google[categorias_google['category'] == '']\n",
    "\n",
    "# Contar cuántas filas están vacías\n",
    "conteo_vacio_g = filas_vacias_google.shape[0]\n",
    "\n",
    "print(f\"Cantidad de filas con categorías vacías: {conteo_vacio_g}\")\n"
   ]
  },
  {
   "cell_type": "code",
   "execution_count": 101,
   "metadata": {},
   "outputs": [
    {
     "name": "stdout",
     "output_type": "stream",
     "text": [
      "Filas restantes en categorías de Yelp:\n",
      "668592\n"
     ]
    }
   ],
   "source": [
    "# Eliminar filas con categorías vacías\n",
    "categorias_yelp = categorias_yelp[categorias_yelp['lista_categorias'] != '']\n",
    "\n",
    "# Verificar que se eliminaron las filas vacías\n",
    "print(\"Filas restantes en categorías de Yelp:\")\n",
    "print(categorias_yelp.shape[0])  # Cantidad de filas restantes\n"
   ]
  },
  {
   "cell_type": "code",
   "execution_count": 102,
   "metadata": {},
   "outputs": [],
   "source": [
    "# Manejo de duplicados en Yelp\n",
    "categorias_yelp = categorias_yelp.drop_duplicates()"
   ]
  },
  {
   "cell_type": "code",
   "execution_count": 103,
   "metadata": {},
   "outputs": [],
   "source": [
    "# Manejo de valores nulos en Google\n",
    "categorias_google = categorias_google.dropna(subset=['category'])"
   ]
  },
  {
   "cell_type": "code",
   "execution_count": 105,
   "metadata": {},
   "outputs": [
    {
     "name": "stdout",
     "output_type": "stream",
     "text": [
      "Cantidad de categorías únicas en Yelp: 2454\n",
      "Número de categorías únicas en Google: 4470\n"
     ]
    }
   ],
   "source": [
    "# 1. Recuento de categorías únicas\n",
    "categorias_yelp_unicas = categorias_yelp['lista_categorias'].nunique()\n",
    "print(f\"Cantidad de categorías únicas en Yelp: {categorias_yelp_unicas}\")\n",
    "\n",
    "# Conteo de categorías únicas en Google\n",
    "categorias_google_unicas = categorias_google['category'].nunique()\n",
    "print(f\"Número de categorías únicas en Google: {categorias_google_unicas}\")"
   ]
  },
  {
   "cell_type": "markdown",
   "metadata": {},
   "source": [
    "### **CONSIDERACIONES** \n",
    "\n",
    "##### A pesar de que hay una gran cantidad de filas en ambos datasets, solo hay un número limitado de categorías en cada uno. La presencia de tantas filas en comparación con las categorías únicas indica que muchos negocios comparten las mismas categorías.\n",
    "\n",
    "- ##### **En Yelp: 2454 categorías únicas.**\n",
    "##### **Múltiples Negocios por Categoría:** Dado que cada ``business_id`` puede estar asociado a múltiples categorías, significa que varias empresas pueden compartir la misma categoría. Por ejemplo, diferentes restaurantes pueden ser clasificados bajo **\"food\"**, **\"breakfast\"**, lo que resulta en una cantidad significativa de filas para una categoría dada.\n",
    "- ##### **En Google: 4470 categorías únicas.**\n",
    "##### **Múltiples Categorías por Localización (gmap_id):** En Google Maps, cada ``gmap_id`` puede repetirse con diferentes categorías. Esto significa que un solo negocio puede ser clasificado de múltiples maneras, lo que refleja la versatilidad en cómo los negocios son percibidos o categorizados.\n",
    "\n",
    "---"
   ]
  },
  {
   "cell_type": "markdown",
   "metadata": {},
   "source": [
    "#### **GRÁFICO DE CATEGORIAS TOP TEN (FRECUENCIA)**\n",
    "\n",
    "##### Se visualizan las categorías que aparecen con mayor frecuencia tanto en el dataset de google como en el de yelp. El objetivo es poder identificar las categoría que son populares entre los usuarios. Esto nos permitirá influir en las decisiones o análisis posteriores, como identificar áreas de mercado saturadas o en crecimiento.\n",
    "\n",
    "#### **Dominancia de ``Restaurants:``**\n",
    "\n",
    "##### En Yelp, la categoría \"Restaurants\" lidera con más de 35.000 menciones, lo cual es significativo.\n",
    "##### En Google, la categoría \"Restaurant\" tiene una cantidad aún mayor cerca de 100.000 menciones lo que sugiere que, en general, la búsqueda de restaurantes es mucho más común en Google.\n",
    "\n",
    "#### **Categorías Similares:**\n",
    "\n",
    "##### Ambos datasets muestran categorías relacionadas con la comida (``\"Food\"`` en Yelp y ``\"Restaurant\"`` en Google), indicando que hay un enfoque fuerte en la **gastronomía**.\n",
    "##### Las **categorías de belleza** también aparecen en ambos, como ``\"Beauty & Spas\"`` en Yelp y ``\"Beauty salon\"`` y ``\"Nail salon\"`` en Google, lo que sugiere una demanda en estos servicios.\n",
    "\n",
    "#### **Servicios Automotrices y Estaciones de Servicio en Google:**\n",
    "\n",
    "##### Google incluye categorías como ``\"Auto repair shop\"`` y ``\"Gas station\"``, que no aparecen en Yelp. Esto puede reflejar la naturaleza de los negocios que los usuarios buscan en cada plataforma.\n",
    "\n",
    "#### **Variedad en los Tipos de Negocios:**\n",
    "\n",
    "##### Google tiene una gama más amplia de categorías en su top 10, mientras que Yelp parece estar más centrado en servicios relacionados con la comida y el entretenimiento."
   ]
  },
  {
   "cell_type": "code",
   "execution_count": 112,
   "metadata": {},
   "outputs": [
    {
     "data": {
      "image/png": "[encoded data removed]",
      "text/plain": [
       "<Figure size 1000x500 with 1 Axes>"
      ]
     },
     "metadata": {},
     "output_type": "display_data"
    }
   ],
   "source": [
    "# Frecuencia de las categorías más comunes en Yelp\n",
    "top_yelp = categorias_yelp['lista_categorias'].value_counts().head(10).sort_values(ascending=False)\n",
    "\n",
    "# Crear gráfico de barras horizontal para Yelp\n",
    "plt.figure(figsize=(10, 5))\n",
    "sns.barplot(x=top_yelp.values, y=top_yelp.index, palette='magma')\n",
    "plt.title('Top 10 categorías más comunes en Yelp')\n",
    "plt.xlabel('Frecuencia')\n",
    "plt.ylabel('Categorías')\n",
    "\n",
    "# Visualización\n",
    "plt.tight_layout()\n",
    "plt.show()"
   ]
  },
  {
   "cell_type": "code",
   "execution_count": 114,
   "metadata": {},
   "outputs": [
    {
     "data": {
      "image/png": "[encoded data removed]",
      "text/plain": [
       "<Figure size 1000x500 with 1 Axes>"
      ]
     },
     "metadata": {},
     "output_type": "display_data"
    }
   ],
   "source": [
    "# Frecuencia de las categorías más comunes en Google\n",
    "top_google = categorias_google['category'].value_counts().head(10).sort_values(ascending=False)\n",
    "\n",
    "# Crear gráfico de barras horizontal para Google\n",
    "plt.figure(figsize=(10, 5))\n",
    "sns.barplot(x=top_google.values, y=top_google.index, palette='magma')\n",
    "plt.title('Top 10 categorías más comunes en Google')\n",
    "plt.xlabel('Frecuencia')\n",
    "plt.ylabel('Categorías')\n",
    "\n",
    "# Visualizción\n",
    "plt.tight_layout()\n",
    "plt.show()"
   ]
  },
  {
   "cell_type": "markdown",
   "metadata": {},
   "source": [
    "### **CONCLUSIONES**\n",
    "\n",
    "#### **Tendencias de Consumo:** \n",
    "\n",
    "- ##### La alta frecuencia de la categoría ``Restaurants`` respalda nuestro enfoque en analizar **restaurantes** y **hoteles**, destacando su relevancia en el mercado actual.\n",
    "\n",
    "#### **Segmentación y Personalización:**\n",
    "- ##### La diversidad de categorías en los datasets subraya la importancia de un sistema de recomendación personalizado, que ayude a los usuarios a descubrir nuevos lugares basados en sus preferencias.\n",
    "\n",
    "#### **Impacto de las Reseñas:**\n",
    "- ##### Las reseñas son cruciales para la toma de decisiones de los consumidores; analizar estos datos permitirá a las empresas optimizar sus servicios y mejorar su reputación.\n",
    "\n",
    "#### **Adaptación Continua:**\n",
    "- ##### La naturaleza dinámica de las reseñas implica que nuestras herramientas deben actualizarse en tiempo real, facilitando la adaptación a cambios en el comportamiento del consumidor.\n",
    "\n",
    "---"
   ]
  },
  {
   "cell_type": "markdown",
   "metadata": {},
   "source": [
    "#### **Unificar Categorías Yelp y Google**\n",
    "\n",
    "Se procede a agrupar las categorías a segmentos más generales para obtener una visión más amplia y clara de todas las categorías presentes, lo que nos ayudará a tomar decisiones informadas y mejor fundamentadas."
   ]
  },
  {
   "cell_type": "markdown",
   "metadata": {},
   "source": [
    "**Unificar y Normalizar Categorías**\n",
    "\n",
    "A continuación, concatenamos las categorías de ambas tablas y eliminamos duplicados para crear una tabla maestra de categorías y se aplica un proceso de normalización que incluye la eliminación de espacios en blanco y la conversión a minúsculas."
   ]
  },
  {
   "cell_type": "code",
   "execution_count": 26,
   "metadata": {},
   "outputs": [],
   "source": [
    "# Paso 1: Unificar categorías y crear maestro de categorías\n",
    "# Concatenar ambas tablas de categorías\n",
    "categorias_unificadas = pd.concat([categorias_yelp['lista_categorias'], categorias_google['category']]).unique()\n",
    "\n",
    "# Crear tabla maestra de categorías\n",
    "categories = pd.DataFrame(categorias_unificadas, columns=['category'])\n",
    "categories['category_id'] = categories.index + 1  # autoincremental\n",
    "\n",
    "\n",
    "# Normalizar y limpiar categorías\n",
    "def normalizar_categoria(cat):\n",
    "    \"\"\"Normaliza la categoría eliminando espacios y convirtiendo a minúsculas.\"\"\"\n",
    "    return cat.strip().lower()  # Remover espacios y convertir a minúsculas\n",
    "\n",
    "# Aplicar normalización\n",
    "categories['category'] = categories['category'].apply(normalizar_categoria)\n",
    "\n",
    "# Eliminar duplicados tras la normalización\n",
    "categories = categories.drop_duplicates(subset=['category']).reset_index(drop=True)\n",
    "\n",
    "# Reasignar el category_id después de la limpieza\n",
    "categories['category_id'] = categories.index + 1\n",
    "\n",
    "# Guardar el CSV normalizado\n",
    "categories.to_csv('categories_normalized.csv', index=False)\n"
   ]
  },
  {
   "cell_type": "markdown",
   "metadata": {},
   "source": [
    "Se procede a normalizar las categorías en las tablas originales para asegurar consistencia y se crea un diccionario que vincula las categorías a sus respectivos ``category_id``. Para ello se mapea y asigna el ``category_id`` a las categorías en **Yelp**.\n",
    "\n",
    "De manera similar, asignamos el ``category_id`` a las categorías en **Google**. Finalmente se renombran las columnas para que sean más descriptivas y claras."
   ]
  },
  {
   "cell_type": "code",
   "execution_count": 31,
   "metadata": {},
   "outputs": [],
   "source": [
    "# Cargar las tablas originales y el maestro de categorías\n",
    "# categorias_yelp = pd.read_parquet('Proyecto_final/Datos/yelp/categories_business_yelp_todavia_nombres.parquet')\n",
    "# categorias_google = pd.read_parquet('Proyecto_final/Datos/google/categories_sitios_google_todavia_nombres.parquet')\n",
    "categories = pd.read_csv('C:/DYNAMO/PFinal/Proyecto_final/notebooks/EDA/categories_normalized.csv')\n",
    "\n",
    "# Paso 2: Normalizar y limpiar categorías en las tablas originales\n",
    "categorias_yelp['lista_categorias'] = categorias_yelp['lista_categorias'].apply(normalizar_categoria)\n",
    "categorias_google['category'] = categorias_google['category'].apply(normalizar_categoria)\n",
    "\n",
    "# Paso 3: Crear un diccionario para mapear categorías a category_id\n",
    "category_dict = pd.Series(categories.category_id.values, index=categories.category).to_dict()\n",
    "\n",
    "# Paso 4: Mapear y asignar category_id en Yelp\n",
    "categorias_yelp['category_id'] = categorias_yelp['lista_categorias'].map(category_dict)\n",
    "\n",
    "# Paso 5: Mapear y asignar category_id en Google\n",
    "categorias_google['category_id'] = categorias_google['category'].map(category_dict)\n",
    "\n",
    "# Paso 6: Mantener solo las columnas necesarias\n",
    "yelp_normalizado = categorias_yelp[['business_id', 'category_id']]\n",
    "google_normalizado = categorias_google[['gmap_id', 'category_id']]\n",
    "\n",
    "# Paso 7: Renombrar las columnas para mayor claridad\n",
    "yelp_normalizado.rename(columns={'category_id': 'category_id_yelp'}, inplace=True)\n",
    "google_normalizado.rename(columns={'category_id': 'category_id_google'}, inplace=True)\n",
    "\n",
    "# Paso 8: Guardar las tablas normalizadas\n",
    "yelp_normalizado.to_parquet('yelp_normalizado.parquet', index=False)\n",
    "google_normalizado.to_parquet('google_normalizado.parquet', index=False)"
   ]
  },
  {
   "cell_type": "code",
   "execution_count": 41,
   "metadata": {},
   "outputs": [
    {
     "name": "stdout",
     "output_type": "stream",
     "text": [
      "0 categorías no mapeadas en Yelp.\n",
      "0 categorías no mapeadas en Google.\n"
     ]
    }
   ],
   "source": [
    "print(categorias_yelp['category_id'].isnull().sum(), \"categorías no mapeadas en Yelp.\")\n",
    "print(categorias_google['category_id'].isnull().sum(), \"categorías no mapeadas en Google.\")\n"
   ]
  },
  {
   "cell_type": "markdown",
   "metadata": {},
   "source": [
    "#### Se verifican los registros en los conjuntos de datos normalizados. Los duplicados pueden afectar la calidad del análisis, por lo que es crucial detectarlos y decidir en equipo cómo proceder con ellos.\n",
    "\n",
    "#### **yelp**\n",
    "\n",
    "#### A continuación, se identifican los duplicados en el conjunto de datos. Se busca por combinaciones de business_id y category_id_yelp, ya que estas son claves relevantes para detectar duplicaciones significativas."
   ]
  },
  {
   "cell_type": "code",
   "execution_count": 59,
   "metadata": {},
   "outputs": [],
   "source": [
    "yelp_normalizado = pd.read_parquet('yelp_normalizado.parquet')"
   ]
  },
  {
   "cell_type": "code",
   "execution_count": 61,
   "metadata": {},
   "outputs": [
    {
     "data": {
      "text/html": [
       "<div>\n",
       "<style scoped>\n",
       "    .dataframe tbody tr th:only-of-type {\n",
       "        vertical-align: middle;\n",
       "    }\n",
       "\n",
       "    .dataframe tbody tr th {\n",
       "        vertical-align: top;\n",
       "    }\n",
       "\n",
       "    .dataframe thead th {\n",
       "        text-align: right;\n",
       "    }\n",
       "</style>\n",
       "<table border=\"1\" class=\"dataframe\">\n",
       "  <thead>\n",
       "    <tr style=\"text-align: right;\">\n",
       "      <th></th>\n",
       "      <th>business_id</th>\n",
       "      <th>category_id_yelp</th>\n",
       "    </tr>\n",
       "  </thead>\n",
       "  <tbody>\n",
       "    <tr>\n",
       "      <th>0</th>\n",
       "      <td>Pns2l4eNsfO8kk83dixA6A</td>\n",
       "      <td>1.0</td>\n",
       "    </tr>\n",
       "    <tr>\n",
       "      <th>1</th>\n",
       "      <td>Pns2l4eNsfO8kk83dixA6A</td>\n",
       "      <td>2.0</td>\n",
       "    </tr>\n",
       "    <tr>\n",
       "      <th>2</th>\n",
       "      <td>Pns2l4eNsfO8kk83dixA6A</td>\n",
       "      <td>3.0</td>\n",
       "    </tr>\n",
       "    <tr>\n",
       "      <th>3</th>\n",
       "      <td>Pns2l4eNsfO8kk83dixA6A</td>\n",
       "      <td>4.0</td>\n",
       "    </tr>\n",
       "    <tr>\n",
       "      <th>4</th>\n",
       "      <td>Pns2l4eNsfO8kk83dixA6A</td>\n",
       "      <td>5.0</td>\n",
       "    </tr>\n",
       "    <tr>\n",
       "      <th>5</th>\n",
       "      <td>Pns2l4eNsfO8kk83dixA6A</td>\n",
       "      <td>6.0</td>\n",
       "    </tr>\n",
       "    <tr>\n",
       "      <th>6</th>\n",
       "      <td>mpf3x-BjTdTEA3yCZrAYPw</td>\n",
       "      <td>7.0</td>\n",
       "    </tr>\n",
       "    <tr>\n",
       "      <th>7</th>\n",
       "      <td>mpf3x-BjTdTEA3yCZrAYPw</td>\n",
       "      <td>8.0</td>\n",
       "    </tr>\n",
       "    <tr>\n",
       "      <th>8</th>\n",
       "      <td>mpf3x-BjTdTEA3yCZrAYPw</td>\n",
       "      <td>9.0</td>\n",
       "    </tr>\n",
       "    <tr>\n",
       "      <th>9</th>\n",
       "      <td>mpf3x-BjTdTEA3yCZrAYPw</td>\n",
       "      <td>10.0</td>\n",
       "    </tr>\n",
       "  </tbody>\n",
       "</table>\n",
       "</div>"
      ],
      "text/plain": [
       "              business_id  category_id_yelp\n",
       "0  Pns2l4eNsfO8kk83dixA6A               1.0\n",
       "1  Pns2l4eNsfO8kk83dixA6A               2.0\n",
       "2  Pns2l4eNsfO8kk83dixA6A               3.0\n",
       "3  Pns2l4eNsfO8kk83dixA6A               4.0\n",
       "4  Pns2l4eNsfO8kk83dixA6A               5.0\n",
       "5  Pns2l4eNsfO8kk83dixA6A               6.0\n",
       "6  mpf3x-BjTdTEA3yCZrAYPw               7.0\n",
       "7  mpf3x-BjTdTEA3yCZrAYPw               8.0\n",
       "8  mpf3x-BjTdTEA3yCZrAYPw               9.0\n",
       "9  mpf3x-BjTdTEA3yCZrAYPw              10.0"
      ]
     },
     "execution_count": 61,
     "metadata": {},
     "output_type": "execute_result"
    }
   ],
   "source": [
    "yelp_normalizado.head(10)"
   ]
  },
  {
   "cell_type": "markdown",
   "metadata": {},
   "source": [
    "#### **Duplicados Encontrados:** \n",
    "#### Se han identificado múltiples registros con el mismo business_id y category_id_yelp, indicando que un mismo negocio puede estar asociado a la misma categoría más de una vez.\n",
    "\n",
    "#### Los duplicados están asociados con la categoría de \"gas stations\" id = 171."
   ]
  },
  {
   "cell_type": "code",
   "execution_count": 51,
   "metadata": {},
   "outputs": [
    {
     "name": "stdout",
     "output_type": "stream",
     "text": [
      "                   business_id  category_id_yelp\n",
      "15731   5wnGMB8tXhNvGcbhPJeeVw             171.0\n",
      "182363  60A570zht69eAj3Md81nsQ             171.0\n",
      "266310  YLLWDhNYfP1ocOHC5KWBOQ             171.0\n",
      "327462  JPmd9szvz_YI8_LtcwixFw             171.0\n",
      "394359  91gDFsfejFglVwdQWnkOpg             171.0\n",
      "402228  -Ot1Qa0V3wNVUroZmItMyQ             171.0\n",
      "452669  zqAPDoI34MDtNjvCWe3WKA             171.0\n",
      "534635  oRY9axuwOQSN4HbTu7obtg             171.0\n",
      "628422  XwqwayHSA_TJDnk-13AyAw             171.0\n",
      "651164  fBNAR1lquwEEqruuR16UqQ             171.0\n"
     ]
    }
   ],
   "source": [
    "duplicates_yelp = yelp_normalizado[yelp_normalizado.duplicated(subset=['business_id', 'category_id_yelp'])]\n",
    "print(duplicates_yelp)\n"
   ]
  },
  {
   "cell_type": "code",
   "execution_count": 52,
   "metadata": {},
   "outputs": [
    {
     "name": "stdout",
     "output_type": "stream",
     "text": [
      "         category  category_id\n",
      "170  gas stations          171\n"
     ]
    }
   ],
   "source": [
    "category_info = categories[categories['category_id'] == 171]\n",
    "print(category_info)\n"
   ]
  },
  {
   "cell_type": "code",
   "execution_count": 49,
   "metadata": {},
   "outputs": [],
   "source": [
    "google_normalizado = pd.read_parquet('google_normalizado.parquet')"
   ]
  },
  {
   "cell_type": "code",
   "execution_count": 50,
   "metadata": {},
   "outputs": [
    {
     "data": {
      "text/html": [
       "<div>\n",
       "<style scoped>\n",
       "    .dataframe tbody tr th:only-of-type {\n",
       "        vertical-align: middle;\n",
       "    }\n",
       "\n",
       "    .dataframe tbody tr th {\n",
       "        vertical-align: top;\n",
       "    }\n",
       "\n",
       "    .dataframe thead th {\n",
       "        text-align: right;\n",
       "    }\n",
       "</style>\n",
       "<table border=\"1\" class=\"dataframe\">\n",
       "  <thead>\n",
       "    <tr style=\"text-align: right;\">\n",
       "      <th></th>\n",
       "      <th>gmap_id</th>\n",
       "      <th>category_id_google</th>\n",
       "    </tr>\n",
       "  </thead>\n",
       "  <tbody>\n",
       "    <tr>\n",
       "      <th>0</th>\n",
       "      <td>0x88f16e41928ff687:0x883dad4fd048e8f8</td>\n",
       "      <td>269</td>\n",
       "    </tr>\n",
       "    <tr>\n",
       "      <th>1</th>\n",
       "      <td>0x80c2c98c0e3c16fd:0x29ec8a728764fdf9</td>\n",
       "      <td>1313</td>\n",
       "    </tr>\n",
       "    <tr>\n",
       "      <th>2</th>\n",
       "      <td>0x80c2c778e3b73d33:0xbdc58662a4a97d49</td>\n",
       "      <td>1314</td>\n",
       "    </tr>\n",
       "    <tr>\n",
       "      <th>3</th>\n",
       "      <td>0x80c2c89923b27a41:0x32041559418d447</td>\n",
       "      <td>1315</td>\n",
       "    </tr>\n",
       "    <tr>\n",
       "      <th>4</th>\n",
       "      <td>0x80c2c632f933b073:0xc31785961fe826a6</td>\n",
       "      <td>1315</td>\n",
       "    </tr>\n",
       "    <tr>\n",
       "      <th>5</th>\n",
       "      <td>0x80c2cf163db6bc89:0x219484e2edbcfa41</td>\n",
       "      <td>1315</td>\n",
       "    </tr>\n",
       "    <tr>\n",
       "      <th>6</th>\n",
       "      <td>0x80dd2b4c8555edb7:0xfc33d65c4bdbef42</td>\n",
       "      <td>1316</td>\n",
       "    </tr>\n",
       "    <tr>\n",
       "      <th>7</th>\n",
       "      <td>0x87ec238afdd8837b:0x2f43f2b12142bff5</td>\n",
       "      <td>1317</td>\n",
       "    </tr>\n",
       "    <tr>\n",
       "      <th>8</th>\n",
       "      <td>0x87ec238afdd8837b:0x2f43f2b12142bff5</td>\n",
       "      <td>1318</td>\n",
       "    </tr>\n",
       "    <tr>\n",
       "      <th>9</th>\n",
       "      <td>0x87ec235c54d25b31:0x3b75fb5facc602f</td>\n",
       "      <td>1319</td>\n",
       "    </tr>\n",
       "    <tr>\n",
       "      <th>10</th>\n",
       "      <td>0x87ec235c54d25b31:0x3b75fb5facc602f</td>\n",
       "      <td>1320</td>\n",
       "    </tr>\n",
       "    <tr>\n",
       "      <th>11</th>\n",
       "      <td>0x87ee85ac3cb23b4d:0x4cd1435fddc046b1</td>\n",
       "      <td>1321</td>\n",
       "    </tr>\n",
       "    <tr>\n",
       "      <th>12</th>\n",
       "      <td>0x87ee85ac3cb23b4d:0x4cd1435fddc046b1</td>\n",
       "      <td>1322</td>\n",
       "    </tr>\n",
       "    <tr>\n",
       "      <th>13</th>\n",
       "      <td>0x87ec2394c2cd9d2d:0xd1119cfbee0da6f3</td>\n",
       "      <td>1323</td>\n",
       "    </tr>\n",
       "    <tr>\n",
       "      <th>14</th>\n",
       "      <td>0x87ec2394c2cd9d2d:0xd1119cfbee0da6f3</td>\n",
       "      <td>1324</td>\n",
       "    </tr>\n",
       "    <tr>\n",
       "      <th>15</th>\n",
       "      <td>0x87ec2394c2cd9d2d:0xd1119cfbee0da6f3</td>\n",
       "      <td>1325</td>\n",
       "    </tr>\n",
       "    <tr>\n",
       "      <th>16</th>\n",
       "      <td>0x87ee95d1e474531b:0xb432dd96285cdc6b</td>\n",
       "      <td>1326</td>\n",
       "    </tr>\n",
       "    <tr>\n",
       "      <th>17</th>\n",
       "      <td>0x87ee95d1e474531b:0xb432dd96285cdc6b</td>\n",
       "      <td>1327</td>\n",
       "    </tr>\n",
       "    <tr>\n",
       "      <th>18</th>\n",
       "      <td>0x87ec2481df6626b5:0xff5627745308ec2b</td>\n",
       "      <td>1328</td>\n",
       "    </tr>\n",
       "    <tr>\n",
       "      <th>19</th>\n",
       "      <td>0x80960c29f2e3bf29:0x4b291f0d275a5699</td>\n",
       "      <td>1329</td>\n",
       "    </tr>\n",
       "    <tr>\n",
       "      <th>20</th>\n",
       "      <td>0x80960c29f2e3bf29:0x4b291f0d275a5699</td>\n",
       "      <td>1330</td>\n",
       "    </tr>\n",
       "    <tr>\n",
       "      <th>21</th>\n",
       "      <td>0x88d9beb4fe0532c1:0xef0555c169299d6</td>\n",
       "      <td>1331</td>\n",
       "    </tr>\n",
       "    <tr>\n",
       "      <th>22</th>\n",
       "      <td>0x809adef58ae560bd:0x83412889e022ff70</td>\n",
       "      <td>1332</td>\n",
       "    </tr>\n",
       "    <tr>\n",
       "      <th>23</th>\n",
       "      <td>0x809adef58ae560bd:0x83412889e022ff70</td>\n",
       "      <td>1333</td>\n",
       "    </tr>\n",
       "    <tr>\n",
       "      <th>24</th>\n",
       "      <td>0x809adef58ae560bd:0x83412889e022ff70</td>\n",
       "      <td>163</td>\n",
       "    </tr>\n",
       "    <tr>\n",
       "      <th>25</th>\n",
       "      <td>0x809adef58ae560bd:0x83412889e022ff70</td>\n",
       "      <td>1334</td>\n",
       "    </tr>\n",
       "    <tr>\n",
       "      <th>26</th>\n",
       "      <td>0x809adef58ae560bd:0x83412889e022ff70</td>\n",
       "      <td>1335</td>\n",
       "    </tr>\n",
       "    <tr>\n",
       "      <th>27</th>\n",
       "      <td>0x809b1ff6d3a60c4d:0xdf08e68028807693</td>\n",
       "      <td>1336</td>\n",
       "    </tr>\n",
       "    <tr>\n",
       "      <th>28</th>\n",
       "      <td>0x809b1ff6d3a60c4d:0xdf08e68028807693</td>\n",
       "      <td>1337</td>\n",
       "    </tr>\n",
       "    <tr>\n",
       "      <th>29</th>\n",
       "      <td>0x809ae0a7ce91433b:0xe4b44fbb8c35ba57</td>\n",
       "      <td>1334</td>\n",
       "    </tr>\n",
       "    <tr>\n",
       "      <th>30</th>\n",
       "      <td>0x809ad95924805cf7:0xb424019b8961719d</td>\n",
       "      <td>1331</td>\n",
       "    </tr>\n",
       "    <tr>\n",
       "      <th>31</th>\n",
       "      <td>0x809b217a6cbe4fa9:0x9fd06999c64c1815</td>\n",
       "      <td>1334</td>\n",
       "    </tr>\n",
       "    <tr>\n",
       "      <th>32</th>\n",
       "      <td>0x809b217a6cbe4fa9:0x9fd06999c64c1815</td>\n",
       "      <td>1332</td>\n",
       "    </tr>\n",
       "    <tr>\n",
       "      <th>33</th>\n",
       "      <td>0x809b217a6cbe4fa9:0x9fd06999c64c1815</td>\n",
       "      <td>1338</td>\n",
       "    </tr>\n",
       "    <tr>\n",
       "      <th>34</th>\n",
       "      <td>0x809adfe022389d79:0x388b21219097be6c</td>\n",
       "      <td>1334</td>\n",
       "    </tr>\n",
       "    <tr>\n",
       "      <th>35</th>\n",
       "      <td>0x809ad993cd15cc69:0x38291ec9a11f59ed</td>\n",
       "      <td>1334</td>\n",
       "    </tr>\n",
       "    <tr>\n",
       "      <th>36</th>\n",
       "      <td>0x809b20f8059f58af:0xf05aed524fd9b93c</td>\n",
       "      <td>1332</td>\n",
       "    </tr>\n",
       "    <tr>\n",
       "      <th>37</th>\n",
       "      <td>0x809b20f8059f58af:0xf05aed524fd9b93c</td>\n",
       "      <td>1334</td>\n",
       "    </tr>\n",
       "    <tr>\n",
       "      <th>38</th>\n",
       "      <td>0x809adee9ac6f1bd7:0xe2e56d16919b9b8d</td>\n",
       "      <td>1334</td>\n",
       "    </tr>\n",
       "    <tr>\n",
       "      <th>39</th>\n",
       "      <td>0x8638869e6b4e3529:0xe8d257447fe41672</td>\n",
       "      <td>1339</td>\n",
       "    </tr>\n",
       "    <tr>\n",
       "      <th>40</th>\n",
       "      <td>0x86312d61f5ac28b5:0x5e6c55690b65096a</td>\n",
       "      <td>1340</td>\n",
       "    </tr>\n",
       "    <tr>\n",
       "      <th>41</th>\n",
       "      <td>0x86312d61f5ac28b5:0x5e6c55690b65096a</td>\n",
       "      <td>1341</td>\n",
       "    </tr>\n",
       "    <tr>\n",
       "      <th>42</th>\n",
       "      <td>0x86312d61f5ac28b5:0x5e6c55690b65096a</td>\n",
       "      <td>1342</td>\n",
       "    </tr>\n",
       "    <tr>\n",
       "      <th>43</th>\n",
       "      <td>0x86312d61f5ac28b5:0x5e6c55690b65096a</td>\n",
       "      <td>1343</td>\n",
       "    </tr>\n",
       "    <tr>\n",
       "      <th>44</th>\n",
       "      <td>0x863050a2977a797d:0x8206eda0d4f6207</td>\n",
       "      <td>1344</td>\n",
       "    </tr>\n",
       "    <tr>\n",
       "      <th>45</th>\n",
       "      <td>0x8636d2cbbf059b25:0xfb596a49eb5ae043</td>\n",
       "      <td>1324</td>\n",
       "    </tr>\n",
       "    <tr>\n",
       "      <th>46</th>\n",
       "      <td>0x8636d2cbbf059b25:0xfb596a49eb5ae043</td>\n",
       "      <td>1323</td>\n",
       "    </tr>\n",
       "    <tr>\n",
       "      <th>47</th>\n",
       "      <td>0x8636cd31728dc371:0x634bad3dae8adce6</td>\n",
       "      <td>1331</td>\n",
       "    </tr>\n",
       "    <tr>\n",
       "      <th>48</th>\n",
       "      <td>0x86312cb6a6be635f:0x1aab9f13de75d762</td>\n",
       "      <td>1345</td>\n",
       "    </tr>\n",
       "    <tr>\n",
       "      <th>49</th>\n",
       "      <td>0x86312cb6a6be635f:0x1aab9f13de75d762</td>\n",
       "      <td>1346</td>\n",
       "    </tr>\n",
       "  </tbody>\n",
       "</table>\n",
       "</div>"
      ],
      "text/plain": [
       "                                  gmap_id  category_id_google\n",
       "0   0x88f16e41928ff687:0x883dad4fd048e8f8                 269\n",
       "1   0x80c2c98c0e3c16fd:0x29ec8a728764fdf9                1313\n",
       "2   0x80c2c778e3b73d33:0xbdc58662a4a97d49                1314\n",
       "3    0x80c2c89923b27a41:0x32041559418d447                1315\n",
       "4   0x80c2c632f933b073:0xc31785961fe826a6                1315\n",
       "5   0x80c2cf163db6bc89:0x219484e2edbcfa41                1315\n",
       "6   0x80dd2b4c8555edb7:0xfc33d65c4bdbef42                1316\n",
       "7   0x87ec238afdd8837b:0x2f43f2b12142bff5                1317\n",
       "8   0x87ec238afdd8837b:0x2f43f2b12142bff5                1318\n",
       "9    0x87ec235c54d25b31:0x3b75fb5facc602f                1319\n",
       "10   0x87ec235c54d25b31:0x3b75fb5facc602f                1320\n",
       "11  0x87ee85ac3cb23b4d:0x4cd1435fddc046b1                1321\n",
       "12  0x87ee85ac3cb23b4d:0x4cd1435fddc046b1                1322\n",
       "13  0x87ec2394c2cd9d2d:0xd1119cfbee0da6f3                1323\n",
       "14  0x87ec2394c2cd9d2d:0xd1119cfbee0da6f3                1324\n",
       "15  0x87ec2394c2cd9d2d:0xd1119cfbee0da6f3                1325\n",
       "16  0x87ee95d1e474531b:0xb432dd96285cdc6b                1326\n",
       "17  0x87ee95d1e474531b:0xb432dd96285cdc6b                1327\n",
       "18  0x87ec2481df6626b5:0xff5627745308ec2b                1328\n",
       "19  0x80960c29f2e3bf29:0x4b291f0d275a5699                1329\n",
       "20  0x80960c29f2e3bf29:0x4b291f0d275a5699                1330\n",
       "21   0x88d9beb4fe0532c1:0xef0555c169299d6                1331\n",
       "22  0x809adef58ae560bd:0x83412889e022ff70                1332\n",
       "23  0x809adef58ae560bd:0x83412889e022ff70                1333\n",
       "24  0x809adef58ae560bd:0x83412889e022ff70                 163\n",
       "25  0x809adef58ae560bd:0x83412889e022ff70                1334\n",
       "26  0x809adef58ae560bd:0x83412889e022ff70                1335\n",
       "27  0x809b1ff6d3a60c4d:0xdf08e68028807693                1336\n",
       "28  0x809b1ff6d3a60c4d:0xdf08e68028807693                1337\n",
       "29  0x809ae0a7ce91433b:0xe4b44fbb8c35ba57                1334\n",
       "30  0x809ad95924805cf7:0xb424019b8961719d                1331\n",
       "31  0x809b217a6cbe4fa9:0x9fd06999c64c1815                1334\n",
       "32  0x809b217a6cbe4fa9:0x9fd06999c64c1815                1332\n",
       "33  0x809b217a6cbe4fa9:0x9fd06999c64c1815                1338\n",
       "34  0x809adfe022389d79:0x388b21219097be6c                1334\n",
       "35  0x809ad993cd15cc69:0x38291ec9a11f59ed                1334\n",
       "36  0x809b20f8059f58af:0xf05aed524fd9b93c                1332\n",
       "37  0x809b20f8059f58af:0xf05aed524fd9b93c                1334\n",
       "38  0x809adee9ac6f1bd7:0xe2e56d16919b9b8d                1334\n",
       "39  0x8638869e6b4e3529:0xe8d257447fe41672                1339\n",
       "40  0x86312d61f5ac28b5:0x5e6c55690b65096a                1340\n",
       "41  0x86312d61f5ac28b5:0x5e6c55690b65096a                1341\n",
       "42  0x86312d61f5ac28b5:0x5e6c55690b65096a                1342\n",
       "43  0x86312d61f5ac28b5:0x5e6c55690b65096a                1343\n",
       "44   0x863050a2977a797d:0x8206eda0d4f6207                1344\n",
       "45  0x8636d2cbbf059b25:0xfb596a49eb5ae043                1324\n",
       "46  0x8636d2cbbf059b25:0xfb596a49eb5ae043                1323\n",
       "47  0x8636cd31728dc371:0x634bad3dae8adce6                1331\n",
       "48  0x86312cb6a6be635f:0x1aab9f13de75d762                1345\n",
       "49  0x86312cb6a6be635f:0x1aab9f13de75d762                1346"
      ]
     },
     "execution_count": 50,
     "metadata": {},
     "output_type": "execute_result"
    }
   ],
   "source": [
    "google_normalizado.head(50)"
   ]
  },
  {
   "cell_type": "markdown",
   "metadata": {},
   "source": [
    "#### **Múltiples Categorías por Negocio:**\n",
    "\n",
    "Se encontró que un solo ``gmap_id`` puede estar asociado con múltiples ``category_id_google``, lo que indica que un negocio puede clasificarse en varias categorías.\n",
    "Un ejemplo de esto es que un negocio puede estar etiquetado como \"restaurante\", \"comida rápida\" y \"servicio de entrega\".\n",
    "Frecuencia de Categorías:\n",
    "\n",
    "Se realizaron conteos sobre el número de categorías asociadas a cada gmap_id. Algunos negocios tienen un número significativo de categorías:\n",
    "Ejemplo de gmap_id con más categorías:\n",
    "\n",
    "``0x89c24484b823fed3:0x74f6329f85c4f381`` tiene 32 categorías.\n",
    "\n",
    "``0x878da684ff9e47d9:0x8879f6718354b2f8`` tiene 23 categorías.\n",
    "\n",
    "Los duplicados identificados se deben a la naturaleza de múltiples categorías por negocio. "
   ]
  },
  {
   "cell_type": "code",
   "execution_count": 54,
   "metadata": {},
   "outputs": [
    {
     "name": "stdout",
     "output_type": "stream",
     "text": [
      "                                       gmap_id  category_id_google\n",
      "7        0x87ec238afdd8837b:0x2f43f2b12142bff5                1317\n",
      "8        0x87ec238afdd8837b:0x2f43f2b12142bff5                1318\n",
      "9         0x87ec235c54d25b31:0x3b75fb5facc602f                1319\n",
      "10        0x87ec235c54d25b31:0x3b75fb5facc602f                1320\n",
      "11       0x87ee85ac3cb23b4d:0x4cd1435fddc046b1                1321\n",
      "...                                        ...                 ...\n",
      "6211312  0x88d9e749a61cd6a5:0x7396cf8e8dadf8bf                2637\n",
      "6211313  0x88d9e749a61cd6a5:0x7396cf8e8dadf8bf                1390\n",
      "6211317  0x89c6c74f43a49b55:0x6be6995921c58b12                3034\n",
      "6211318  0x89c6c74f43a49b55:0x6be6995921c58b12                3801\n",
      "6211319  0x89c6c74f43a49b55:0x6be6995921c58b12                1618\n",
      "\n",
      "[4447528 rows x 2 columns]\n"
     ]
    }
   ],
   "source": [
    "# Verificar duplicados solo por gmap_id\n",
    "duplicados_gmap = google_normalizado[google_normalizado.duplicated(subset=['gmap_id'], keep=False)]\n",
    "print(duplicados_gmap)\n"
   ]
  },
  {
   "cell_type": "code",
   "execution_count": 55,
   "metadata": {},
   "outputs": [
    {
     "name": "stdout",
     "output_type": "stream",
     "text": [
      "                                       gmap_id  category_id_google\n",
      "0        0x88f16e41928ff687:0x883dad4fd048e8f8                 269\n",
      "1        0x80c2c98c0e3c16fd:0x29ec8a728764fdf9                1313\n",
      "2        0x80c2c778e3b73d33:0xbdc58662a4a97d49                1314\n",
      "3         0x80c2c89923b27a41:0x32041559418d447                1315\n",
      "4        0x80c2c632f933b073:0xc31785961fe826a6                1315\n",
      "...                                        ...                 ...\n",
      "6211319  0x89c6c74f43a49b55:0x6be6995921c58b12                1618\n",
      "6211320  0x89da1787d3fdc4a5:0xce92ea6e3cd4d1cc                2023\n",
      "6211321  0x89da6b9ce832726f:0xbd0d3630f1e3b42e                2159\n",
      "6211322  0x88d9e872a9e39f3d:0x5de29f50507e5d73                2331\n",
      "6211323  0x54956b3944b1654d:0x7797cead9a485c22                1664\n",
      "\n",
      "[6211089 rows x 2 columns]\n"
     ]
    }
   ],
   "source": [
    "# Verificar duplicados solo por category_id_google\n",
    "duplicados_categoria = google_normalizado[google_normalizado.duplicated(subset=['category_id_google'], keep=False)]\n",
    "print(duplicados_categoria)"
   ]
  },
  {
   "cell_type": "markdown",
   "metadata": {},
   "source": [
    "#### Duplicados por ``gmap_id``: Se han identificado múltiples registros con el mismo gmap_id, lo que indica que una misma ubicación puede tener registros duplicados.\n",
    "\n",
    "#### Duplicados por ``category_id_google``: También se han encontrado duplicados en la categoría asociada a los gmap_id, lo que sugiere que varias ubicaciones pueden compartir categorías comunes.\n",
    "\n",
    "#### **Conteo de Categorías Únicas:** El número de categorías únicas por ``gmap_id`` muestra la diversidad de categorías asociadas a cada ubicación, con algunos gmap_id teniendo hasta 32 categorías diferentes."
   ]
  },
  {
   "cell_type": "code",
   "execution_count": 57,
   "metadata": {},
   "outputs": [
    {
     "name": "stdout",
     "output_type": "stream",
     "text": [
      "                                       gmap_id  num_categories\n",
      "2537066  0x89c24484b823fed3:0x74f6329f85c4f381              32\n",
      "1105201  0x878da684ff9e47d9:0x8879f6718354b2f8              23\n",
      "2610611  0x89c28801576a92a1:0xe8183528656d5f08              22\n",
      "48527    0x52b13956184253f9:0x17abc3bcffbb8273              19\n",
      "989353   0x872b6f70ced0c877:0x86325275c1a5a1fe              18\n"
     ]
    }
   ],
   "source": [
    "# Contar categorías únicas por gmap_id\n",
    "categoria_count = google_normalizado.groupby('gmap_id')['category_id_google'].nunique().reset_index()\n",
    "categoria_count.columns = ['gmap_id', 'num_categories']\n",
    "\n",
    "# Mostrar algunos resultados\n",
    "print(categoria_count.sort_values(by='num_categories', ascending=False).head())\n"
   ]
  },
  {
   "cell_type": "markdown",
   "metadata": {},
   "source": [
    "#### Para simplificar el análisis, se pueden **consolidar categorías:**\n",
    "#### - Elegir la Categoría Más Común: Mantener la categoría que aparece con más frecuencia:\n",
    "#### - Crear una Categoría General: Agrupar categorías relacionadas en una sola."
   ]
  },
  {
   "cell_type": "code",
   "execution_count": null,
   "metadata": {},
   "outputs": [],
   "source": [
    "# Elegir la categoría más frecuente por gmap_id\n",
    "# google_consolidado = google_normalizado.groupby('gmap_id').agg({'category_id_google': lambda x: x.mode()[0]}).reset_index()\n"
   ]
  },
  {
   "cell_type": "markdown",
   "metadata": {},
   "source": [
    "#### Se procede a agrupar categorías relacionadas en una sola (ej. \"bar\", \"restaurant\", \"resto\") para obtener una visión clara de las categorías presentes en los datos, lo que facilitará la toma de decisiones informadas.\n",
    "\n",
    "#### Para esto se utiliza NLTK para procesar el texto, eliminar información inncesearia y realizar un recuento de palabras para identificar las más frecuentes.\n",
    "\n",
    "#### Con esto se definirá grupos generales y se asignaran las categorías basándose en coincidencias de palabras clave.\n",
    "\n"
   ]
  },
  {
   "cell_type": "code",
   "execution_count": 89,
   "metadata": {},
   "outputs": [],
   "source": [
    "# Obtenemos la lista de stop words en inglés\n",
    "palabras_excluidas = set(stopwords.words(\"english\")).union({\"&\"})\n",
    "\n",
    "# Cargar el archivo\n",
    "try:\n",
    "    categorias = pd.read_csv('categories_normalized.csv')\n",
    "except Exception as e:\n",
    "    print(f\"Error al cargar el archivo: {e}\")\n",
    "    exit()\n",
    "\n",
    "# Tokenizamos la columna \"categories_id\" y filtramos las stop words\n",
    "tokens = categorias[\"category\"].apply(word_tokenize)\n",
    "tokens_sin_exclusiones = tokens.apply(lambda x: [palabra for palabra in x if palabra not in palabras_excluidas])\n",
    "\n",
    "# Contamos la frecuencia de cada palabra\n",
    "frecuencia_palabras = Counter(palabra for sublista in tokens_sin_exclusiones for palabra in sublista)\n",
    "\n",
    "# Ordenamos las palabras por frecuencia\n",
    "palabras_ordenadas = sorted(frecuencia_palabras.items(), key=lambda x: x[1], reverse=True)\n"
   ]
  },
  {
   "cell_type": "code",
   "execution_count": 68,
   "metadata": {},
   "outputs": [
    {
     "name": "stdout",
     "output_type": "stream",
     "text": [
      "Las palabras ordenadas se han guardado en C:/DYNAMO/PFinal/Proyecto_final/notebooks/EDA/palabras_frecuentes.csv.\n"
     ]
    }
   ],
   "source": [
    "# Guardamos en un archivo CSV para luego realizar la agrupación\n",
    "ruta_archivo = r'C:/DYNAMO/PFinal/Proyecto_final/notebooks/EDA/palabras_frecuentes.csv'  # Ruta especificada\n",
    "\n",
    "df_palabras_ordenadas = pd.DataFrame(\n",
    "    palabras_ordenadas, columns=[\"Palabra\", \"Frecuencia\"]\n",
    ")\n",
    "df_palabras_ordenadas.to_csv(ruta_archivo, index=False)\n",
    "\n",
    "print(f\"Las palabras ordenadas se han guardado en {ruta_archivo}.\")\n"
   ]
  },
  {
   "cell_type": "code",
   "execution_count": 90,
   "metadata": {},
   "outputs": [
    {
     "data": {
      "text/html": [
       "<div>\n",
       "<style scoped>\n",
       "    .dataframe tbody tr th:only-of-type {\n",
       "        vertical-align: middle;\n",
       "    }\n",
       "\n",
       "    .dataframe tbody tr th {\n",
       "        vertical-align: top;\n",
       "    }\n",
       "\n",
       "    .dataframe thead th {\n",
       "        text-align: right;\n",
       "    }\n",
       "</style>\n",
       "<table border=\"1\" class=\"dataframe\">\n",
       "  <thead>\n",
       "    <tr style=\"text-align: right;\">\n",
       "      <th></th>\n",
       "      <th>Palabra</th>\n",
       "      <th>Frecuencia</th>\n",
       "    </tr>\n",
       "  </thead>\n",
       "  <tbody>\n",
       "    <tr>\n",
       "      <th>0</th>\n",
       "      <td>service</td>\n",
       "      <td>366</td>\n",
       "    </tr>\n",
       "    <tr>\n",
       "      <th>1</th>\n",
       "      <td>store</td>\n",
       "      <td>366</td>\n",
       "    </tr>\n",
       "    <tr>\n",
       "      <th>2</th>\n",
       "      <td>restaurant</td>\n",
       "      <td>298</td>\n",
       "    </tr>\n",
       "    <tr>\n",
       "      <th>3</th>\n",
       "      <td>supplier</td>\n",
       "      <td>246</td>\n",
       "    </tr>\n",
       "    <tr>\n",
       "      <th>4</th>\n",
       "      <td>shop</td>\n",
       "      <td>182</td>\n",
       "    </tr>\n",
       "    <tr>\n",
       "      <th>...</th>\n",
       "      <td>...</td>\n",
       "      <td>...</td>\n",
       "    </tr>\n",
       "    <tr>\n",
       "      <th>3458</th>\n",
       "      <td>zealand</td>\n",
       "      <td>1</td>\n",
       "    </tr>\n",
       "    <tr>\n",
       "      <th>3459</th>\n",
       "      <td>offal</td>\n",
       "      <td>1</td>\n",
       "    </tr>\n",
       "    <tr>\n",
       "      <th>3460</th>\n",
       "      <td>asturian</td>\n",
       "      <td>1</td>\n",
       "    </tr>\n",
       "    <tr>\n",
       "      <th>3461</th>\n",
       "      <td>cigarette</td>\n",
       "      <td>1</td>\n",
       "    </tr>\n",
       "    <tr>\n",
       "      <th>3462</th>\n",
       "      <td>fault</td>\n",
       "      <td>1</td>\n",
       "    </tr>\n",
       "  </tbody>\n",
       "</table>\n",
       "<p>3463 rows × 2 columns</p>\n",
       "</div>"
      ],
      "text/plain": [
       "         Palabra  Frecuencia\n",
       "0        service         366\n",
       "1          store         366\n",
       "2     restaurant         298\n",
       "3       supplier         246\n",
       "4           shop         182\n",
       "...          ...         ...\n",
       "3458     zealand           1\n",
       "3459       offal           1\n",
       "3460    asturian           1\n",
       "3461   cigarette           1\n",
       "3462       fault           1\n",
       "\n",
       "[3463 rows x 2 columns]"
      ]
     },
     "execution_count": 90,
     "metadata": {},
     "output_type": "execute_result"
    }
   ],
   "source": [
    "frecuencia = pd.read_csv('palabras_frecuentes.csv')\n",
    "frecuencia"
   ]
  },
  {
   "cell_type": "code",
   "execution_count": 92,
   "metadata": {},
   "outputs": [
    {
     "data": {
      "image/png": "[encoded data removed]",
      "text/plain": [
       "<Figure size 1000x800 with 1 Axes>"
      ]
     },
     "metadata": {},
     "output_type": "display_data"
    }
   ],
   "source": [
    "import pandas as pd\n",
    "import matplotlib.pyplot as plt\n",
    "import seaborn as sns\n",
    "\n",
    "# Cargar el archivo de palabras frecuentes\n",
    "frecuentes = pd.read_csv('palabras_frecuentes.csv')\n",
    "\n",
    "# Filtrar para obtener solo las 30 palabras más frecuentes\n",
    "top_30_frecuentes = frecuentes.head(30)\n",
    "\n",
    "# Crear un gráfico de barras horizontal\n",
    "plt.figure(figsize=(10, 8))\n",
    "barplot = sns.barplot(y='Palabra', x='Frecuencia', data=top_30_frecuentes, palette='viridis')\n",
    "\n",
    "# Añadir etiquetas con los valores de frecuencia en cada barra\n",
    "for index, value in enumerate(top_30_frecuentes['Frecuencia']):\n",
    "    barplot.text(value, index, f'{value}', va='center', ha='left')\n",
    "\n",
    "# Configuraciones del gráfico\n",
    "plt.title('Top 30 Palabras más Frecuentes en Categorías')\n",
    "plt.xlabel('Frecuencia')\n",
    "plt.ylabel('Palabra')\n",
    "\n",
    "# Mostrar el gráfico\n",
    "plt.tight_layout()\n",
    "plt.show()\n"
   ]
  }
 ],
 "metadata": {
  "kernelspec": {
   "display_name": "finalproyect",
   "language": "python",
   "name": "python3"
  },
  "language_info": {
   "codemirror_mode": {
    "name": "ipython",
    "version": 3
   },
   "file_extension": ".py",
   "mimetype": "text/x-python",
   "name": "python",
   "nbconvert_exporter": "python",
   "pygments_lexer": "ipython3",
   "version": "3.10.11"
  }
 },
 "nbformat": 4,
 "nbformat_minor": 2
}
