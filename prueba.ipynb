{
 "cells": [
  {
   "cell_type": "code",
   "execution_count": 21,
   "metadata": {},
   "outputs": [],
   "source": [
    "import pandas as pd"
   ]
  },
  {
   "cell_type": "code",
   "execution_count": null,
   "metadata": {},
   "outputs": [],
   "source": [
    "g_sitios = pd.read_parquet(r'C:\\Users\\mauri\\OneDrive\\Escritorio\\proyectogrupal\\data\\google_sitios.parquet', engine='pyarrow')\n",
    "#pd.set_option('display.max_colwidth', None)"
   ]
  },
  {
   "cell_type": "code",
   "execution_count": 24,
   "metadata": {},
   "outputs": [
    {
     "name": "stdout",
     "output_type": "stream",
     "text": [
      "<class 'pandas.core.frame.DataFrame'>\n",
      "Index: 2998428 entries, 0 to 3025010\n",
      "Data columns (total 16 columns):\n",
      " #   Column          Dtype  \n",
      "---  ------          -----  \n",
      " 0   name            object \n",
      " 1   address         object \n",
      " 2   gmap_id         object \n",
      " 3   latitude        float64\n",
      " 4   longitude       float64\n",
      " 5   avg_rating      float64\n",
      " 6   num_of_reviews  int64  \n",
      " 7   state           object \n",
      " 8   url             object \n",
      " 9   monday          object \n",
      " 10  tuesday         object \n",
      " 11  wednesday       object \n",
      " 12  thursday        object \n",
      " 13  friday          object \n",
      " 14  saturday        object \n",
      " 15  sunday          object \n",
      "dtypes: float64(3), int64(1), object(12)\n",
      "memory usage: 388.9+ MB\n"
     ]
    }
   ],
   "source": [
    "g_sitios = g_sitios.drop(['description', 'price'], axis=1)\n",
    "g_sitios.info()"
   ]
  },
  {
   "cell_type": "code",
   "execution_count": 23,
   "metadata": {},
   "outputs": [
    {
     "data": {
      "text/html": [
       "<div>\n",
       "<style scoped>\n",
       "    .dataframe tbody tr th:only-of-type {\n",
       "        vertical-align: middle;\n",
       "    }\n",
       "\n",
       "    .dataframe tbody tr th {\n",
       "        vertical-align: top;\n",
       "    }\n",
       "\n",
       "    .dataframe thead th {\n",
       "        text-align: right;\n",
       "    }\n",
       "</style>\n",
       "<table border=\"1\" class=\"dataframe\">\n",
       "  <thead>\n",
       "    <tr style=\"text-align: right;\">\n",
       "      <th></th>\n",
       "      <th>gmap_id</th>\n",
       "      <th>category</th>\n",
       "    </tr>\n",
       "  </thead>\n",
       "  <tbody>\n",
       "    <tr>\n",
       "      <th>121</th>\n",
       "      <td>0x7954d376a8b12db3:0xa51dd57e1cc14ca9</td>\n",
       "      <td>Food court</td>\n",
       "    </tr>\n",
       "    <tr>\n",
       "      <th>125</th>\n",
       "      <td>0x880e5523024703c1:0xb93a8ccb6918d616</td>\n",
       "      <td>Liquor store</td>\n",
       "    </tr>\n",
       "    <tr>\n",
       "      <th>126</th>\n",
       "      <td>0x80c8be4e73e8263f:0x3edb275a351e6266</td>\n",
       "      <td>Cocktail bar</td>\n",
       "    </tr>\n",
       "    <tr>\n",
       "      <th>142</th>\n",
       "      <td>0x88f3fb847f6a4833:0x91a0e1ef28d778ed</td>\n",
       "      <td>Banquet hall</td>\n",
       "    </tr>\n",
       "    <tr>\n",
       "      <th>142</th>\n",
       "      <td>0x88f3fb847f6a4833:0x91a0e1ef28d778ed</td>\n",
       "      <td>Caterer</td>\n",
       "    </tr>\n",
       "    <tr>\n",
       "      <th>...</th>\n",
       "      <td>...</td>\n",
       "      <td>...</td>\n",
       "    </tr>\n",
       "    <tr>\n",
       "      <th>3024992</th>\n",
       "      <td>0x89c6b993431d9a19:0xea378de3c317996e</td>\n",
       "      <td>Bar &amp; grill</td>\n",
       "    </tr>\n",
       "    <tr>\n",
       "      <th>3025005</th>\n",
       "      <td>0x89da6b8177ee49d5:0xbc9dfc53722fe1</td>\n",
       "      <td>Bar &amp; grill</td>\n",
       "    </tr>\n",
       "    <tr>\n",
       "      <th>3025006</th>\n",
       "      <td>0x89c6c74f43a49b55:0x6be6995921c58b12</td>\n",
       "      <td>Steak house</td>\n",
       "    </tr>\n",
       "    <tr>\n",
       "      <th>3025006</th>\n",
       "      <td>0x89c6c74f43a49b55:0x6be6995921c58b12</td>\n",
       "      <td>Fine dining restaurant</td>\n",
       "    </tr>\n",
       "    <tr>\n",
       "      <th>3025006</th>\n",
       "      <td>0x89c6c74f43a49b55:0x6be6995921c58b12</td>\n",
       "      <td>Seafood restaurant</td>\n",
       "    </tr>\n",
       "  </tbody>\n",
       "</table>\n",
       "<p>508929 rows × 2 columns</p>\n",
       "</div>"
      ],
      "text/plain": [
       "                                       gmap_id                category\n",
       "121      0x7954d376a8b12db3:0xa51dd57e1cc14ca9              Food court\n",
       "125      0x880e5523024703c1:0xb93a8ccb6918d616            Liquor store\n",
       "126      0x80c8be4e73e8263f:0x3edb275a351e6266            Cocktail bar\n",
       "142      0x88f3fb847f6a4833:0x91a0e1ef28d778ed            Banquet hall\n",
       "142      0x88f3fb847f6a4833:0x91a0e1ef28d778ed                 Caterer\n",
       "...                                        ...                     ...\n",
       "3024992  0x89c6b993431d9a19:0xea378de3c317996e             Bar & grill\n",
       "3025005    0x89da6b8177ee49d5:0xbc9dfc53722fe1             Bar & grill\n",
       "3025006  0x89c6c74f43a49b55:0x6be6995921c58b12             Steak house\n",
       "3025006  0x89c6c74f43a49b55:0x6be6995921c58b12  Fine dining restaurant\n",
       "3025006  0x89c6c74f43a49b55:0x6be6995921c58b12      Seafood restaurant\n",
       "\n",
       "[508929 rows x 2 columns]"
      ]
     },
     "execution_count": 23,
     "metadata": {},
     "output_type": "execute_result"
    }
   ],
   "source": [
    "categorias = pd.read_parquet(r'C:\\Users\\mauri\\OneDrive\\Escritorio\\proyectogrupal\\data\\dataset_gastronomico_google.parquet', engine='pyarrow')\n",
    "categorias"
   ]
  },
  {
   "cell_type": "code",
   "execution_count": null,
   "metadata": {},
   "outputs": [],
   "source": []
  }
 ],
 "metadata": {
  "kernelspec": {
   "display_name": "AAentorno",
   "language": "python",
   "name": "python3"
  },
  "language_info": {
   "codemirror_mode": {
    "name": "ipython",
    "version": 3
   },
   "file_extension": ".py",
   "mimetype": "text/x-python",
   "name": "python",
   "nbconvert_exporter": "python",
   "pygments_lexer": "ipython3",
   "version": "3.11.0"
  }
 },
 "nbformat": 4,
 "nbformat_minor": 2
}
