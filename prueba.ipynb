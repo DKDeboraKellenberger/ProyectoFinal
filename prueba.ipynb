{
 "cells": [
  {
   "cell_type": "code",
   "execution_count": 15,
   "metadata": {},
   "outputs": [],
   "source": [
    "import pandas as pd"
   ]
  },
  {
   "cell_type": "code",
   "execution_count": 20,
   "metadata": {},
   "outputs": [
    {
     "data": {
      "text/html": [
       "<div>\n",
       "<style scoped>\n",
       "    .dataframe tbody tr th:only-of-type {\n",
       "        vertical-align: middle;\n",
       "    }\n",
       "\n",
       "    .dataframe tbody tr th {\n",
       "        vertical-align: top;\n",
       "    }\n",
       "\n",
       "    .dataframe thead th {\n",
       "        text-align: right;\n",
       "    }\n",
       "</style>\n",
       "<table border=\"1\" class=\"dataframe\">\n",
       "  <thead>\n",
       "    <tr style=\"text-align: right;\">\n",
       "      <th></th>\n",
       "      <th>name</th>\n",
       "      <th>id_negocio</th>\n",
       "      <th>description</th>\n",
       "      <th>avg_rating</th>\n",
       "      <th>num_of_reviews</th>\n",
       "      <th>url</th>\n",
       "      <th>id_estado</th>\n",
       "      <th>id_category_general</th>\n",
       "    </tr>\n",
       "  </thead>\n",
       "  <tbody>\n",
       "    <tr>\n",
       "      <th>0</th>\n",
       "      <td>Seligman Fountain - \"Bear and Faun\"</td>\n",
       "      <td>0x89c2f6163ac2864f:0xa4213a2f66c15d8f</td>\n",
       "      <td>None</td>\n",
       "      <td>4.5</td>\n",
       "      <td>4</td>\n",
       "      <td>https://www.google.com/maps/place//data=!4m2!3m1!1s0x89c2f6163ac2864f:0xa4213a2f66c15d8f?authuser=-1&amp;hl=en&amp;gl=us</td>\n",
       "      <td>13</td>\n",
       "      <td>14</td>\n",
       "    </tr>\n",
       "    <tr>\n",
       "      <th>1</th>\n",
       "      <td>101 Mobility</td>\n",
       "      <td>0x864c1f10c079a921:0x95710cd26231cc3</td>\n",
       "      <td>None</td>\n",
       "      <td>5.0</td>\n",
       "      <td>45</td>\n",
       "      <td>https://www.google.com/maps/place//data=!4m2!3m1!1s0x864c1f10c079a921:0x95710cd26231cc3?authuser=-1&amp;hl=en&amp;gl=us</td>\n",
       "      <td>6</td>\n",
       "      <td>7</td>\n",
       "    </tr>\n",
       "    <tr>\n",
       "      <th>2</th>\n",
       "      <td>All Time Auto Transport</td>\n",
       "      <td>0x88d9050582e1e64b:0x33457ba08c64df20</td>\n",
       "      <td>None</td>\n",
       "      <td>4.8</td>\n",
       "      <td>96</td>\n",
       "      <td>https://www.google.com/maps/place//data=!4m2!3m1!1s0x88d9050582e1e64b:0x33457ba08c64df20?authuser=-1&amp;hl=en&amp;gl=us</td>\n",
       "      <td>5</td>\n",
       "      <td>14</td>\n",
       "    </tr>\n",
       "    <tr>\n",
       "      <th>3</th>\n",
       "      <td>Scouts</td>\n",
       "      <td>0x88e783a0a141ae61:0xc8892c7a3b97364b</td>\n",
       "      <td>None</td>\n",
       "      <td>5.0</td>\n",
       "      <td>6</td>\n",
       "      <td>https://www.google.com/maps/place//data=!4m2!3m1!1s0x88e783a0a141ae61:0xc8892c7a3b97364b?authuser=-1&amp;hl=en&amp;gl=us</td>\n",
       "      <td>5</td>\n",
       "      <td>7</td>\n",
       "    </tr>\n",
       "    <tr>\n",
       "      <th>4</th>\n",
       "      <td>Modoc County Record Inc</td>\n",
       "      <td>0x54cb90a9d85b5a37:0x2a6d31d462a28f2e</td>\n",
       "      <td>None</td>\n",
       "      <td>4.3</td>\n",
       "      <td>7</td>\n",
       "      <td>https://www.google.com/maps/place//data=!4m2!3m1!1s0x54cb90a9d85b5a37:0x2a6d31d462a28f2e?authuser=-1&amp;hl=en&amp;gl=us</td>\n",
       "      <td>2</td>\n",
       "      <td>14</td>\n",
       "    </tr>\n",
       "  </tbody>\n",
       "</table>\n",
       "</div>"
      ],
      "text/plain": [
       "                                  name                             id_negocio  \\\n",
       "0  Seligman Fountain - \"Bear and Faun\"  0x89c2f6163ac2864f:0xa4213a2f66c15d8f   \n",
       "1                         101 Mobility   0x864c1f10c079a921:0x95710cd26231cc3   \n",
       "2              All Time Auto Transport  0x88d9050582e1e64b:0x33457ba08c64df20   \n",
       "3                               Scouts  0x88e783a0a141ae61:0xc8892c7a3b97364b   \n",
       "4              Modoc County Record Inc  0x54cb90a9d85b5a37:0x2a6d31d462a28f2e   \n",
       "\n",
       "  description  avg_rating  num_of_reviews  \\\n",
       "0        None         4.5               4   \n",
       "1        None         5.0              45   \n",
       "2        None         4.8              96   \n",
       "3        None         5.0               6   \n",
       "4        None         4.3               7   \n",
       "\n",
       "                                                                                                                url  \\\n",
       "0  https://www.google.com/maps/place//data=!4m2!3m1!1s0x89c2f6163ac2864f:0xa4213a2f66c15d8f?authuser=-1&hl=en&gl=us   \n",
       "1   https://www.google.com/maps/place//data=!4m2!3m1!1s0x864c1f10c079a921:0x95710cd26231cc3?authuser=-1&hl=en&gl=us   \n",
       "2  https://www.google.com/maps/place//data=!4m2!3m1!1s0x88d9050582e1e64b:0x33457ba08c64df20?authuser=-1&hl=en&gl=us   \n",
       "3  https://www.google.com/maps/place//data=!4m2!3m1!1s0x88e783a0a141ae61:0xc8892c7a3b97364b?authuser=-1&hl=en&gl=us   \n",
       "4  https://www.google.com/maps/place//data=!4m2!3m1!1s0x54cb90a9d85b5a37:0x2a6d31d462a28f2e?authuser=-1&hl=en&gl=us   \n",
       "\n",
       "   id_estado  id_category_general  \n",
       "0         13                   14  \n",
       "1          6                    7  \n",
       "2          5                   14  \n",
       "3          5                    7  \n",
       "4          2                   14  "
      ]
     },
     "execution_count": 20,
     "metadata": {},
     "output_type": "execute_result"
    }
   ],
   "source": [
    "g_sitios = pd.read_parquet(r'C:\\Users\\mauri\\OneDrive\\Escritorio\\proyectogrupal\\data\\g_sitios_v4.parquet', engine='pyarrow')\n",
    "pd.set_option('display.max_colwidth', None)\n",
    "g_sitios.head()"
   ]
  },
  {
   "cell_type": "code",
   "execution_count": null,
   "metadata": {},
   "outputs": [
    {
     "data": {
      "text/html": [
       "<div>\n",
       "<style scoped>\n",
       "    .dataframe tbody tr th:only-of-type {\n",
       "        vertical-align: middle;\n",
       "    }\n",
       "\n",
       "    .dataframe tbody tr th {\n",
       "        vertical-align: top;\n",
       "    }\n",
       "\n",
       "    .dataframe thead th {\n",
       "        text-align: right;\n",
       "    }\n",
       "</style>\n",
       "<table border=\"1\" class=\"dataframe\">\n",
       "  <thead>\n",
       "    <tr style=\"text-align: right;\">\n",
       "      <th></th>\n",
       "      <th>gmap_id</th>\n",
       "      <th>category</th>\n",
       "    </tr>\n",
       "  </thead>\n",
       "  <tbody>\n",
       "    <tr>\n",
       "      <th>121</th>\n",
       "      <td>0x7954d376a8b12db3:0xa51dd57e1cc14ca9</td>\n",
       "      <td>Food court</td>\n",
       "    </tr>\n",
       "    <tr>\n",
       "      <th>125</th>\n",
       "      <td>0x880e5523024703c1:0xb93a8ccb6918d616</td>\n",
       "      <td>Liquor store</td>\n",
       "    </tr>\n",
       "    <tr>\n",
       "      <th>126</th>\n",
       "      <td>0x80c8be4e73e8263f:0x3edb275a351e6266</td>\n",
       "      <td>Cocktail bar</td>\n",
       "    </tr>\n",
       "    <tr>\n",
       "      <th>142</th>\n",
       "      <td>0x88f3fb847f6a4833:0x91a0e1ef28d778ed</td>\n",
       "      <td>Banquet hall</td>\n",
       "    </tr>\n",
       "    <tr>\n",
       "      <th>142</th>\n",
       "      <td>0x88f3fb847f6a4833:0x91a0e1ef28d778ed</td>\n",
       "      <td>Caterer</td>\n",
       "    </tr>\n",
       "    <tr>\n",
       "      <th>...</th>\n",
       "      <td>...</td>\n",
       "      <td>...</td>\n",
       "    </tr>\n",
       "    <tr>\n",
       "      <th>3024992</th>\n",
       "      <td>0x89c6b993431d9a19:0xea378de3c317996e</td>\n",
       "      <td>Bar &amp; grill</td>\n",
       "    </tr>\n",
       "    <tr>\n",
       "      <th>3025005</th>\n",
       "      <td>0x89da6b8177ee49d5:0xbc9dfc53722fe1</td>\n",
       "      <td>Bar &amp; grill</td>\n",
       "    </tr>\n",
       "    <tr>\n",
       "      <th>3025006</th>\n",
       "      <td>0x89c6c74f43a49b55:0x6be6995921c58b12</td>\n",
       "      <td>Steak house</td>\n",
       "    </tr>\n",
       "    <tr>\n",
       "      <th>3025006</th>\n",
       "      <td>0x89c6c74f43a49b55:0x6be6995921c58b12</td>\n",
       "      <td>Fine dining restaurant</td>\n",
       "    </tr>\n",
       "    <tr>\n",
       "      <th>3025006</th>\n",
       "      <td>0x89c6c74f43a49b55:0x6be6995921c58b12</td>\n",
       "      <td>Seafood restaurant</td>\n",
       "    </tr>\n",
       "  </tbody>\n",
       "</table>\n",
       "<p>508929 rows × 2 columns</p>\n",
       "</div>"
      ],
      "text/plain": [
       "                                       gmap_id                category\n",
       "121      0x7954d376a8b12db3:0xa51dd57e1cc14ca9              Food court\n",
       "125      0x880e5523024703c1:0xb93a8ccb6918d616            Liquor store\n",
       "126      0x80c8be4e73e8263f:0x3edb275a351e6266            Cocktail bar\n",
       "142      0x88f3fb847f6a4833:0x91a0e1ef28d778ed            Banquet hall\n",
       "142      0x88f3fb847f6a4833:0x91a0e1ef28d778ed                 Caterer\n",
       "...                                        ...                     ...\n",
       "3024992  0x89c6b993431d9a19:0xea378de3c317996e             Bar & grill\n",
       "3025005    0x89da6b8177ee49d5:0xbc9dfc53722fe1             Bar & grill\n",
       "3025006  0x89c6c74f43a49b55:0x6be6995921c58b12             Steak house\n",
       "3025006  0x89c6c74f43a49b55:0x6be6995921c58b12  Fine dining restaurant\n",
       "3025006  0x89c6c74f43a49b55:0x6be6995921c58b12      Seafood restaurant\n",
       "\n",
       "[508929 rows x 2 columns]"
      ]
     },
     "execution_count": 4,
     "metadata": {},
     "output_type": "execute_result"
    }
   ],
   "source": [
    "categorias = pd.read_parquet(r'C:\\Users\\mauri\\OneDrive\\Escritorio\\proyectogrupal\\data\\dataset_gastronomico_google.parquet', engine='pyarrow')\n",
    "categorias"
   ]
  },
  {
   "cell_type": "code",
   "execution_count": null,
   "metadata": {},
   "outputs": [],
   "source": [
    "# Renombrar la columna 'gmap_id' a 'id_negocio'\n",
    "categorias.rename(columns={'gmap_id': 'id_negocio'}, inplace=True)"
   ]
  },
  {
   "cell_type": "code",
   "execution_count": null,
   "metadata": {},
   "outputs": [],
   "source": [
    "categorias = categorias.merge(g_sitios[['id_negocio', 'name']], on='id_negocio', how='left')\n"
   ]
  },
  {
   "cell_type": "code",
   "execution_count": null,
   "metadata": {},
   "outputs": [],
   "source": [
    "# Eliminar las filas donde la columna 'name' es NaN\n",
    "categorias.dropna(subset=['name'], inplace=True)\n"
   ]
  },
  {
   "cell_type": "code",
   "execution_count": null,
   "metadata": {},
   "outputs": [
    {
     "ename": "KeyError",
     "evalue": "'id_category_general'",
     "output_type": "error",
     "traceback": [
      "\u001b[1;31m---------------------------------------------------------------------------\u001b[0m",
      "\u001b[1;31mKeyError\u001b[0m                                  Traceback (most recent call last)",
      "File \u001b[1;32mc:\\Users\\mauri\\OneDrive\\Escritorio\\proyectogrupal\\AAentorno\\Lib\\site-packages\\pandas\\core\\indexes\\base.py:3805\u001b[0m, in \u001b[0;36mIndex.get_loc\u001b[1;34m(self, key)\u001b[0m\n\u001b[0;32m   3804\u001b[0m \u001b[38;5;28;01mtry\u001b[39;00m:\n\u001b[1;32m-> 3805\u001b[0m     \u001b[38;5;28;01mreturn\u001b[39;00m \u001b[38;5;28;43mself\u001b[39;49m\u001b[38;5;241;43m.\u001b[39;49m\u001b[43m_engine\u001b[49m\u001b[38;5;241;43m.\u001b[39;49m\u001b[43mget_loc\u001b[49m\u001b[43m(\u001b[49m\u001b[43mcasted_key\u001b[49m\u001b[43m)\u001b[49m\n\u001b[0;32m   3806\u001b[0m \u001b[38;5;28;01mexcept\u001b[39;00m \u001b[38;5;167;01mKeyError\u001b[39;00m \u001b[38;5;28;01mas\u001b[39;00m err:\n",
      "File \u001b[1;32mindex.pyx:167\u001b[0m, in \u001b[0;36mpandas._libs.index.IndexEngine.get_loc\u001b[1;34m()\u001b[0m\n",
      "File \u001b[1;32mindex.pyx:196\u001b[0m, in \u001b[0;36mpandas._libs.index.IndexEngine.get_loc\u001b[1;34m()\u001b[0m\n",
      "File \u001b[1;32mpandas\\\\_libs\\\\hashtable_class_helper.pxi:7081\u001b[0m, in \u001b[0;36mpandas._libs.hashtable.PyObjectHashTable.get_item\u001b[1;34m()\u001b[0m\n",
      "File \u001b[1;32mpandas\\\\_libs\\\\hashtable_class_helper.pxi:7089\u001b[0m, in \u001b[0;36mpandas._libs.hashtable.PyObjectHashTable.get_item\u001b[1;34m()\u001b[0m\n",
      "\u001b[1;31mKeyError\u001b[0m: 'id_category_general'",
      "\nThe above exception was the direct cause of the following exception:\n",
      "\u001b[1;31mKeyError\u001b[0m                                  Traceback (most recent call last)",
      "Cell \u001b[1;32mIn[10], line 2\u001b[0m\n\u001b[0;32m      1\u001b[0m \u001b[38;5;66;03m# Filtrar filas donde 'id_negocio' sea igual a 7\u001b[39;00m\n\u001b[1;32m----> 2\u001b[0m categorias_filtradas \u001b[38;5;241m=\u001b[39m categorias[\u001b[43mcategorias\u001b[49m\u001b[43m[\u001b[49m\u001b[38;5;124;43m'\u001b[39;49m\u001b[38;5;124;43mid_category_general\u001b[39;49m\u001b[38;5;124;43m'\u001b[39;49m\u001b[43m]\u001b[49m \u001b[38;5;241m==\u001b[39m \u001b[38;5;241m7\u001b[39m]\n\u001b[0;32m      4\u001b[0m categorias_filtradas\u001b[38;5;241m.\u001b[39mhead(\u001b[38;5;241m50\u001b[39m)\n",
      "File \u001b[1;32mc:\\Users\\mauri\\OneDrive\\Escritorio\\proyectogrupal\\AAentorno\\Lib\\site-packages\\pandas\\core\\frame.py:4102\u001b[0m, in \u001b[0;36mDataFrame.__getitem__\u001b[1;34m(self, key)\u001b[0m\n\u001b[0;32m   4100\u001b[0m \u001b[38;5;28;01mif\u001b[39;00m \u001b[38;5;28mself\u001b[39m\u001b[38;5;241m.\u001b[39mcolumns\u001b[38;5;241m.\u001b[39mnlevels \u001b[38;5;241m>\u001b[39m \u001b[38;5;241m1\u001b[39m:\n\u001b[0;32m   4101\u001b[0m     \u001b[38;5;28;01mreturn\u001b[39;00m \u001b[38;5;28mself\u001b[39m\u001b[38;5;241m.\u001b[39m_getitem_multilevel(key)\n\u001b[1;32m-> 4102\u001b[0m indexer \u001b[38;5;241m=\u001b[39m \u001b[38;5;28;43mself\u001b[39;49m\u001b[38;5;241;43m.\u001b[39;49m\u001b[43mcolumns\u001b[49m\u001b[38;5;241;43m.\u001b[39;49m\u001b[43mget_loc\u001b[49m\u001b[43m(\u001b[49m\u001b[43mkey\u001b[49m\u001b[43m)\u001b[49m\n\u001b[0;32m   4103\u001b[0m \u001b[38;5;28;01mif\u001b[39;00m is_integer(indexer):\n\u001b[0;32m   4104\u001b[0m     indexer \u001b[38;5;241m=\u001b[39m [indexer]\n",
      "File \u001b[1;32mc:\\Users\\mauri\\OneDrive\\Escritorio\\proyectogrupal\\AAentorno\\Lib\\site-packages\\pandas\\core\\indexes\\base.py:3812\u001b[0m, in \u001b[0;36mIndex.get_loc\u001b[1;34m(self, key)\u001b[0m\n\u001b[0;32m   3807\u001b[0m     \u001b[38;5;28;01mif\u001b[39;00m \u001b[38;5;28misinstance\u001b[39m(casted_key, \u001b[38;5;28mslice\u001b[39m) \u001b[38;5;129;01mor\u001b[39;00m (\n\u001b[0;32m   3808\u001b[0m         \u001b[38;5;28misinstance\u001b[39m(casted_key, abc\u001b[38;5;241m.\u001b[39mIterable)\n\u001b[0;32m   3809\u001b[0m         \u001b[38;5;129;01mand\u001b[39;00m \u001b[38;5;28many\u001b[39m(\u001b[38;5;28misinstance\u001b[39m(x, \u001b[38;5;28mslice\u001b[39m) \u001b[38;5;28;01mfor\u001b[39;00m x \u001b[38;5;129;01min\u001b[39;00m casted_key)\n\u001b[0;32m   3810\u001b[0m     ):\n\u001b[0;32m   3811\u001b[0m         \u001b[38;5;28;01mraise\u001b[39;00m InvalidIndexError(key)\n\u001b[1;32m-> 3812\u001b[0m     \u001b[38;5;28;01mraise\u001b[39;00m \u001b[38;5;167;01mKeyError\u001b[39;00m(key) \u001b[38;5;28;01mfrom\u001b[39;00m \u001b[38;5;21;01merr\u001b[39;00m\n\u001b[0;32m   3813\u001b[0m \u001b[38;5;28;01mexcept\u001b[39;00m \u001b[38;5;167;01mTypeError\u001b[39;00m:\n\u001b[0;32m   3814\u001b[0m     \u001b[38;5;66;03m# If we have a listlike key, _check_indexing_error will raise\u001b[39;00m\n\u001b[0;32m   3815\u001b[0m     \u001b[38;5;66;03m#  InvalidIndexError. Otherwise we fall through and re-raise\u001b[39;00m\n\u001b[0;32m   3816\u001b[0m     \u001b[38;5;66;03m#  the TypeError.\u001b[39;00m\n\u001b[0;32m   3817\u001b[0m     \u001b[38;5;28mself\u001b[39m\u001b[38;5;241m.\u001b[39m_check_indexing_error(key)\n",
      "\u001b[1;31mKeyError\u001b[0m: 'id_category_general'"
     ]
    }
   ],
   "source": [
    "# Filtrar filas donde 'id_negocio' sea igual a 7\n",
    "categorias_filtradas = categorias[categorias['id_category_general'] == 7]\n",
    "\n",
    "categorias_filtradas.head(50)"
   ]
  },
  {
   "cell_type": "code",
   "execution_count": null,
   "metadata": {},
   "outputs": [
    {
     "data": {
      "text/html": [
       "<div>\n",
       "<style scoped>\n",
       "    .dataframe tbody tr th:only-of-type {\n",
       "        vertical-align: middle;\n",
       "    }\n",
       "\n",
       "    .dataframe tbody tr th {\n",
       "        vertical-align: top;\n",
       "    }\n",
       "\n",
       "    .dataframe thead th {\n",
       "        text-align: right;\n",
       "    }\n",
       "</style>\n",
       "<table border=\"1\" class=\"dataframe\">\n",
       "  <thead>\n",
       "    <tr style=\"text-align: right;\">\n",
       "      <th></th>\n",
       "      <th>gmap_id</th>\n",
       "      <th>category</th>\n",
       "    </tr>\n",
       "  </thead>\n",
       "  <tbody>\n",
       "    <tr>\n",
       "      <th>0</th>\n",
       "      <td>0x88f16e41928ff687:0x883dad4fd048e8f8</td>\n",
       "      <td>Pharmacy</td>\n",
       "    </tr>\n",
       "    <tr>\n",
       "      <th>1</th>\n",
       "      <td>0x80c2c98c0e3c16fd:0x29ec8a728764fdf9</td>\n",
       "      <td>Textile exporter</td>\n",
       "    </tr>\n",
       "    <tr>\n",
       "      <th>2</th>\n",
       "      <td>0x80c2c778e3b73d33:0xbdc58662a4a97d49</td>\n",
       "      <td>Korean restaurant</td>\n",
       "    </tr>\n",
       "    <tr>\n",
       "      <th>3</th>\n",
       "      <td>0x80c2c89923b27a41:0x32041559418d447</td>\n",
       "      <td>Fabric store</td>\n",
       "    </tr>\n",
       "    <tr>\n",
       "      <th>4</th>\n",
       "      <td>0x80c2c632f933b073:0xc31785961fe826a6</td>\n",
       "      <td>Fabric store</td>\n",
       "    </tr>\n",
       "  </tbody>\n",
       "</table>\n",
       "</div>"
      ],
      "text/plain": [
       "                                 gmap_id           category\n",
       "0  0x88f16e41928ff687:0x883dad4fd048e8f8           Pharmacy\n",
       "1  0x80c2c98c0e3c16fd:0x29ec8a728764fdf9   Textile exporter\n",
       "2  0x80c2c778e3b73d33:0xbdc58662a4a97d49  Korean restaurant\n",
       "3   0x80c2c89923b27a41:0x32041559418d447       Fabric store\n",
       "4  0x80c2c632f933b073:0xc31785961fe826a6       Fabric store"
      ]
     },
     "execution_count": 38,
     "metadata": {},
     "output_type": "execute_result"
    }
   ],
   "source": [
    "crudo = pd.read_parquet(r'C:\\Users\\mauri\\OneDrive\\Escritorio\\proyectogrupal\\data\\categories_sitios_google_todavia_nombres.parquet', engine='pyarrow')\n",
    "crudo.head()"
   ]
  },
  {
   "cell_type": "code",
   "execution_count": null,
   "metadata": {},
   "outputs": [],
   "source": [
    "#Kingston Technology Company, Inc."
   ]
  },
  {
   "cell_type": "code",
   "execution_count": null,
   "metadata": {},
   "outputs": [
    {
     "data": {
      "text/html": [
       "<div>\n",
       "<style scoped>\n",
       "    .dataframe tbody tr th:only-of-type {\n",
       "        vertical-align: middle;\n",
       "    }\n",
       "\n",
       "    .dataframe tbody tr th {\n",
       "        vertical-align: top;\n",
       "    }\n",
       "\n",
       "    .dataframe thead th {\n",
       "        text-align: right;\n",
       "    }\n",
       "</style>\n",
       "<table border=\"1\" class=\"dataframe\">\n",
       "  <thead>\n",
       "    <tr style=\"text-align: right;\">\n",
       "      <th></th>\n",
       "      <th>gmap_id</th>\n",
       "      <th>category</th>\n",
       "    </tr>\n",
       "  </thead>\n",
       "  <tbody>\n",
       "    <tr>\n",
       "      <th>12108</th>\n",
       "      <td>0x80dd2758e11fe2e1:0x7ba54cd5f00ece6b</td>\n",
       "      <td>Computer hardware manufacturer</td>\n",
       "    </tr>\n",
       "    <tr>\n",
       "      <th>12108</th>\n",
       "      <td>0x80dd2758e11fe2e1:0x7ba54cd5f00ece6b</td>\n",
       "      <td>Corporate office</td>\n",
       "    </tr>\n",
       "  </tbody>\n",
       "</table>\n",
       "</div>"
      ],
      "text/plain": [
       "                                     gmap_id                        category\n",
       "12108  0x80dd2758e11fe2e1:0x7ba54cd5f00ece6b  Computer hardware manufacturer\n",
       "12108  0x80dd2758e11fe2e1:0x7ba54cd5f00ece6b                Corporate office"
      ]
     },
     "execution_count": 40,
     "metadata": {},
     "output_type": "execute_result"
    }
   ],
   "source": [
    "crudo_filtro = crudo[crudo['gmap_id'] == '0x80dd2758e11fe2e1:0x7ba54cd5f00ece6b'] # este es el id de kingston\n",
    "crudo_filtro"
   ]
  },
  {
   "cell_type": "code",
   "execution_count": null,
   "metadata": {},
   "outputs": [
    {
     "data": {
      "text/html": [
       "<div>\n",
       "<style scoped>\n",
       "    .dataframe tbody tr th:only-of-type {\n",
       "        vertical-align: middle;\n",
       "    }\n",
       "\n",
       "    .dataframe tbody tr th {\n",
       "        vertical-align: top;\n",
       "    }\n",
       "\n",
       "    .dataframe thead th {\n",
       "        text-align: right;\n",
       "    }\n",
       "</style>\n",
       "<table border=\"1\" class=\"dataframe\">\n",
       "  <thead>\n",
       "    <tr style=\"text-align: right;\">\n",
       "      <th></th>\n",
       "      <th>gmap_id</th>\n",
       "      <th>category</th>\n",
       "    </tr>\n",
       "  </thead>\n",
       "  <tbody>\n",
       "    <tr>\n",
       "      <th>14580</th>\n",
       "      <td>0x80c2cd9c753dcb6f:0x55673eb3ab2a5585</td>\n",
       "      <td>Military recruiting office</td>\n",
       "    </tr>\n",
       "  </tbody>\n",
       "</table>\n",
       "</div>"
      ],
      "text/plain": [
       "                                     gmap_id                    category\n",
       "14580  0x80c2cd9c753dcb6f:0x55673eb3ab2a5585  Military recruiting office"
      ]
     },
     "execution_count": 41,
     "metadata": {},
     "output_type": "execute_result"
    }
   ],
   "source": [
    "crudo_filtro_1 = crudo[crudo['gmap_id'] == '0x80c2cd9c753dcb6f:0x55673eb3ab2a5585'] # este es el id de la marina \n",
    "crudo_filtro_1"
   ]
  },
  {
   "cell_type": "code",
   "execution_count": null,
   "metadata": {},
   "outputs": [
    {
     "data": {
      "text/html": [
       "<div>\n",
       "<style scoped>\n",
       "    .dataframe tbody tr th:only-of-type {\n",
       "        vertical-align: middle;\n",
       "    }\n",
       "\n",
       "    .dataframe tbody tr th {\n",
       "        vertical-align: top;\n",
       "    }\n",
       "\n",
       "    .dataframe thead th {\n",
       "        text-align: right;\n",
       "    }\n",
       "</style>\n",
       "<table border=\"1\" class=\"dataframe\">\n",
       "  <thead>\n",
       "    <tr style=\"text-align: right;\">\n",
       "      <th></th>\n",
       "      <th>gmap_id</th>\n",
       "      <th>category</th>\n",
       "    </tr>\n",
       "  </thead>\n",
       "  <tbody>\n",
       "    <tr>\n",
       "      <th>10559</th>\n",
       "      <td>0x89c88ebebf964d31:0xb6f3efd368968972</td>\n",
       "      <td>Industrial chemicals wholesaler</td>\n",
       "    </tr>\n",
       "    <tr>\n",
       "      <th>10559</th>\n",
       "      <td>0x89c88ebebf964d31:0xb6f3efd368968972</td>\n",
       "      <td>Chemical manufacturer</td>\n",
       "    </tr>\n",
       "  </tbody>\n",
       "</table>\n",
       "</div>"
      ],
      "text/plain": [
       "                                     gmap_id                         category\n",
       "10559  0x89c88ebebf964d31:0xb6f3efd368968972  Industrial chemicals wholesaler\n",
       "10559  0x89c88ebebf964d31:0xb6f3efd368968972            Chemical manufacturer"
      ]
     },
     "execution_count": 42,
     "metadata": {},
     "output_type": "execute_result"
    }
   ],
   "source": [
    "crudo_filtro_2 = crudo[crudo['gmap_id'] == '0x89c88ebebf964d31:0xb6f3efd368968972'] # este es el id de North Industrial Chemicals Inc\n",
    "crudo_filtro_2"
   ]
  },
  {
   "cell_type": "code",
   "execution_count": null,
   "metadata": {},
   "outputs": [
    {
     "data": {
      "text/html": [
       "<div>\n",
       "<style scoped>\n",
       "    .dataframe tbody tr th:only-of-type {\n",
       "        vertical-align: middle;\n",
       "    }\n",
       "\n",
       "    .dataframe tbody tr th {\n",
       "        vertical-align: top;\n",
       "    }\n",
       "\n",
       "    .dataframe thead th {\n",
       "        text-align: right;\n",
       "    }\n",
       "</style>\n",
       "<table border=\"1\" class=\"dataframe\">\n",
       "  <thead>\n",
       "    <tr style=\"text-align: right;\">\n",
       "      <th></th>\n",
       "      <th>gmap_id</th>\n",
       "      <th>category</th>\n",
       "    </tr>\n",
       "  </thead>\n",
       "  <tbody>\n",
       "    <tr>\n",
       "      <th>7681</th>\n",
       "      <td>0x863f395fc8d0ba67:0xe746c820e26f6638</td>\n",
       "      <td>Fishing charter</td>\n",
       "    </tr>\n",
       "    <tr>\n",
       "      <th>7681</th>\n",
       "      <td>0x863f395fc8d0ba67:0xe746c820e26f6638</td>\n",
       "      <td>Fishing club</td>\n",
       "    </tr>\n",
       "    <tr>\n",
       "      <th>7681</th>\n",
       "      <td>0x863f395fc8d0ba67:0xe746c820e26f6638</td>\n",
       "      <td>Hunting club</td>\n",
       "    </tr>\n",
       "  </tbody>\n",
       "</table>\n",
       "</div>"
      ],
      "text/plain": [
       "                                    gmap_id         category\n",
       "7681  0x863f395fc8d0ba67:0xe746c820e26f6638  Fishing charter\n",
       "7681  0x863f395fc8d0ba67:0xe746c820e26f6638     Fishing club\n",
       "7681  0x863f395fc8d0ba67:0xe746c820e26f6638     Hunting club"
      ]
     },
     "execution_count": 43,
     "metadata": {},
     "output_type": "execute_result"
    }
   ],
   "source": [
    "crudo_filtro_3 = crudo[crudo['gmap_id'] == '0x863f395fc8d0ba67:0xe746c820e26f6638'] # este es el id de cafeteria\n",
    "crudo_filtro_3"
   ]
  },
  {
   "cell_type": "code",
   "execution_count": null,
   "metadata": {},
   "outputs": [
    {
     "data": {
      "text/plain": [
       "gmap_id     32\n",
       "category    32\n",
       "dtype: int64"
      ]
     },
     "execution_count": 46,
     "metadata": {},
     "output_type": "execute_result"
    }
   ],
   "source": [
    "crudo_filtro_4 = crudo[crudo['gmap_id'] == '0x89c24484b823fed3:0x74f6329f85c4f381'] # este es el id que tiene 32 categorias.\n",
    "crudo_filtro_4.count()"
   ]
  },
  {
   "cell_type": "code",
   "execution_count": null,
   "metadata": {},
   "outputs": [
    {
     "data": {
      "text/html": [
       "<div>\n",
       "<style scoped>\n",
       "    .dataframe tbody tr th:only-of-type {\n",
       "        vertical-align: middle;\n",
       "    }\n",
       "\n",
       "    .dataframe tbody tr th {\n",
       "        vertical-align: top;\n",
       "    }\n",
       "\n",
       "    .dataframe thead th {\n",
       "        text-align: right;\n",
       "    }\n",
       "</style>\n",
       "<table border=\"1\" class=\"dataframe\">\n",
       "  <thead>\n",
       "    <tr style=\"text-align: right;\">\n",
       "      <th></th>\n",
       "      <th>gmap_id</th>\n",
       "      <th>category</th>\n",
       "    </tr>\n",
       "  </thead>\n",
       "  <tbody>\n",
       "    <tr>\n",
       "      <th>536</th>\n",
       "      <td>0x864c1f10c079a921:0x95710cd26231cc3</td>\n",
       "      <td>Mobility equipment supplier</td>\n",
       "    </tr>\n",
       "  </tbody>\n",
       "</table>\n",
       "</div>"
      ],
      "text/plain": [
       "                                  gmap_id                     category\n",
       "536  0x864c1f10c079a921:0x95710cd26231cc3  Mobility equipment supplier"
      ]
     },
     "execution_count": 47,
     "metadata": {},
     "output_type": "execute_result"
    }
   ],
   "source": [
    "\n",
    "\n",
    "crudo_filtro_5 = crudo[crudo['gmap_id'] == '0x864c1f10c079a921:0x95710cd26231cc3'] # 101 mobility es vino\n",
    "crudo_filtro_5\n"
   ]
  }
 ],
 "metadata": {
  "kernelspec": {
   "display_name": "AAentorno",
   "language": "python",
   "name": "python3"
  },
  "language_info": {
   "codemirror_mode": {
    "name": "ipython",
    "version": 3
   },
   "file_extension": ".py",
   "mimetype": "text/x-python",
   "name": "python",
   "nbconvert_exporter": "python",
   "pygments_lexer": "ipython3",
   "version": "3.11.0"
  }
 },
 "nbformat": 4,
 "nbformat_minor": 2
}
