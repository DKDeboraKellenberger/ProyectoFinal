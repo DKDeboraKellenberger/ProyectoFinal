{
 "cells": [
  {
   "cell_type": "code",
   "execution_count": 4,
   "metadata": {},
   "outputs": [],
   "source": [
    "import pandas as pd"
   ]
  },
  {
   "cell_type": "code",
   "execution_count": 5,
   "metadata": {},
   "outputs": [
    {
     "name": "stderr",
     "output_type": "stream",
     "text": [
      "[nltk_data] Downloading package punkt_tab to C:\\Users\\mauri\\OneDrive\\E\n",
      "[nltk_data]     scritorio\\proyectogrupal\\AAentorno\\nltk_data...\n",
      "[nltk_data]   Package punkt_tab is already up-to-date!\n",
      "[nltk_data] Downloading package stopwords to C:\\Users\\mauri\\OneDrive\\E\n",
      "[nltk_data]     scritorio\\proyectogrupal\\AAentorno\\nltk_data...\n",
      "[nltk_data]   Package stopwords is already up-to-date!\n",
      "[nltk_data] Downloading package wordnet to C:\\Users\\mauri\\OneDrive\\Esc\n",
      "[nltk_data]     ritorio\\proyectogrupal\\AAentorno\\nltk_data...\n",
      "[nltk_data]   Package wordnet is already up-to-date!\n",
      "[nltk_data] Downloading package averaged_perceptron_tagger_eng to C:\\U\n",
      "[nltk_data]     sers\\mauri\\OneDrive\\Escritorio\\proyectogrupal\\AAentorn\n",
      "[nltk_data]     o\\nltk_data...\n",
      "[nltk_data]   Package averaged_perceptron_tagger_eng is already up-to-\n",
      "[nltk_data]       date!\n",
      "[nltk_data] Downloading package vader_lexicon to C:\\Users\\mauri\\OneDri\n",
      "[nltk_data]     ve\\Escritorio\\proyectogrupal\\AAentorno\\nltk_data...\n",
      "[nltk_data]   Package vader_lexicon is already up-to-date!\n"
     ]
    },
    {
     "data": {
      "text/plain": [
       "True"
      ]
     },
     "execution_count": 5,
     "metadata": {},
     "output_type": "execute_result"
    }
   ],
   "source": [
    "import nltk\n",
    "\n",
    "# Configurar la ruta de datos de NLTK en entorno virtual\n",
    "nltk.data.path.append('C:\\\\Users\\\\mauri\\\\OneDrive\\\\Escritorio\\\\proyectogrupal\\\\AAentorno\\\\nltk_data') # Usar tu propia ruta hacia el entorno virtual.\n",
    "\n",
    "# Descargar recursos necesarios\n",
    "nltk.download('punkt_tab', download_dir='C:\\\\Users\\\\mauri\\\\OneDrive\\\\Escritorio\\\\proyectogrupal\\\\AAentorno\\\\nltk_data')\n",
    "nltk.download('stopwords', download_dir='C:\\\\Users\\\\mauri\\\\OneDrive\\\\Escritorio\\\\proyectogrupal\\\\AAentorno\\\\nltk_data')\n",
    "nltk.download('wordnet', download_dir='C:\\\\Users\\\\mauri\\\\OneDrive\\\\Escritorio\\\\proyectogrupal\\\\AAentorno\\\\nltk_data')\n",
    "nltk.download('averaged_perceptron_tagger_eng', download_dir='C:\\\\Users\\\\mauri\\\\OneDrive\\\\Escritorio\\\\proyectogrupal\\\\AAentorno\\\\nltk_data')\n",
    "nltk.download('vader_lexicon', download_dir='C:\\\\Users\\\\mauri\\\\OneDrive\\\\Escritorio\\\\proyectogrupal\\\\AAentorno\\\\nltk_data')"
   ]
  },
  {
   "cell_type": "code",
   "execution_count": 6,
   "metadata": {},
   "outputs": [
    {
     "name": "stdout",
     "output_type": "stream",
     "text": [
      "<class 'pandas.core.frame.DataFrame'>\n",
      "Index: 150731 entries, 0 to 258580\n",
      "Data columns (total 10 columns):\n",
      " #   Column      Non-Null Count   Dtype         \n",
      "---  ------      --------------   -----         \n",
      " 0   review_id   150731 non-null  int64         \n",
      " 1   id_negocio  150731 non-null  object        \n",
      " 2   estado      150731 non-null  object        \n",
      " 3   user_id     150731 non-null  object        \n",
      " 4   name        150731 non-null  object        \n",
      " 5   time        150731 non-null  datetime64[ns]\n",
      " 6   rating      150731 non-null  int64         \n",
      " 7   text        150731 non-null  object        \n",
      " 8   resp_text   25604 non-null   object        \n",
      " 9   resp_time   25604 non-null   datetime64[ns]\n",
      "dtypes: datetime64[ns](2), int64(2), object(6)\n",
      "memory usage: 12.6+ MB\n"
     ]
    }
   ],
   "source": [
    "reviews = pd.read_parquet(r'C:\\Users\\mauri\\OneDrive\\Escritorio\\proyectogrupal\\data\\g_5_estados_seleccionados (1).parquet', engine='pyarrow')\n",
    "reviews = reviews.dropna(subset=['text'])\n",
    "reviews.info()"
   ]
  },
  {
   "cell_type": "code",
   "execution_count": 7,
   "metadata": {},
   "outputs": [],
   "source": [
    "from preprocess import preprocess_text\n",
    "\n",
    "# Aplicar la función de preprocesamiento, tokenizacion, lemmatizacion y eliminacion de nombres propios'\n",
    "reviews['text'] = reviews['text'].apply(preprocess_text)"
   ]
  },
  {
   "cell_type": "code",
   "execution_count": 8,
   "metadata": {},
   "outputs": [],
   "source": [
    "from nltk.sentiment import SentimentIntensityAnalyzer\n",
    "\n",
    "sia = SentimentIntensityAnalyzer()\n",
    "\n",
    "def get_sentiment_label(text):\n",
    "    score = sia.polarity_scores(text)['compound']\n",
    "    if score > 0.05:\n",
    "        return 'buena'\n",
    "    elif score < -0.05:\n",
    "        return 'mala'\n",
    "    else:\n",
    "        return 'neutra'\n",
    "\n",
    "reviews['sentiment'] = reviews['text'].apply(get_sentiment_label)"
   ]
  },
  {
   "cell_type": "code",
   "execution_count": 15,
   "metadata": {},
   "outputs": [],
   "source": [
    "testeo = reviews[['rating','text','sentiment']]"
   ]
  },
  {
   "cell_type": "code",
   "execution_count": 16,
   "metadata": {},
   "outputs": [],
   "source": [
    "testeo.to_csv('../../data/reviews.csv')"
   ]
  }
 ],
 "metadata": {
  "kernelspec": {
   "display_name": "AAentorno",
   "language": "python",
   "name": "python3"
  },
  "language_info": {
   "codemirror_mode": {
    "name": "ipython",
    "version": 3
   },
   "file_extension": ".py",
   "mimetype": "text/x-python",
   "name": "python",
   "nbconvert_exporter": "python",
   "pygments_lexer": "ipython3",
   "version": "3.11.0"
  }
 },
 "nbformat": 4,
 "nbformat_minor": 2
}
